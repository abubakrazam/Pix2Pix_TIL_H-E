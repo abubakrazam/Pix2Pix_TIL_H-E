{
 "cells": [
  {
   "cell_type": "code",
   "execution_count": 1,
   "id": "25a47c67",
   "metadata": {},
   "outputs": [],
   "source": [
    "from glob import glob\n",
    "import pandas as pd"
   ]
  },
  {
   "cell_type": "code",
   "execution_count": 6,
   "id": "3066da61",
   "metadata": {},
   "outputs": [],
   "source": [
    "files=glob(\"../../Processed_Data/Cell Counts/onco_sg_trial/17*/*.csv\")"
   ]
  },
  {
   "cell_type": "code",
   "execution_count": 7,
   "id": "1fc491af",
   "metadata": {},
   "outputs": [
    {
     "data": {
      "text/plain": [
       "['../../Processed_Data/Cell Counts/onco_sg_trial/17_May_2024/onco_sg_same.csv',\n",
       " '../../Processed_Data/Cell Counts/onco_sg_trial/17_May_2024/onco_sg_serial.csv']"
      ]
     },
     "execution_count": 7,
     "metadata": {},
     "output_type": "execute_result"
    }
   ],
   "source": [
    "files"
   ]
  },
  {
   "cell_type": "code",
   "execution_count": 8,
   "id": "667cd9f8",
   "metadata": {},
   "outputs": [
    {
     "name": "stdout",
     "output_type": "stream",
     "text": [
      "  Patient name Image Type  All nuclei  CD3+ Nuclei\n",
      "0         A006     acinar        1188          809\n",
      "1         A008   paillary         985          484\n",
      "2         A012     acinar         681          262\n",
      "3         A015     acinar        1395          924\n",
      "4         A016      solid         437           57\n",
      "  Patient name Image Type  All nuclei  CD3+ Nuclei\n",
      "0         A006     acinar        1188          850\n",
      "1         A008   paillary         985          475\n",
      "2         A012     acinar         681          301\n",
      "3         A015     acinar        1395          981\n",
      "4         A016      solid         437           57\n"
     ]
    }
   ],
   "source": [
    "f1=pd.read_csv(files[0],index_col=None)\n",
    "f2=pd.read_csv(files[1],index_col=None)\n",
    "print(f1.head())\n",
    "print(f2.head())"
   ]
  },
  {
   "cell_type": "code",
   "execution_count": 10,
   "id": "49df85e7",
   "metadata": {},
   "outputs": [],
   "source": [
    "f1_set=sorted(set(f1[\"Patient name\"]))\n",
    "f2_set=sorted(set(f2[\"Patient name\"]))"
   ]
  },
  {
   "cell_type": "code",
   "execution_count": 11,
   "id": "af12c47e",
   "metadata": {},
   "outputs": [],
   "source": [
    "\n",
    "l1_f=[]\n",
    "for f in f1_set:\n",
    "    lst=[]\n",
    "\n",
    "    for a in f1.iloc:\n",
    "        \n",
    "        if(a[\"Patient name\"]==f):\n",
    "            x=(a[\"CD3+ Nuclei\"])\n",
    "            y=(a[\"All nuclei\"])\n",
    "            z=x/y\n",
    "            lst.append(z)\n",
    "    l1_f.append((sum(lst)/len(lst))*100)"
   ]
  },
  {
   "cell_type": "code",
   "execution_count": 12,
   "id": "0ba35425",
   "metadata": {},
   "outputs": [],
   "source": [
    "\n",
    "l2_f=[]\n",
    "for f in f2_set:\n",
    "    lst=[]\n",
    "\n",
    "    for b in f2.iloc:\n",
    "        \n",
    "        if(b[\"Patient name\"]==f):\n",
    "            x=(b[\"CD3+ Nuclei\"])\n",
    "            y=(b[\"All nuclei\"])\n",
    "            z=x/y\n",
    "            lst.append(z)\n",
    "    l2_f.append((sum(lst)/len(lst))*100)\n"
   ]
  },
  {
   "cell_type": "code",
   "execution_count": 13,
   "id": "f962de83",
   "metadata": {},
   "outputs": [],
   "source": [
    "p1=pd.DataFrame({\"Patient Name\":f1_set,\"Percentage\":l1_f})\n",
    "p2=pd.DataFrame({\"Patient Name\":f2_set,\"Percentage\":l2_f})"
   ]
  },
  {
   "cell_type": "code",
   "execution_count": 14,
   "id": "0b57669c",
   "metadata": {},
   "outputs": [],
   "source": [
    "p1.to_csv(files[0].split(\".csv\")[0]+\"_percentage.csv\",index=False)\n",
    "p2.to_csv(files[1].split(\".csv\")[0]+\"_percentage.csv\",index=False)"
   ]
  },
  {
   "cell_type": "code",
   "execution_count": 11,
   "id": "c60a8383",
   "metadata": {},
   "outputs": [
    {
     "data": {
      "text/plain": [
       "''"
      ]
     },
     "execution_count": 11,
     "metadata": {},
     "output_type": "execute_result"
    }
   ],
   "source": [
    "files[0].split(\".\")[0]"
   ]
  },
  {
   "cell_type": "code",
   "execution_count": null,
   "id": "5fb44bf7",
   "metadata": {},
   "outputs": [],
   "source": []
  }
 ],
 "metadata": {
  "kernelspec": {
   "display_name": "base",
   "language": "python",
   "name": "python3"
  },
  "language_info": {
   "codemirror_mode": {
    "name": "ipython",
    "version": 3
   },
   "file_extension": ".py",
   "mimetype": "text/x-python",
   "name": "python",
   "nbconvert_exporter": "python",
   "pygments_lexer": "ipython3",
   "version": "3.9.7"
  },
  "vscode": {
   "interpreter": {
    "hash": "ad2bdc8ecc057115af97d19610ffacc2b4e99fae6737bb82f5d7fb13d2f2c186"
   }
  }
 },
 "nbformat": 4,
 "nbformat_minor": 5
}
