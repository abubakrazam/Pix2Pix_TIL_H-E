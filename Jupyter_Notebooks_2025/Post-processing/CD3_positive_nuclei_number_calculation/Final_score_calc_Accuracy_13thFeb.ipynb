{
 "cells": [
  {
   "cell_type": "markdown",
   "id": "4684ffc5",
   "metadata": {},
   "source": [
    "For comparison of predicted and ground truth BINARY masks"
   ]
  },
  {
   "cell_type": "code",
   "execution_count": 80,
   "id": "3e2ae1ad",
   "metadata": {},
   "outputs": [
    {
     "data": {
      "text/plain": [
       "''"
      ]
     },
     "execution_count": 80,
     "metadata": {},
     "output_type": "execute_result"
    }
   ],
   "source": [
    "import numpy as np\n",
    "import cv2\n",
    "from glob import glob\n",
    "import os\n",
    "import seaborn as sns\n",
    "import matplotlib.pyplot as plt\n",
    "import pandas as pd\n",
    "import tkinter\n",
    "from tkinter import filedialog\n",
    "from sklearn.metrics import jaccard_score\n",
    "from sklearn.metrics import confusion_matrix\n",
    "tkinter.Tk().withdraw() # prevents an empty tkinter window from appearing"
   ]
  },
  {
   "cell_type": "code",
   "execution_count": 81,
   "id": "1931d327",
   "metadata": {},
   "outputs": [],
   "source": [
    "def greater_length(a, b):\n",
    "\n",
    "    if len(a)>len(b):\n",
    "        return a\n",
    "    \n",
    "    else:\n",
    "        return b"
   ]
  },
  {
   "cell_type": "code",
   "execution_count": 82,
   "id": "c37b14d5",
   "metadata": {},
   "outputs": [],
   "source": [
    "path1=filedialog.askdirectory(title='CD3P_GT')\n",
    "path2=filedialog.askdirectory(title='CD3N_GT')\n",
    "\n",
    "cd3p_gt=sorted(glob(path1+\"/*.npy\"))\n",
    "cd3n_gt=sorted(glob(path2+\"/*.npy\"))\n"
   ]
  },
  {
   "cell_type": "code",
   "execution_count": 83,
   "id": "4b7d3f7b",
   "metadata": {},
   "outputs": [],
   "source": [
    "path3=filedialog.askdirectory(title='CD3P_Pred')\n",
    "path4=filedialog.askdirectory(title='CD3N_Pred')\n",
    "cd3p_pred=sorted(glob(path3+\"/*.npy\"))\n",
    "cd3n_pred=sorted(glob(path4+\"/*.npy\"))"
   ]
  },
  {
   "cell_type": "code",
   "execution_count": 84,
   "id": "f93f0443",
   "metadata": {},
   "outputs": [
    {
     "name": "stdout",
     "output_type": "stream",
     "text": [
      "['/media/saab/f7ee81f1-4052-4c44-b470-0a4a650ee479/SGH_IMCB_NTU_Main/Raw_Data/CD68_Same/1-image extraction/clear_test/After/Data_Oversampled/npys/Test/gt/bn_nuclei_pred/000000.npy', '/media/saab/f7ee81f1-4052-4c44-b470-0a4a650ee479/SGH_IMCB_NTU_Main/Raw_Data/CD68_Same/1-image extraction/clear_test/After/Data_Oversampled/npys/Test/gt/bn_nuclei_pred/000001.npy']\n",
      "['/media/saab/f7ee81f1-4052-4c44-b470-0a4a650ee479/SGH_IMCB_NTU_Main/Raw_Data/CD68_Same/1-image extraction/clear_test/After/Data_Oversampled/npys/Test/preds/bn_nuclei_pred/000000.npy', '/media/saab/f7ee81f1-4052-4c44-b470-0a4a650ee479/SGH_IMCB_NTU_Main/Raw_Data/CD68_Same/1-image extraction/clear_test/After/Data_Oversampled/npys/Test/preds/bn_nuclei_pred/000001.npy']\n",
      "['/media/saab/f7ee81f1-4052-4c44-b470-0a4a650ee479/SGH_IMCB_NTU_Main/Raw_Data/CD68_Same/1-image extraction/clear_test/After/Data_Oversampled/npys/Test/gt/bn_nuclei_pred_n/000000.npy', '/media/saab/f7ee81f1-4052-4c44-b470-0a4a650ee479/SGH_IMCB_NTU_Main/Raw_Data/CD68_Same/1-image extraction/clear_test/After/Data_Oversampled/npys/Test/gt/bn_nuclei_pred_n/000001.npy']\n",
      "['/media/saab/f7ee81f1-4052-4c44-b470-0a4a650ee479/SGH_IMCB_NTU_Main/Raw_Data/CD68_Same/1-image extraction/clear_test/After/Data_Oversampled/npys/Test/preds/bn_nuclei_pred_n/000000.npy', '/media/saab/f7ee81f1-4052-4c44-b470-0a4a650ee479/SGH_IMCB_NTU_Main/Raw_Data/CD68_Same/1-image extraction/clear_test/After/Data_Oversampled/npys/Test/preds/bn_nuclei_pred_n/000001.npy']\n"
     ]
    }
   ],
   "source": [
    "print(cd3p_gt[:2])\n",
    "print(cd3p_pred[:2])\n",
    "print(cd3n_gt[:2])\n",
    "print(cd3n_pred[:2])"
   ]
  },
  {
   "cell_type": "code",
   "execution_count": 85,
   "id": "6846d8f2",
   "metadata": {},
   "outputs": [
    {
     "data": {
      "text/plain": [
       "True"
      ]
     },
     "execution_count": 85,
     "metadata": {},
     "output_type": "execute_result"
    }
   ],
   "source": [
    "#Simple check to ensure same non-zero number of images going in\n",
    "len(cd3p_gt)==len(cd3n_gt)==len(cd3n_pred)==len(cd3p_pred)!=0"
   ]
  },
  {
   "cell_type": "code",
   "execution_count": 86,
   "id": "283f4710",
   "metadata": {},
   "outputs": [],
   "source": [
    "path_store=filedialog.askdirectory(title='path for csv')"
   ]
  },
  {
   "cell_type": "code",
   "execution_count": 87,
   "id": "1cea069d",
   "metadata": {},
   "outputs": [
    {
     "data": {
      "text/plain": [
       "'/media/saab/f7ee81f1-4052-4c44-b470-0a4a650ee479/SGH_IMCB_NTU_Main/Raw_Data/CD68_Same/1-image extraction/clear_test/After/Data_Oversampled/npys/Test/preds'"
      ]
     },
     "execution_count": 87,
     "metadata": {},
     "output_type": "execute_result"
    }
   ],
   "source": [
    "path_store"
   ]
  },
  {
   "cell_type": "code",
   "execution_count": 88,
   "id": "1a4bea7c",
   "metadata": {
    "scrolled": true
   },
   "outputs": [],
   "source": [
    "l_p=[]\n",
    "\n",
    "lst_p=[]\n",
    "\n",
    "l_tf_p=[]\n",
    "\n",
    "lst_n=[]\n",
    "\n",
    "l_tf_n=[]\n",
    "\n",
    "data = pd.DataFrame(columns=['Name', 'TP', 'TN', 'FN', 'FP', 'Accuracy', 'F1 Score', 'Sensitivity', 'Specificity'])\n",
    "\n",
    "for i in range(len(cd3p_gt)):\n",
    "    \n",
    "    img1=np.load(cd3p_gt[i])\n",
    "    v1,c1=np.unique(img1,return_counts=True)\n",
    "    #print('gt_p:', v1)\n",
    "    dict1=dict(map(lambda i,j : (i,j) , v1,c1))\n",
    "    \n",
    "    img2=np.load(cd3n_gt[i])\n",
    "    v2,c2=np.unique(img2,return_counts=True)\n",
    "    dict2=dict(map(lambda i,j : (i,j) , v2,c2))\n",
    "\n",
    "    img3=np.load(cd3p_pred[i])\n",
    "    v3,c3=np.unique(img3,return_counts=True)\n",
    "    dict3=dict(map(lambda i,j : (i,j) , v3,c3))\n",
    "    \n",
    "    img4=np.load(cd3n_pred[i])\n",
    "    v4,c4=np.unique(img4,return_counts=True)\n",
    "    dict4=dict(map(lambda i,j : (i,j) , v4,c4))\n",
    "    common_gt=list(set(v1)&set(v2))\n",
    "\n",
    "    for x in common_gt:\n",
    "        if(dict1[x]>dict2[x]):\n",
    "            img2[img2==x]=0\n",
    "        else:\n",
    "            img1[img1==x]=0\n",
    "\n",
    "    \n",
    "    common_pred=list(set(v3)&set(v4))\n",
    "    for x in common_pred:\n",
    "        if(dict3[x]>dict4[x]):\n",
    "            img4[img4==x]=0\n",
    "        else:\n",
    "            img3[img3==x]=0\n",
    "        \n",
    "    gt_p = []\n",
    "    gt_n = []\n",
    "    pred_p = []\n",
    "    pred_n = []\n",
    "    \n",
    "    gt = []\n",
    "    pred = []\n",
    "\n",
    "    # Re-counting after removing any intersecting elements\n",
    "    v1,c1=np.unique(img1,return_counts=True)\n",
    "    gt_p = v1[(v1 != 0)]\n",
    "    \n",
    " \n",
    "    v2,c2=np.unique(img2,return_counts=True)\n",
    "    gt_n = v2[(v2 != 0)]\n",
    "    \n",
    "\n",
    "    v3,c3=np.unique(img3,return_counts=True)\n",
    "    pred_p = v3[~np.isin(v3, pred_p) & (v3 != 0)]\n",
    "\n",
    "    \n",
    "    v4,c4=np.unique(img4,return_counts=True)\n",
    "    pred_n = v4[~np.isin(v4, pred_n) & (v4 != 0)]\n",
    "\n",
    "    if len(gt_p)>=0:\n",
    "\n",
    "        tp = set(gt_p)&set(pred_p)\n",
    "        tn = set(gt_n)&set(pred_n)\n",
    "        fn = (set(pred_n)-(set(pred_n)&set(gt_n))).union(set(gt_p)-set(pred_p))\n",
    "        fp = (set(pred_p)-(set(pred_p)&set(gt_p))).union(set(gt_n)-set(pred_n))\n",
    "        \n",
    "\n",
    "        \n",
    "        #print(len(v4))\n",
    "        #print(\"next\")\n",
    "        #img3=img1*np.logical_and(img1,img2)\n",
    "        \n",
    "    \n",
    "        #img6=img4*np.logical_and(img4,img5)\n",
    "\n",
    "        if not (len(tp)==0 and len(tn)==0 and len(fn)==0 and len(fp)==0):\n",
    "\n",
    "            if (len(tp)+len(fn))>0 and ((len(tn)+len(fp)))>0 and (len(tp)+len(fp)):\n",
    "\n",
    "                precision = len(tp)/(len(tp)+len(fp))\n",
    "                recall = len(tp)/(len(tp)+len(fn))\n",
    "\n",
    "                if (precision+recall)>0:\n",
    "\n",
    "                    f1_score = 2*(precision*recall)/(precision+recall)\n",
    "\n",
    "                    data = data.append({'Name': cd3p_gt[i].split(\"/\")[-1], 'TP': len(tp), 'TN': len(tn), 'FN': len(fn), 'FP': len(fp), 'Accuracy': (len(tp)+len(tn))/(len(tp)+len(tn)+len(fp)+len(fn)), 'F1 Score': f1_score, 'Sensitivity': ((len(tp))/(len(tp)+len(fn))), 'Specificity': ((len(tn))/(len(tn)+len(fp)))}, ignore_index=True)\n",
    "\n",
    "        \n",
    "        l_p.append(cd3p_gt[i].split(\"/\")[-1])\n",
    "        \n",
    "        lst_p.append(len(v1))\n",
    "        l_tf_p.append(len(v3))\n",
    "        #l_tf_p.append(len(set(v1)&set(v3)))\n",
    "        \n",
    "    \n",
    "        \n",
    "        \n",
    "        lst_n.append(len(v2))\n",
    "        l_tf_n.append(len(v4))\n",
    "        \n",
    "        #l_tf_n.append(len(set(v2)&set(v4)))\n",
    "        \n",
    "#a1=np.average(lst)\n",
    "#a2=np.average(l_tf)\n",
    "#lst_p.append(a1)\n",
    "#l_tf_p.append(a2)\n",
    "#lst_p.append(a1)\n",
    "#l_tf_p.append(a2)\n",
    "#l_p.append(\"Total\")\n",
    "#path3\n",
    "data.to_csv(path_store+\"/serial_test_17May_intersect.csv\",index=False)\n",
    "df2=pd.DataFrame({'name': l_p,'GT_CD3P':lst_p,'Pred_CD3P':l_tf_p,'GT_CD3N':lst_n,'Pred_CD3N':l_tf_n})\n",
    "df2.to_csv(path_store+\"/serial_test_17May.csv\",index=False)"
   ]
  },
  {
   "cell_type": "code",
   "execution_count": 89,
   "id": "96ea1e7e",
   "metadata": {},
   "outputs": [],
   "source": [
    "img1=np.load(cd3p_gt[34])\n",
    "v1,c1=np.unique(img1,return_counts=True)\n",
    "#print('gt_p:', v1)\n",
    "dict1=dict(map(lambda i,j : (i,j) , v1,c1))\n",
    "\n",
    "img2=np.load(cd3n_gt[34])\n",
    "v2,c2=np.unique(img2,return_counts=True)\n",
    "dict2=dict(map(lambda i,j : (i,j) , v2,c2))\n",
    "\n",
    "img3=np.load(cd3p_pred[34])\n",
    "v3,c3=np.unique(img3,return_counts=True)\n",
    "dict3=dict(map(lambda i,j : (i,j) , v3,c3))\n",
    "\n",
    "img4=np.load(cd3n_pred[34])"
   ]
  },
  {
   "cell_type": "code",
   "execution_count": 90,
   "id": "bee1048d",
   "metadata": {},
   "outputs": [
    {
     "data": {
      "text/plain": [
       "'/media/saab/f7ee81f1-4052-4c44-b470-0a4a650ee479/SGH_IMCB_NTU_Main/Raw_Data/CD68_Same/1-image extraction/clear_test/After/Data_Oversampled/npys/Test/preds/bn_nuclei_pred_n/000000.npy'"
      ]
     },
     "execution_count": 90,
     "metadata": {},
     "output_type": "execute_result"
    }
   ],
   "source": [
    "cd3n_pred[0]"
   ]
  },
  {
   "cell_type": "code",
   "execution_count": 91,
   "id": "c613e0ba",
   "metadata": {},
   "outputs": [],
   "source": [
    "\n",
    "i=35\n",
    "img1=np.load(cd3p_gt[i])\n",
    "v1,c1=np.unique(img1,return_counts=True)\n",
    "#print('gt_p:', v1)\n",
    "dict1=dict(map(lambda i,j : (i,j) , v1,c1))\n",
    "\n",
    "img2=np.load(cd3n_gt[i])\n",
    "v2,c2=np.unique(img2,return_counts=True)\n",
    "dict2=dict(map(lambda i,j : (i,j) , v2,c2))\n",
    "\n",
    "img3=np.load(cd3p_pred[i])\n",
    "v3,c3=np.unique(img3,return_counts=True)\n",
    "dict3=dict(map(lambda i,j : (i,j) , v3,c3))\n",
    "\n",
    "img4=np.load(cd3n_pred[i])\n",
    "v4,c4=np.unique(img4,return_counts=True)\n",
    "dict4=dict(map(lambda i,j : (i,j) , v4,c4))\n",
    "common_gt=list(set(v1)&set(v2))"
   ]
  },
  {
   "cell_type": "code",
   "execution_count": 92,
   "id": "59deb774",
   "metadata": {},
   "outputs": [],
   "source": [
    "common_gt=list(set(v1)&set(v2))\n",
    "\n",
    "for x in common_gt:\n",
    "    if(dict1[x]>dict2[x]):\n",
    "        img2[img2==x]=0\n",
    "    else:\n",
    "        img1[img1==x]=0\n",
    "\n",
    "\n",
    "common_pred=list(set(v3)&set(v4))\n",
    "for x in common_pred:\n",
    "    if(dict3[x]>dict4[x]):\n",
    "        img4[img4==x]=0\n",
    "    else:\n",
    "        img3[img3==x]=0"
   ]
  },
  {
   "cell_type": "code",
   "execution_count": null,
   "id": "a31912a7",
   "metadata": {},
   "outputs": [],
   "source": []
  },
  {
   "cell_type": "code",
   "execution_count": 93,
   "id": "1b74aad9",
   "metadata": {},
   "outputs": [],
   "source": [
    "v1,c1=np.unique(img1,return_counts=True)\n",
    "\n",
    "\n",
    "\n",
    "v2,c2=np.unique(img2,return_counts=True)\n",
    "\n",
    "\n",
    "\n",
    "v3,c3=np.unique(img3,return_counts=True)\n",
    "\n",
    "\n",
    "\n",
    "v4,c4=np.unique(img4,return_counts=True)\n"
   ]
  },
  {
   "cell_type": "code",
   "execution_count": 94,
   "id": "8123dad7",
   "metadata": {},
   "outputs": [
    {
     "data": {
      "text/plain": [
       "<matplotlib.image.AxesImage at 0x7fa02e952c10>"
      ]
     },
     "execution_count": 94,
     "metadata": {},
     "output_type": "execute_result"
    },
    {
     "data": {
      "image/png": "[encoded data removed]",
      "text/plain": [
       "<Figure size 432x288 with 1 Axes>"
      ]
     },
     "metadata": {
      "needs_background": "light"
     },
     "output_type": "display_data"
    }
   ],
   "source": [
    "plt.imshow(img2+img1)"
   ]
  },
  {
   "cell_type": "code",
   "execution_count": 95,
   "id": "957a6f8c",
   "metadata": {},
   "outputs": [
    {
     "data": {
      "text/plain": [
       "<matplotlib.image.AxesImage at 0x7fa03a27e3d0>"
      ]
     },
     "execution_count": 95,
     "metadata": {},
     "output_type": "execute_result"
    },
    {
     "data": {
      "image/png": "[encoded data removed]",
      "text/plain": [
       "<Figure size 432x288 with 1 Axes>"
      ]
     },
     "metadata": {
      "needs_background": "light"
     },
     "output_type": "display_data"
    }
   ],
   "source": [
    "plt.imshow(img4+img3)"
   ]
  },
  {
   "cell_type": "code",
   "execution_count": 96,
   "id": "6be32be3",
   "metadata": {},
   "outputs": [
    {
     "data": {
      "text/plain": [
       "30"
      ]
     },
     "execution_count": 96,
     "metadata": {},
     "output_type": "execute_result"
    }
   ],
   "source": [
    "len(v4)"
   ]
  },
  {
   "cell_type": "code",
   "execution_count": 97,
   "id": "7962f41f",
   "metadata": {},
   "outputs": [
    {
     "data": {
      "text/plain": [
       "30"
      ]
     },
     "execution_count": 97,
     "metadata": {},
     "output_type": "execute_result"
    }
   ],
   "source": [
    "len(v2)"
   ]
  },
  {
   "cell_type": "code",
   "execution_count": 98,
   "id": "8b95b35c",
   "metadata": {},
   "outputs": [
    {
     "data": {
      "text/plain": [
       "1"
      ]
     },
     "execution_count": 98,
     "metadata": {},
     "output_type": "execute_result"
    }
   ],
   "source": [
    "len(v3)"
   ]
  },
  {
   "cell_type": "code",
   "execution_count": 99,
   "id": "ec818715",
   "metadata": {},
   "outputs": [
    {
     "data": {
      "text/plain": [
       "30"
      ]
     },
     "execution_count": 99,
     "metadata": {},
     "output_type": "execute_result"
    }
   ],
   "source": [
    "len(v4)"
   ]
  },
  {
   "cell_type": "code",
   "execution_count": 100,
   "id": "73ff1e99",
   "metadata": {},
   "outputs": [
    {
     "data": {
      "text/html": [
       "<div>\n",
       "<style scoped>\n",
       "    .dataframe tbody tr th:only-of-type {\n",
       "        vertical-align: middle;\n",
       "    }\n",
       "\n",
       "    .dataframe tbody tr th {\n",
       "        vertical-align: top;\n",
       "    }\n",
       "\n",
       "    .dataframe thead th {\n",
       "        text-align: right;\n",
       "    }\n",
       "</style>\n",
       "<table border=\"1\" class=\"dataframe\">\n",
       "  <thead>\n",
       "    <tr style=\"text-align: right;\">\n",
       "      <th></th>\n",
       "      <th>name</th>\n",
       "      <th>GT_CD3P</th>\n",
       "      <th>Pred_CD3P</th>\n",
       "      <th>GT_CD3N</th>\n",
       "      <th>Pred_CD3N</th>\n",
       "    </tr>\n",
       "  </thead>\n",
       "  <tbody>\n",
       "    <tr>\n",
       "      <th>0</th>\n",
       "      <td>000000.npy</td>\n",
       "      <td>2</td>\n",
       "      <td>1</td>\n",
       "      <td>2</td>\n",
       "      <td>3</td>\n",
       "    </tr>\n",
       "    <tr>\n",
       "      <th>1</th>\n",
       "      <td>000001.npy</td>\n",
       "      <td>3</td>\n",
       "      <td>1</td>\n",
       "      <td>1</td>\n",
       "      <td>3</td>\n",
       "    </tr>\n",
       "    <tr>\n",
       "      <th>2</th>\n",
       "      <td>000002.npy</td>\n",
       "      <td>3</td>\n",
       "      <td>1</td>\n",
       "      <td>8</td>\n",
       "      <td>10</td>\n",
       "    </tr>\n",
       "    <tr>\n",
       "      <th>3</th>\n",
       "      <td>000003.npy</td>\n",
       "      <td>3</td>\n",
       "      <td>1</td>\n",
       "      <td>9</td>\n",
       "      <td>11</td>\n",
       "    </tr>\n",
       "    <tr>\n",
       "      <th>4</th>\n",
       "      <td>000004.npy</td>\n",
       "      <td>1</td>\n",
       "      <td>1</td>\n",
       "      <td>1</td>\n",
       "      <td>1</td>\n",
       "    </tr>\n",
       "    <tr>\n",
       "      <th>...</th>\n",
       "      <td>...</td>\n",
       "      <td>...</td>\n",
       "      <td>...</td>\n",
       "      <td>...</td>\n",
       "      <td>...</td>\n",
       "    </tr>\n",
       "    <tr>\n",
       "      <th>489</th>\n",
       "      <td>000489.npy</td>\n",
       "      <td>4</td>\n",
       "      <td>1</td>\n",
       "      <td>11</td>\n",
       "      <td>14</td>\n",
       "    </tr>\n",
       "    <tr>\n",
       "      <th>490</th>\n",
       "      <td>000490.npy</td>\n",
       "      <td>5</td>\n",
       "      <td>1</td>\n",
       "      <td>13</td>\n",
       "      <td>17</td>\n",
       "    </tr>\n",
       "    <tr>\n",
       "      <th>491</th>\n",
       "      <td>000491.npy</td>\n",
       "      <td>1</td>\n",
       "      <td>1</td>\n",
       "      <td>1</td>\n",
       "      <td>1</td>\n",
       "    </tr>\n",
       "    <tr>\n",
       "      <th>492</th>\n",
       "      <td>000492.npy</td>\n",
       "      <td>5</td>\n",
       "      <td>1</td>\n",
       "      <td>11</td>\n",
       "      <td>15</td>\n",
       "    </tr>\n",
       "    <tr>\n",
       "      <th>493</th>\n",
       "      <td>000493.npy</td>\n",
       "      <td>1</td>\n",
       "      <td>1</td>\n",
       "      <td>14</td>\n",
       "      <td>14</td>\n",
       "    </tr>\n",
       "  </tbody>\n",
       "</table>\n",
       "<p>494 rows × 5 columns</p>\n",
       "</div>"
      ],
      "text/plain": [
       "           name  GT_CD3P  Pred_CD3P  GT_CD3N  Pred_CD3N\n",
       "0    000000.npy        2          1        2          3\n",
       "1    000001.npy        3          1        1          3\n",
       "2    000002.npy        3          1        8         10\n",
       "3    000003.npy        3          1        9         11\n",
       "4    000004.npy        1          1        1          1\n",
       "..          ...      ...        ...      ...        ...\n",
       "489  000489.npy        4          1       11         14\n",
       "490  000490.npy        5          1       13         17\n",
       "491  000491.npy        1          1        1          1\n",
       "492  000492.npy        5          1       11         15\n",
       "493  000493.npy        1          1       14         14\n",
       "\n",
       "[494 rows x 5 columns]"
      ]
     },
     "execution_count": 100,
     "metadata": {},
     "output_type": "execute_result"
    }
   ],
   "source": [
    "df2=pd.DataFrame({'name': l_p,'GT_CD3P':lst_p,'Pred_CD3P':l_tf_p,'GT_CD3N':lst_n,'Pred_CD3N':l_tf_n})\n",
    "df2"
   ]
  },
  {
   "cell_type": "code",
   "execution_count": 101,
   "id": "21cf2dd5",
   "metadata": {},
   "outputs": [],
   "source": [
    "df2.to_csv(path_store+\"/CD68_Same_section_gt_July2024.csv\",index=False)"
   ]
  },
  {
   "cell_type": "code",
   "execution_count": 102,
   "id": "55c56265",
   "metadata": {},
   "outputs": [
    {
     "data": {
      "text/html": [
       "<div>\n",
       "<style scoped>\n",
       "    .dataframe tbody tr th:only-of-type {\n",
       "        vertical-align: middle;\n",
       "    }\n",
       "\n",
       "    .dataframe tbody tr th {\n",
       "        vertical-align: top;\n",
       "    }\n",
       "\n",
       "    .dataframe thead th {\n",
       "        text-align: right;\n",
       "    }\n",
       "</style>\n",
       "<table border=\"1\" class=\"dataframe\">\n",
       "  <thead>\n",
       "    <tr style=\"text-align: right;\">\n",
       "      <th></th>\n",
       "      <th>name</th>\n",
       "      <th>GT_CD3P</th>\n",
       "      <th>Pred_CD3P</th>\n",
       "      <th>GT_CD3N</th>\n",
       "      <th>Pred_CD3N</th>\n",
       "    </tr>\n",
       "  </thead>\n",
       "  <tbody>\n",
       "    <tr>\n",
       "      <th>0</th>\n",
       "      <td>000000.npy</td>\n",
       "      <td>2</td>\n",
       "      <td>1</td>\n",
       "      <td>2</td>\n",
       "      <td>3</td>\n",
       "    </tr>\n",
       "    <tr>\n",
       "      <th>1</th>\n",
       "      <td>000001.npy</td>\n",
       "      <td>3</td>\n",
       "      <td>1</td>\n",
       "      <td>1</td>\n",
       "      <td>3</td>\n",
       "    </tr>\n",
       "    <tr>\n",
       "      <th>2</th>\n",
       "      <td>000002.npy</td>\n",
       "      <td>3</td>\n",
       "      <td>1</td>\n",
       "      <td>8</td>\n",
       "      <td>10</td>\n",
       "    </tr>\n",
       "    <tr>\n",
       "      <th>3</th>\n",
       "      <td>000003.npy</td>\n",
       "      <td>3</td>\n",
       "      <td>1</td>\n",
       "      <td>9</td>\n",
       "      <td>11</td>\n",
       "    </tr>\n",
       "    <tr>\n",
       "      <th>4</th>\n",
       "      <td>000004.npy</td>\n",
       "      <td>1</td>\n",
       "      <td>1</td>\n",
       "      <td>1</td>\n",
       "      <td>1</td>\n",
       "    </tr>\n",
       "    <tr>\n",
       "      <th>...</th>\n",
       "      <td>...</td>\n",
       "      <td>...</td>\n",
       "      <td>...</td>\n",
       "      <td>...</td>\n",
       "      <td>...</td>\n",
       "    </tr>\n",
       "    <tr>\n",
       "      <th>489</th>\n",
       "      <td>000489.npy</td>\n",
       "      <td>4</td>\n",
       "      <td>1</td>\n",
       "      <td>11</td>\n",
       "      <td>14</td>\n",
       "    </tr>\n",
       "    <tr>\n",
       "      <th>490</th>\n",
       "      <td>000490.npy</td>\n",
       "      <td>5</td>\n",
       "      <td>1</td>\n",
       "      <td>13</td>\n",
       "      <td>17</td>\n",
       "    </tr>\n",
       "    <tr>\n",
       "      <th>491</th>\n",
       "      <td>000491.npy</td>\n",
       "      <td>1</td>\n",
       "      <td>1</td>\n",
       "      <td>1</td>\n",
       "      <td>1</td>\n",
       "    </tr>\n",
       "    <tr>\n",
       "      <th>492</th>\n",
       "      <td>000492.npy</td>\n",
       "      <td>5</td>\n",
       "      <td>1</td>\n",
       "      <td>11</td>\n",
       "      <td>15</td>\n",
       "    </tr>\n",
       "    <tr>\n",
       "      <th>493</th>\n",
       "      <td>000493.npy</td>\n",
       "      <td>1</td>\n",
       "      <td>1</td>\n",
       "      <td>14</td>\n",
       "      <td>14</td>\n",
       "    </tr>\n",
       "  </tbody>\n",
       "</table>\n",
       "<p>494 rows × 5 columns</p>\n",
       "</div>"
      ],
      "text/plain": [
       "           name  GT_CD3P  Pred_CD3P  GT_CD3N  Pred_CD3N\n",
       "0    000000.npy        2          1        2          3\n",
       "1    000001.npy        3          1        1          3\n",
       "2    000002.npy        3          1        8         10\n",
       "3    000003.npy        3          1        9         11\n",
       "4    000004.npy        1          1        1          1\n",
       "..          ...      ...        ...      ...        ...\n",
       "489  000489.npy        4          1       11         14\n",
       "490  000490.npy        5          1       13         17\n",
       "491  000491.npy        1          1        1          1\n",
       "492  000492.npy        5          1       11         15\n",
       "493  000493.npy        1          1       14         14\n",
       "\n",
       "[494 rows x 5 columns]"
      ]
     },
     "execution_count": 102,
     "metadata": {},
     "output_type": "execute_result"
    }
   ],
   "source": [
    "df2"
   ]
  },
  {
   "cell_type": "code",
   "execution_count": 103,
   "id": "07b74db9",
   "metadata": {},
   "outputs": [
    {
     "data": {
      "text/html": [
       "<div>\n",
       "<style scoped>\n",
       "    .dataframe tbody tr th:only-of-type {\n",
       "        vertical-align: middle;\n",
       "    }\n",
       "\n",
       "    .dataframe tbody tr th {\n",
       "        vertical-align: top;\n",
       "    }\n",
       "\n",
       "    .dataframe thead th {\n",
       "        text-align: right;\n",
       "    }\n",
       "</style>\n",
       "<table border=\"1\" class=\"dataframe\">\n",
       "  <thead>\n",
       "    <tr style=\"text-align: right;\">\n",
       "      <th></th>\n",
       "      <th>Name</th>\n",
       "      <th>TP</th>\n",
       "      <th>TN</th>\n",
       "      <th>FN</th>\n",
       "      <th>FP</th>\n",
       "      <th>Accuracy</th>\n",
       "      <th>F1 Score</th>\n",
       "      <th>Sensitivity</th>\n",
       "      <th>Specificity</th>\n",
       "    </tr>\n",
       "  </thead>\n",
       "  <tbody>\n",
       "  </tbody>\n",
       "</table>\n",
       "</div>"
      ],
      "text/plain": [
       "Empty DataFrame\n",
       "Columns: [Name, TP, TN, FN, FP, Accuracy, F1 Score, Sensitivity, Specificity]\n",
       "Index: []"
      ]
     },
     "execution_count": 103,
     "metadata": {},
     "output_type": "execute_result"
    }
   ],
   "source": [
    "data #accuracy, f1, auc/roc graph"
   ]
  },
  {
   "cell_type": "code",
   "execution_count": 104,
   "id": "5f7ad459",
   "metadata": {},
   "outputs": [
    {
     "data": {
      "image/png": "[encoded data removed]",
      "text/plain": [
       "<Figure size 1440x864 with 1 Axes>"
      ]
     },
     "metadata": {
      "needs_background": "light"
     },
     "output_type": "display_data"
    }
   ],
   "source": [
    "accuracy_scores = data['Accuracy']\n",
    "f1_scores = data['F1 Score']\n",
    "sens = data['Sensitivity']\n",
    "spec = data['Specificity']\n",
    "\n",
    "\n",
    "# Create a DataFrame for box plot\n",
    "data_for_box_plot = pd.DataFrame({'Accuracy': accuracy_scores, 'F1 Score': f1_scores, 'Sensitivity': sens, 'Specificity': spec})\n",
    "\n",
    "# Create box plots using Seaborn\n",
    "plt.figure(figsize=(20, 12))\n",
    "sns.boxplot(data=data_for_box_plot, palette='Set2')\n",
    "\n",
    "# Set plot labels and title\n",
    "plt.xlabel('Metrics')\n",
    "plt.ylabel('Scores')\n",
    "plt.title('Box Plots of Accuracy, F1 Scores, Sensitivity and Specificity')\n",
    "\n",
    "# Show the plot\n",
    "plt.show()"
   ]
  },
  {
   "cell_type": "code",
   "execution_count": 105,
   "id": "bca662ba",
   "metadata": {},
   "outputs": [
    {
     "name": "stderr",
     "output_type": "stream",
     "text": [
      "/tmp/ipykernel_2222402/641481658.py:16: UserWarning: Ignoring `palette` because no `hue` variable has been assigned.\n",
      "  sns.kdeplot(data=data_for_kde_plot, fill=True, palette='Set2', common_norm=False)\n"
     ]
    },
    {
     "data": {
      "image/png": "[encoded data removed]",
      "text/plain": [
       "<Figure size 1080x720 with 1 Axes>"
      ]
     },
     "metadata": {
      "needs_background": "light"
     },
     "output_type": "display_data"
    }
   ],
   "source": [
    "accuracy_scores = data['Accuracy']\n",
    "f1_scores = data['F1 Score']\n",
    "sensitivity_scores = data['Sensitivity']\n",
    "specificity_scores = data['Specificity']\n",
    "\n",
    "# Create a DataFrame for KDE plot\n",
    "data_for_kde_plot = pd.DataFrame({\n",
    "    'Accuracy': accuracy_scores,\n",
    "    'F1 Score': f1_scores,\n",
    "    'Sensitivity': sensitivity_scores,\n",
    "    'Specificity': specificity_scores\n",
    "})\n",
    "\n",
    "# Create KDE plots using Seaborn\n",
    "plt.figure(figsize=(15, 10))\n",
    "sns.kdeplot(data=data_for_kde_plot, fill=True, palette='Set2', common_norm=False)\n",
    "\n",
    "# Set plot labels and title\n",
    "plt.xlabel('Scores')\n",
    "plt.ylabel('Kernel Density Estimate')\n",
    "plt.title('KDE Plot for Accuracy, F1 Score, Sensitivity, and Specificity')\n",
    "\n",
    "# Show the plot\n",
    "plt.show()"
   ]
  },
  {
   "cell_type": "code",
   "execution_count": 27,
   "id": "418384d6",
   "metadata": {},
   "outputs": [
    {
     "ename": "NameError",
     "evalue": "name 'img5' is not defined",
     "output_type": "error",
     "traceback": [
      "\u001b[0;31m---------------------------------------------------------------------------\u001b[0m",
      "\u001b[0;31mNameError\u001b[0m                                 Traceback (most recent call last)",
      "\u001b[0;32m/tmp/ipykernel_603034/1704423089.py\u001b[0m in \u001b[0;36m<module>\u001b[0;34m\u001b[0m\n\u001b[1;32m      1\u001b[0m \u001b[0mplt\u001b[0m\u001b[0;34m.\u001b[0m\u001b[0mfigure\u001b[0m\u001b[0;34m(\u001b[0m\u001b[0mfigsize\u001b[0m\u001b[0;34m=\u001b[0m\u001b[0;34m(\u001b[0m\u001b[0;36m15\u001b[0m\u001b[0;34m,\u001b[0m\u001b[0;36m15\u001b[0m\u001b[0;34m)\u001b[0m\u001b[0;34m)\u001b[0m\u001b[0;34m\u001b[0m\u001b[0;34m\u001b[0m\u001b[0m\n\u001b[0;32m----> 2\u001b[0;31m \u001b[0mplt\u001b[0m\u001b[0;34m.\u001b[0m\u001b[0mimshow\u001b[0m\u001b[0;34m(\u001b[0m\u001b[0mimg5\u001b[0m\u001b[0;34m)\u001b[0m\u001b[0;34m\u001b[0m\u001b[0;34m\u001b[0m\u001b[0m\n\u001b[0m",
      "\u001b[0;31mNameError\u001b[0m: name 'img5' is not defined"
     ]
    },
    {
     "data": {
      "text/plain": [
       "<Figure size 1080x1080 with 0 Axes>"
      ]
     },
     "metadata": {},
     "output_type": "display_data"
    }
   ],
   "source": [
    "plt.figure(figsize=(15,15))\n",
    "plt.imshow(img5)"
   ]
  },
  {
   "cell_type": "code",
   "execution_count": 28,
   "id": "7339d392",
   "metadata": {},
   "outputs": [
    {
     "data": {
      "text/plain": [
       "<matplotlib.image.AxesImage at 0x7f3343a98d30>"
      ]
     },
     "execution_count": 28,
     "metadata": {},
     "output_type": "execute_result"
    },
    {
     "data": {
      "image/png": "[encoded data removed]",
      "text/plain": [
       "<Figure size 1080x1080 with 1 Axes>"
      ]
     },
     "metadata": {
      "needs_background": "light"
     },
     "output_type": "display_data"
    }
   ],
   "source": [
    "plt.figure(figsize=(15,15))\n",
    "plt.imshow(img4)"
   ]
  },
  {
   "cell_type": "code",
   "execution_count": 29,
   "id": "28a1aa44",
   "metadata": {},
   "outputs": [
    {
     "ename": "NameError",
     "evalue": "name 'b' is not defined",
     "output_type": "error",
     "traceback": [
      "\u001b[0;31m---------------------------------------------------------------------------\u001b[0m",
      "\u001b[0;31mNameError\u001b[0m                                 Traceback (most recent call last)",
      "\u001b[0;32m/tmp/ipykernel_603034/28539712.py\u001b[0m in \u001b[0;36m<module>\u001b[0;34m\u001b[0m\n\u001b[1;32m      1\u001b[0m \u001b[0mplt\u001b[0m\u001b[0;34m.\u001b[0m\u001b[0mfigure\u001b[0m\u001b[0;34m(\u001b[0m\u001b[0mfigsize\u001b[0m\u001b[0;34m=\u001b[0m\u001b[0;34m(\u001b[0m\u001b[0;36m15\u001b[0m\u001b[0;34m,\u001b[0m\u001b[0;36m15\u001b[0m\u001b[0;34m)\u001b[0m\u001b[0;34m)\u001b[0m\u001b[0;34m\u001b[0m\u001b[0;34m\u001b[0m\u001b[0m\n\u001b[0;32m----> 2\u001b[0;31m \u001b[0mplt\u001b[0m\u001b[0;34m.\u001b[0m\u001b[0mimshow\u001b[0m\u001b[0;34m(\u001b[0m\u001b[0mb\u001b[0m\u001b[0;34m)\u001b[0m\u001b[0;34m\u001b[0m\u001b[0;34m\u001b[0m\u001b[0m\n\u001b[0m",
      "\u001b[0;31mNameError\u001b[0m: name 'b' is not defined"
     ]
    },
    {
     "data": {
      "text/plain": [
       "<Figure size 1080x1080 with 0 Axes>"
      ]
     },
     "metadata": {},
     "output_type": "display_data"
    }
   ],
   "source": [
    "plt.figure(figsize=(15,15))\n",
    "plt.imshow(b)"
   ]
  },
  {
   "cell_type": "code",
   "execution_count": 8,
   "id": "53afa383",
   "metadata": {},
   "outputs": [],
   "source": [
    "v2,c2=np.unique(c,return_counts=True)"
   ]
  },
  {
   "cell_type": "code",
   "execution_count": 10,
   "id": "46c5bffa",
   "metadata": {},
   "outputs": [
    {
     "data": {
      "text/plain": [
       "1320"
      ]
     },
     "execution_count": 10,
     "metadata": {},
     "output_type": "execute_result"
    }
   ],
   "source": [
    "len(v2)"
   ]
  },
  {
   "cell_type": "code",
   "execution_count": 53,
   "id": "845b33e8",
   "metadata": {},
   "outputs": [],
   "source": [
    "img1=np.load(cd3p_gt[0])\n",
    "v1,c1=np.unique(img1,return_counts=True)\n"
   ]
  },
  {
   "cell_type": "code",
   "execution_count": 57,
   "id": "c8b7416c",
   "metadata": {},
   "outputs": [
    {
     "data": {
      "text/plain": [
       "array([0], dtype=int32)"
      ]
     },
     "execution_count": 57,
     "metadata": {},
     "output_type": "execute_result"
    }
   ],
   "source": [
    "np.unique(img1)"
   ]
  },
  {
   "cell_type": "code",
   "execution_count": null,
   "id": "3e01fe0f",
   "metadata": {},
   "outputs": [],
   "source": []
  }
 ],
 "metadata": {
  "kernelspec": {
   "display_name": "Python 3 (ipykernel)",
   "language": "python",
   "name": "python3"
  },
  "language_info": {
   "codemirror_mode": {
    "name": "ipython",
    "version": 3
   },
   "file_extension": ".py",
   "mimetype": "text/x-python",
   "name": "python",
   "nbconvert_exporter": "python",
   "pygments_lexer": "ipython3",
   "version": "3.9.7"
  }
 },
 "nbformat": 4,
 "nbformat_minor": 5
}
