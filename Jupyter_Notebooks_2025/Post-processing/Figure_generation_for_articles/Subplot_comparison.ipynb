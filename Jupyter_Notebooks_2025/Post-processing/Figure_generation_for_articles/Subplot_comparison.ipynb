{
 "cells": [
  {
   "cell_type": "code",
   "execution_count": 3,
   "id": "05f97dd4",
   "metadata": {},
   "outputs": [
    {
     "data": {
      "text/plain": [
       "''"
      ]
     },
     "execution_count": 3,
     "metadata": {},
     "output_type": "execute_result"
    }
   ],
   "source": [
    "import tkinter\n",
    "import matplotlib.pyplot as plt\n",
    "import cv2\n",
    "from glob import glob\n",
    "from tkinter import filedialog\n",
    "tkinter.Tk().withdraw()\n"
   ]
  },
  {
   "cell_type": "code",
   "execution_count": 29,
   "id": "9b6a6d89",
   "metadata": {},
   "outputs": [],
   "source": [
    "path_HE=filedialog.askdirectory(title='path for H&E')\n",
    "path_IHC=filedialog.askdirectory(title='path for IHC')\n",
    "path_HE_1=filedialog.askdirectory(title='path for predicted H&E')\n",
    "path_results=filedialog.askdirectory(title='path for results')"
   ]
  },
  {
   "cell_type": "code",
   "execution_count": 30,
   "id": "98828d17",
   "metadata": {},
   "outputs": [
    {
     "data": {
      "text/plain": [
       "True"
      ]
     },
     "execution_count": 30,
     "metadata": {},
     "output_type": "execute_result"
    }
   ],
   "source": [
    "imgs_IHC=sorted(glob(path_IHC+\"/*\"))\n",
    "imgs_HE=sorted(glob(path_HE+\"/*\"))\n",
    "imgs_HE_1=sorted(glob(path_HE_1+\"/*\"))\n",
    "len(imgs_IHC)==len(imgs_HE)==len(imgs_HE_1)"
   ]
  },
  {
   "cell_type": "code",
   "execution_count": 31,
   "id": "0318e17b",
   "metadata": {},
   "outputs": [
    {
     "data": {
      "text/plain": [
       "12"
      ]
     },
     "execution_count": 31,
     "metadata": {},
     "output_type": "execute_result"
    }
   ],
   "source": [
    "len(imgs_HE_1)"
   ]
  },
  {
   "cell_type": "code",
   "execution_count": 33,
   "id": "39b11f80",
   "metadata": {},
   "outputs": [],
   "source": [
    "for x in range(len(imgs_HE)):\n",
    "    \n",
    "    plt.figure(figsize=(50,50))\n",
    "\n",
    "    a=cv2.cvtColor(cv2.imread(imgs_HE[x]),cv2.COLOR_BGR2RGB)\n",
    "    b=cv2.cvtColor(cv2.imread(imgs_IHC[x]),cv2.COLOR_BGR2RGB)\n",
    "    c=cv2.cvtColor(cv2.imread(imgs_HE_1[x]),cv2.COLOR_BGR2RGB)\n",
    "    display_list = [a,b,c]\n",
    "    title = ['H&E Image', 'Input Image', 'Predicted Image']\n",
    "\n",
    "    for i in range(3):\n",
    "        plt.subplot(1, 3, i+1)\n",
    "        plt.title(title[i])\n",
    "        # getting the pixel values between [0, 1] to plot it.\n",
    "        plt.imshow(display_list[i])\n",
    "        plt.axis('off')\n",
    "    \n",
    "    plt.savefig(path_results+\"/\"+f\"{x:06d}\"+\".jpg\")\n",
    "    plt.close()"
   ]
  },
  {
   "cell_type": "code",
   "execution_count": 12,
   "id": "40f80974",
   "metadata": {},
   "outputs": [],
   "source": [
    "a"
   ]
  },
  {
   "cell_type": "code",
   "execution_count": null,
   "id": "5835735e",
   "metadata": {},
   "outputs": [],
   "source": []
  }
 ],
 "metadata": {
  "kernelspec": {
   "display_name": "Python 3 (ipykernel)",
   "language": "python",
   "name": "python3"
  },
  "language_info": {
   "codemirror_mode": {
    "name": "ipython",
    "version": 3
   },
   "file_extension": ".py",
   "mimetype": "text/x-python",
   "name": "python",
   "nbconvert_exporter": "python",
   "pygments_lexer": "ipython3",
   "version": "3.8.12"
  }
 },
 "nbformat": 4,
 "nbformat_minor": 5
}
