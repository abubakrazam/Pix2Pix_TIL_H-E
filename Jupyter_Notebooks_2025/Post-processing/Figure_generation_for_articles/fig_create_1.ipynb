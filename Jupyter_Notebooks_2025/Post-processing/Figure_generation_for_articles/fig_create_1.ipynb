{
 "cells": [
  {
   "cell_type": "code",
   "execution_count": 1,
   "metadata": {},
   "outputs": [],
   "source": [
    "import cv2\n",
    "import os\n",
    "from glob import glob\n",
    "import matplotlib.pyplot as plt\n",
    "import numpy as np"
   ]
  },
  {
   "cell_type": "code",
   "execution_count": 5,
   "metadata": {},
   "outputs": [
    {
     "data": {
      "text/plain": [
       "['/media/saab/f7ee81f1-4052-4c44-b470-0a4a650ee479/SGH_IMCB_NTU_Main/Raw_Data/Training Dataset/Lung_square_same_section_before/001.tif',\n",
       " '/media/saab/f7ee81f1-4052-4c44-b470-0a4a650ee479/SGH_IMCB_NTU_Main/Raw_Data/Training Dataset/Lung_square_same_section_before/004.tif',\n",
       " '/media/saab/f7ee81f1-4052-4c44-b470-0a4a650ee479/SGH_IMCB_NTU_Main/Raw_Data/Training Dataset/Lung_square_same_section_before/005.tif',\n",
       " '/media/saab/f7ee81f1-4052-4c44-b470-0a4a650ee479/SGH_IMCB_NTU_Main/Raw_Data/Training Dataset/Lung_square_same_section_before/007.tif',\n",
       " '/media/saab/f7ee81f1-4052-4c44-b470-0a4a650ee479/SGH_IMCB_NTU_Main/Raw_Data/Training Dataset/Lung_square_same_section_before/008.tif',\n",
       " '/media/saab/f7ee81f1-4052-4c44-b470-0a4a650ee479/SGH_IMCB_NTU_Main/Raw_Data/Training Dataset/Lung_square_same_section_before/009.tif',\n",
       " '/media/saab/f7ee81f1-4052-4c44-b470-0a4a650ee479/SGH_IMCB_NTU_Main/Raw_Data/Training Dataset/Lung_square_same_section_before/010.tif',\n",
       " '/media/saab/f7ee81f1-4052-4c44-b470-0a4a650ee479/SGH_IMCB_NTU_Main/Raw_Data/Training Dataset/Lung_square_same_section_before/011.tif',\n",
       " '/media/saab/f7ee81f1-4052-4c44-b470-0a4a650ee479/SGH_IMCB_NTU_Main/Raw_Data/Training Dataset/Lung_square_same_section_before/012.tif',\n",
       " '/media/saab/f7ee81f1-4052-4c44-b470-0a4a650ee479/SGH_IMCB_NTU_Main/Raw_Data/Training Dataset/Lung_square_same_section_before/013.tif',\n",
       " '/media/saab/f7ee81f1-4052-4c44-b470-0a4a650ee479/SGH_IMCB_NTU_Main/Raw_Data/Training Dataset/Lung_square_same_section_before/014.tif',\n",
       " '/media/saab/f7ee81f1-4052-4c44-b470-0a4a650ee479/SGH_IMCB_NTU_Main/Raw_Data/Training Dataset/Lung_square_same_section_before/015.tif',\n",
       " '/media/saab/f7ee81f1-4052-4c44-b470-0a4a650ee479/SGH_IMCB_NTU_Main/Raw_Data/Training Dataset/Lung_square_same_section_before/016.tif',\n",
       " '/media/saab/f7ee81f1-4052-4c44-b470-0a4a650ee479/SGH_IMCB_NTU_Main/Raw_Data/Training Dataset/Lung_square_same_section_before/017.tif',\n",
       " '/media/saab/f7ee81f1-4052-4c44-b470-0a4a650ee479/SGH_IMCB_NTU_Main/Raw_Data/Training Dataset/Lung_square_same_section_before/018.tif',\n",
       " '/media/saab/f7ee81f1-4052-4c44-b470-0a4a650ee479/SGH_IMCB_NTU_Main/Raw_Data/Training Dataset/Lung_square_same_section_before/019.tif',\n",
       " '/media/saab/f7ee81f1-4052-4c44-b470-0a4a650ee479/SGH_IMCB_NTU_Main/Raw_Data/Training Dataset/Lung_square_same_section_before/020.tif',\n",
       " '/media/saab/f7ee81f1-4052-4c44-b470-0a4a650ee479/SGH_IMCB_NTU_Main/Raw_Data/Training Dataset/Lung_square_same_section_before/021.tif',\n",
       " '/media/saab/f7ee81f1-4052-4c44-b470-0a4a650ee479/SGH_IMCB_NTU_Main/Raw_Data/Training Dataset/Lung_square_same_section_before/025.tif',\n",
       " '/media/saab/f7ee81f1-4052-4c44-b470-0a4a650ee479/SGH_IMCB_NTU_Main/Raw_Data/Training Dataset/Lung_square_same_section_before/027.tif',\n",
       " '/media/saab/f7ee81f1-4052-4c44-b470-0a4a650ee479/SGH_IMCB_NTU_Main/Raw_Data/Training Dataset/Lung_square_same_section_before/028.tif',\n",
       " '/media/saab/f7ee81f1-4052-4c44-b470-0a4a650ee479/SGH_IMCB_NTU_Main/Raw_Data/Training Dataset/Lung_square_same_section_before/029.tif',\n",
       " '/media/saab/f7ee81f1-4052-4c44-b470-0a4a650ee479/SGH_IMCB_NTU_Main/Raw_Data/Training Dataset/Lung_square_same_section_before/030.tif',\n",
       " '/media/saab/f7ee81f1-4052-4c44-b470-0a4a650ee479/SGH_IMCB_NTU_Main/Raw_Data/Training Dataset/Lung_square_same_section_before/031.tif',\n",
       " '/media/saab/f7ee81f1-4052-4c44-b470-0a4a650ee479/SGH_IMCB_NTU_Main/Raw_Data/Training Dataset/Lung_square_same_section_before/032.tif',\n",
       " '/media/saab/f7ee81f1-4052-4c44-b470-0a4a650ee479/SGH_IMCB_NTU_Main/Raw_Data/Training Dataset/Lung_square_same_section_before/033.tif',\n",
       " '/media/saab/f7ee81f1-4052-4c44-b470-0a4a650ee479/SGH_IMCB_NTU_Main/Raw_Data/Training Dataset/Lung_square_same_section_before/034.tif',\n",
       " '/media/saab/f7ee81f1-4052-4c44-b470-0a4a650ee479/SGH_IMCB_NTU_Main/Raw_Data/Training Dataset/Lung_square_same_section_before/036.tif',\n",
       " '/media/saab/f7ee81f1-4052-4c44-b470-0a4a650ee479/SGH_IMCB_NTU_Main/Raw_Data/Training Dataset/Lung_square_same_section_before/037.tif',\n",
       " '/media/saab/f7ee81f1-4052-4c44-b470-0a4a650ee479/SGH_IMCB_NTU_Main/Raw_Data/Training Dataset/Lung_square_same_section_before/038.tif',\n",
       " '/media/saab/f7ee81f1-4052-4c44-b470-0a4a650ee479/SGH_IMCB_NTU_Main/Raw_Data/Training Dataset/Lung_square_same_section_before/041.tif',\n",
       " '/media/saab/f7ee81f1-4052-4c44-b470-0a4a650ee479/SGH_IMCB_NTU_Main/Raw_Data/Training Dataset/Lung_square_same_section_before/043.tif',\n",
       " '/media/saab/f7ee81f1-4052-4c44-b470-0a4a650ee479/SGH_IMCB_NTU_Main/Raw_Data/Training Dataset/Lung_square_same_section_before/044.tif',\n",
       " '/media/saab/f7ee81f1-4052-4c44-b470-0a4a650ee479/SGH_IMCB_NTU_Main/Raw_Data/Training Dataset/Lung_square_same_section_before/045.tif',\n",
       " '/media/saab/f7ee81f1-4052-4c44-b470-0a4a650ee479/SGH_IMCB_NTU_Main/Raw_Data/Training Dataset/Lung_square_same_section_before/046.tif',\n",
       " '/media/saab/f7ee81f1-4052-4c44-b470-0a4a650ee479/SGH_IMCB_NTU_Main/Raw_Data/Training Dataset/Lung_square_same_section_before/047.tif',\n",
       " '/media/saab/f7ee81f1-4052-4c44-b470-0a4a650ee479/SGH_IMCB_NTU_Main/Raw_Data/Training Dataset/Lung_square_same_section_before/048.tif',\n",
       " '/media/saab/f7ee81f1-4052-4c44-b470-0a4a650ee479/SGH_IMCB_NTU_Main/Raw_Data/Training Dataset/Lung_square_same_section_before/050.tif',\n",
       " '/media/saab/f7ee81f1-4052-4c44-b470-0a4a650ee479/SGH_IMCB_NTU_Main/Raw_Data/Training Dataset/Lung_square_same_section_before/051.tif',\n",
       " '/media/saab/f7ee81f1-4052-4c44-b470-0a4a650ee479/SGH_IMCB_NTU_Main/Raw_Data/Training Dataset/Lung_square_same_section_before/052.tif',\n",
       " '/media/saab/f7ee81f1-4052-4c44-b470-0a4a650ee479/SGH_IMCB_NTU_Main/Raw_Data/Training Dataset/Lung_square_same_section_before/055.tif',\n",
       " '/media/saab/f7ee81f1-4052-4c44-b470-0a4a650ee479/SGH_IMCB_NTU_Main/Raw_Data/Training Dataset/Lung_square_same_section_before/056.tif',\n",
       " '/media/saab/f7ee81f1-4052-4c44-b470-0a4a650ee479/SGH_IMCB_NTU_Main/Raw_Data/Training Dataset/Lung_square_same_section_before/057.tif',\n",
       " '/media/saab/f7ee81f1-4052-4c44-b470-0a4a650ee479/SGH_IMCB_NTU_Main/Raw_Data/Training Dataset/Lung_square_same_section_before/058.tif',\n",
       " '/media/saab/f7ee81f1-4052-4c44-b470-0a4a650ee479/SGH_IMCB_NTU_Main/Raw_Data/Training Dataset/Lung_square_same_section_before/060.tif',\n",
       " '/media/saab/f7ee81f1-4052-4c44-b470-0a4a650ee479/SGH_IMCB_NTU_Main/Raw_Data/Training Dataset/Lung_square_same_section_before/061.tif',\n",
       " '/media/saab/f7ee81f1-4052-4c44-b470-0a4a650ee479/SGH_IMCB_NTU_Main/Raw_Data/Training Dataset/Lung_square_same_section_before/062.tif',\n",
       " '/media/saab/f7ee81f1-4052-4c44-b470-0a4a650ee479/SGH_IMCB_NTU_Main/Raw_Data/Training Dataset/Lung_square_same_section_before/063.tif',\n",
       " '/media/saab/f7ee81f1-4052-4c44-b470-0a4a650ee479/SGH_IMCB_NTU_Main/Raw_Data/Training Dataset/Lung_square_same_section_before/064.tif',\n",
       " '/media/saab/f7ee81f1-4052-4c44-b470-0a4a650ee479/SGH_IMCB_NTU_Main/Raw_Data/Training Dataset/Lung_square_same_section_before/067.tif',\n",
       " '/media/saab/f7ee81f1-4052-4c44-b470-0a4a650ee479/SGH_IMCB_NTU_Main/Raw_Data/Training Dataset/Lung_square_same_section_before/068.tif',\n",
       " '/media/saab/f7ee81f1-4052-4c44-b470-0a4a650ee479/SGH_IMCB_NTU_Main/Raw_Data/Training Dataset/Lung_square_same_section_before/069.tif',\n",
       " '/media/saab/f7ee81f1-4052-4c44-b470-0a4a650ee479/SGH_IMCB_NTU_Main/Raw_Data/Training Dataset/Lung_square_same_section_before/070.tif',\n",
       " '/media/saab/f7ee81f1-4052-4c44-b470-0a4a650ee479/SGH_IMCB_NTU_Main/Raw_Data/Training Dataset/Lung_square_same_section_before/071.tif',\n",
       " '/media/saab/f7ee81f1-4052-4c44-b470-0a4a650ee479/SGH_IMCB_NTU_Main/Raw_Data/Training Dataset/Lung_square_same_section_before/072.tif',\n",
       " '/media/saab/f7ee81f1-4052-4c44-b470-0a4a650ee479/SGH_IMCB_NTU_Main/Raw_Data/Training Dataset/Lung_square_same_section_before/073.tif',\n",
       " '/media/saab/f7ee81f1-4052-4c44-b470-0a4a650ee479/SGH_IMCB_NTU_Main/Raw_Data/Training Dataset/Lung_square_same_section_before/074.tif']"
      ]
     },
     "execution_count": 5,
     "metadata": {},
     "output_type": "execute_result"
    }
   ],
   "source": [
    "files1=sorted(glob(\"/media/saab/f7ee81f1-4052-4c44-b470-0a4a650ee479/SGH_IMCB_NTU_Main/Raw_Data/Training Dataset/Lung_square_same_section_before/*\"))\n",
    "files1"
   ]
  },
  {
   "cell_type": "code",
   "execution_count": 6,
   "metadata": {},
   "outputs": [
    {
     "data": {
      "text/plain": [
       "['/media/saab/f7ee81f1-4052-4c44-b470-0a4a650ee479/SGH_IMCB_NTU_Main/Raw_Data/Training Dataset/Lung_square_serial_Before/001.tif',\n",
       " '/media/saab/f7ee81f1-4052-4c44-b470-0a4a650ee479/SGH_IMCB_NTU_Main/Raw_Data/Training Dataset/Lung_square_serial_Before/004.tif',\n",
       " '/media/saab/f7ee81f1-4052-4c44-b470-0a4a650ee479/SGH_IMCB_NTU_Main/Raw_Data/Training Dataset/Lung_square_serial_Before/005.tif',\n",
       " '/media/saab/f7ee81f1-4052-4c44-b470-0a4a650ee479/SGH_IMCB_NTU_Main/Raw_Data/Training Dataset/Lung_square_serial_Before/007.tif',\n",
       " '/media/saab/f7ee81f1-4052-4c44-b470-0a4a650ee479/SGH_IMCB_NTU_Main/Raw_Data/Training Dataset/Lung_square_serial_Before/008.tif',\n",
       " '/media/saab/f7ee81f1-4052-4c44-b470-0a4a650ee479/SGH_IMCB_NTU_Main/Raw_Data/Training Dataset/Lung_square_serial_Before/009.tif',\n",
       " '/media/saab/f7ee81f1-4052-4c44-b470-0a4a650ee479/SGH_IMCB_NTU_Main/Raw_Data/Training Dataset/Lung_square_serial_Before/010.tif',\n",
       " '/media/saab/f7ee81f1-4052-4c44-b470-0a4a650ee479/SGH_IMCB_NTU_Main/Raw_Data/Training Dataset/Lung_square_serial_Before/011.tif',\n",
       " '/media/saab/f7ee81f1-4052-4c44-b470-0a4a650ee479/SGH_IMCB_NTU_Main/Raw_Data/Training Dataset/Lung_square_serial_Before/012.tif',\n",
       " '/media/saab/f7ee81f1-4052-4c44-b470-0a4a650ee479/SGH_IMCB_NTU_Main/Raw_Data/Training Dataset/Lung_square_serial_Before/013.tif',\n",
       " '/media/saab/f7ee81f1-4052-4c44-b470-0a4a650ee479/SGH_IMCB_NTU_Main/Raw_Data/Training Dataset/Lung_square_serial_Before/014.tif',\n",
       " '/media/saab/f7ee81f1-4052-4c44-b470-0a4a650ee479/SGH_IMCB_NTU_Main/Raw_Data/Training Dataset/Lung_square_serial_Before/015.tif',\n",
       " '/media/saab/f7ee81f1-4052-4c44-b470-0a4a650ee479/SGH_IMCB_NTU_Main/Raw_Data/Training Dataset/Lung_square_serial_Before/016.tif',\n",
       " '/media/saab/f7ee81f1-4052-4c44-b470-0a4a650ee479/SGH_IMCB_NTU_Main/Raw_Data/Training Dataset/Lung_square_serial_Before/017.tif',\n",
       " '/media/saab/f7ee81f1-4052-4c44-b470-0a4a650ee479/SGH_IMCB_NTU_Main/Raw_Data/Training Dataset/Lung_square_serial_Before/018.tif',\n",
       " '/media/saab/f7ee81f1-4052-4c44-b470-0a4a650ee479/SGH_IMCB_NTU_Main/Raw_Data/Training Dataset/Lung_square_serial_Before/019.tif',\n",
       " '/media/saab/f7ee81f1-4052-4c44-b470-0a4a650ee479/SGH_IMCB_NTU_Main/Raw_Data/Training Dataset/Lung_square_serial_Before/020.tif',\n",
       " '/media/saab/f7ee81f1-4052-4c44-b470-0a4a650ee479/SGH_IMCB_NTU_Main/Raw_Data/Training Dataset/Lung_square_serial_Before/021.tif',\n",
       " '/media/saab/f7ee81f1-4052-4c44-b470-0a4a650ee479/SGH_IMCB_NTU_Main/Raw_Data/Training Dataset/Lung_square_serial_Before/025.tif',\n",
       " '/media/saab/f7ee81f1-4052-4c44-b470-0a4a650ee479/SGH_IMCB_NTU_Main/Raw_Data/Training Dataset/Lung_square_serial_Before/027.tif',\n",
       " '/media/saab/f7ee81f1-4052-4c44-b470-0a4a650ee479/SGH_IMCB_NTU_Main/Raw_Data/Training Dataset/Lung_square_serial_Before/028.tif',\n",
       " '/media/saab/f7ee81f1-4052-4c44-b470-0a4a650ee479/SGH_IMCB_NTU_Main/Raw_Data/Training Dataset/Lung_square_serial_Before/029.tif',\n",
       " '/media/saab/f7ee81f1-4052-4c44-b470-0a4a650ee479/SGH_IMCB_NTU_Main/Raw_Data/Training Dataset/Lung_square_serial_Before/030.tif',\n",
       " '/media/saab/f7ee81f1-4052-4c44-b470-0a4a650ee479/SGH_IMCB_NTU_Main/Raw_Data/Training Dataset/Lung_square_serial_Before/031.tif',\n",
       " '/media/saab/f7ee81f1-4052-4c44-b470-0a4a650ee479/SGH_IMCB_NTU_Main/Raw_Data/Training Dataset/Lung_square_serial_Before/032.tif',\n",
       " '/media/saab/f7ee81f1-4052-4c44-b470-0a4a650ee479/SGH_IMCB_NTU_Main/Raw_Data/Training Dataset/Lung_square_serial_Before/033.tif',\n",
       " '/media/saab/f7ee81f1-4052-4c44-b470-0a4a650ee479/SGH_IMCB_NTU_Main/Raw_Data/Training Dataset/Lung_square_serial_Before/034.tif',\n",
       " '/media/saab/f7ee81f1-4052-4c44-b470-0a4a650ee479/SGH_IMCB_NTU_Main/Raw_Data/Training Dataset/Lung_square_serial_Before/036.tif',\n",
       " '/media/saab/f7ee81f1-4052-4c44-b470-0a4a650ee479/SGH_IMCB_NTU_Main/Raw_Data/Training Dataset/Lung_square_serial_Before/037.tif',\n",
       " '/media/saab/f7ee81f1-4052-4c44-b470-0a4a650ee479/SGH_IMCB_NTU_Main/Raw_Data/Training Dataset/Lung_square_serial_Before/038.tif',\n",
       " '/media/saab/f7ee81f1-4052-4c44-b470-0a4a650ee479/SGH_IMCB_NTU_Main/Raw_Data/Training Dataset/Lung_square_serial_Before/041.tif',\n",
       " '/media/saab/f7ee81f1-4052-4c44-b470-0a4a650ee479/SGH_IMCB_NTU_Main/Raw_Data/Training Dataset/Lung_square_serial_Before/043.tif',\n",
       " '/media/saab/f7ee81f1-4052-4c44-b470-0a4a650ee479/SGH_IMCB_NTU_Main/Raw_Data/Training Dataset/Lung_square_serial_Before/044.tif',\n",
       " '/media/saab/f7ee81f1-4052-4c44-b470-0a4a650ee479/SGH_IMCB_NTU_Main/Raw_Data/Training Dataset/Lung_square_serial_Before/045.tif',\n",
       " '/media/saab/f7ee81f1-4052-4c44-b470-0a4a650ee479/SGH_IMCB_NTU_Main/Raw_Data/Training Dataset/Lung_square_serial_Before/046.tif',\n",
       " '/media/saab/f7ee81f1-4052-4c44-b470-0a4a650ee479/SGH_IMCB_NTU_Main/Raw_Data/Training Dataset/Lung_square_serial_Before/047.tif',\n",
       " '/media/saab/f7ee81f1-4052-4c44-b470-0a4a650ee479/SGH_IMCB_NTU_Main/Raw_Data/Training Dataset/Lung_square_serial_Before/048.tif',\n",
       " '/media/saab/f7ee81f1-4052-4c44-b470-0a4a650ee479/SGH_IMCB_NTU_Main/Raw_Data/Training Dataset/Lung_square_serial_Before/050.tif',\n",
       " '/media/saab/f7ee81f1-4052-4c44-b470-0a4a650ee479/SGH_IMCB_NTU_Main/Raw_Data/Training Dataset/Lung_square_serial_Before/051.tif',\n",
       " '/media/saab/f7ee81f1-4052-4c44-b470-0a4a650ee479/SGH_IMCB_NTU_Main/Raw_Data/Training Dataset/Lung_square_serial_Before/052.tif',\n",
       " '/media/saab/f7ee81f1-4052-4c44-b470-0a4a650ee479/SGH_IMCB_NTU_Main/Raw_Data/Training Dataset/Lung_square_serial_Before/055.tif',\n",
       " '/media/saab/f7ee81f1-4052-4c44-b470-0a4a650ee479/SGH_IMCB_NTU_Main/Raw_Data/Training Dataset/Lung_square_serial_Before/056.tif',\n",
       " '/media/saab/f7ee81f1-4052-4c44-b470-0a4a650ee479/SGH_IMCB_NTU_Main/Raw_Data/Training Dataset/Lung_square_serial_Before/057.tif',\n",
       " '/media/saab/f7ee81f1-4052-4c44-b470-0a4a650ee479/SGH_IMCB_NTU_Main/Raw_Data/Training Dataset/Lung_square_serial_Before/058.tif',\n",
       " '/media/saab/f7ee81f1-4052-4c44-b470-0a4a650ee479/SGH_IMCB_NTU_Main/Raw_Data/Training Dataset/Lung_square_serial_Before/060.tif',\n",
       " '/media/saab/f7ee81f1-4052-4c44-b470-0a4a650ee479/SGH_IMCB_NTU_Main/Raw_Data/Training Dataset/Lung_square_serial_Before/061.tif',\n",
       " '/media/saab/f7ee81f1-4052-4c44-b470-0a4a650ee479/SGH_IMCB_NTU_Main/Raw_Data/Training Dataset/Lung_square_serial_Before/062.tif',\n",
       " '/media/saab/f7ee81f1-4052-4c44-b470-0a4a650ee479/SGH_IMCB_NTU_Main/Raw_Data/Training Dataset/Lung_square_serial_Before/063.tif',\n",
       " '/media/saab/f7ee81f1-4052-4c44-b470-0a4a650ee479/SGH_IMCB_NTU_Main/Raw_Data/Training Dataset/Lung_square_serial_Before/064.tif',\n",
       " '/media/saab/f7ee81f1-4052-4c44-b470-0a4a650ee479/SGH_IMCB_NTU_Main/Raw_Data/Training Dataset/Lung_square_serial_Before/067.tif',\n",
       " '/media/saab/f7ee81f1-4052-4c44-b470-0a4a650ee479/SGH_IMCB_NTU_Main/Raw_Data/Training Dataset/Lung_square_serial_Before/068.tif',\n",
       " '/media/saab/f7ee81f1-4052-4c44-b470-0a4a650ee479/SGH_IMCB_NTU_Main/Raw_Data/Training Dataset/Lung_square_serial_Before/069.tif',\n",
       " '/media/saab/f7ee81f1-4052-4c44-b470-0a4a650ee479/SGH_IMCB_NTU_Main/Raw_Data/Training Dataset/Lung_square_serial_Before/070.tif',\n",
       " '/media/saab/f7ee81f1-4052-4c44-b470-0a4a650ee479/SGH_IMCB_NTU_Main/Raw_Data/Training Dataset/Lung_square_serial_Before/071.tif',\n",
       " '/media/saab/f7ee81f1-4052-4c44-b470-0a4a650ee479/SGH_IMCB_NTU_Main/Raw_Data/Training Dataset/Lung_square_serial_Before/072.tif',\n",
       " '/media/saab/f7ee81f1-4052-4c44-b470-0a4a650ee479/SGH_IMCB_NTU_Main/Raw_Data/Training Dataset/Lung_square_serial_Before/073.tif',\n",
       " '/media/saab/f7ee81f1-4052-4c44-b470-0a4a650ee479/SGH_IMCB_NTU_Main/Raw_Data/Training Dataset/Lung_square_serial_Before/074.tif']"
      ]
     },
     "execution_count": 6,
     "metadata": {},
     "output_type": "execute_result"
    }
   ],
   "source": [
    "files2=sorted(glob(\"/media/saab/f7ee81f1-4052-4c44-b470-0a4a650ee479/SGH_IMCB_NTU_Main/Raw_Data/Training Dataset/Lung_square_serial_Before/*\"))\n",
    "files2"
   ]
  },
  {
   "cell_type": "code",
   "execution_count": 7,
   "metadata": {},
   "outputs": [
    {
     "data": {
      "text/plain": [
       "['/media/saab/f7ee81f1-4052-4c44-b470-0a4a650ee479/SGH_IMCB_NTU_Main/Processed_Data/Preprocessed_Data/Same_Slide/15thOct/Before/000/mif_dapi.png',\n",
       " '/media/saab/f7ee81f1-4052-4c44-b470-0a4a650ee479/SGH_IMCB_NTU_Main/Processed_Data/Preprocessed_Data/Same_Slide/15thOct/Before/001/mif_dapi.png',\n",
       " '/media/saab/f7ee81f1-4052-4c44-b470-0a4a650ee479/SGH_IMCB_NTU_Main/Processed_Data/Preprocessed_Data/Same_Slide/15thOct/Before/002/mif_dapi.png',\n",
       " '/media/saab/f7ee81f1-4052-4c44-b470-0a4a650ee479/SGH_IMCB_NTU_Main/Processed_Data/Preprocessed_Data/Same_Slide/15thOct/Before/003/mif_dapi.png',\n",
       " '/media/saab/f7ee81f1-4052-4c44-b470-0a4a650ee479/SGH_IMCB_NTU_Main/Processed_Data/Preprocessed_Data/Same_Slide/15thOct/Before/004/mif_dapi.png',\n",
       " '/media/saab/f7ee81f1-4052-4c44-b470-0a4a650ee479/SGH_IMCB_NTU_Main/Processed_Data/Preprocessed_Data/Same_Slide/15thOct/Before/005/mif_dapi.png',\n",
       " '/media/saab/f7ee81f1-4052-4c44-b470-0a4a650ee479/SGH_IMCB_NTU_Main/Processed_Data/Preprocessed_Data/Same_Slide/15thOct/Before/006/mif_dapi.png',\n",
       " '/media/saab/f7ee81f1-4052-4c44-b470-0a4a650ee479/SGH_IMCB_NTU_Main/Processed_Data/Preprocessed_Data/Same_Slide/15thOct/Before/007/mif_dapi.png',\n",
       " '/media/saab/f7ee81f1-4052-4c44-b470-0a4a650ee479/SGH_IMCB_NTU_Main/Processed_Data/Preprocessed_Data/Same_Slide/15thOct/Before/008/mif_dapi.png',\n",
       " '/media/saab/f7ee81f1-4052-4c44-b470-0a4a650ee479/SGH_IMCB_NTU_Main/Processed_Data/Preprocessed_Data/Same_Slide/15thOct/Before/009/mif_dapi.png',\n",
       " '/media/saab/f7ee81f1-4052-4c44-b470-0a4a650ee479/SGH_IMCB_NTU_Main/Processed_Data/Preprocessed_Data/Same_Slide/15thOct/Before/010/mif_dapi.png',\n",
       " '/media/saab/f7ee81f1-4052-4c44-b470-0a4a650ee479/SGH_IMCB_NTU_Main/Processed_Data/Preprocessed_Data/Same_Slide/15thOct/Before/011/mif_dapi.png',\n",
       " '/media/saab/f7ee81f1-4052-4c44-b470-0a4a650ee479/SGH_IMCB_NTU_Main/Processed_Data/Preprocessed_Data/Same_Slide/15thOct/Before/012/mif_dapi.png',\n",
       " '/media/saab/f7ee81f1-4052-4c44-b470-0a4a650ee479/SGH_IMCB_NTU_Main/Processed_Data/Preprocessed_Data/Same_Slide/15thOct/Before/013/mif_dapi.png',\n",
       " '/media/saab/f7ee81f1-4052-4c44-b470-0a4a650ee479/SGH_IMCB_NTU_Main/Processed_Data/Preprocessed_Data/Same_Slide/15thOct/Before/014/mif_dapi.png',\n",
       " '/media/saab/f7ee81f1-4052-4c44-b470-0a4a650ee479/SGH_IMCB_NTU_Main/Processed_Data/Preprocessed_Data/Same_Slide/15thOct/Before/015/mif_dapi.png',\n",
       " '/media/saab/f7ee81f1-4052-4c44-b470-0a4a650ee479/SGH_IMCB_NTU_Main/Processed_Data/Preprocessed_Data/Same_Slide/15thOct/Before/016/mif_dapi.png',\n",
       " '/media/saab/f7ee81f1-4052-4c44-b470-0a4a650ee479/SGH_IMCB_NTU_Main/Processed_Data/Preprocessed_Data/Same_Slide/15thOct/Before/017/mif_dapi.png',\n",
       " '/media/saab/f7ee81f1-4052-4c44-b470-0a4a650ee479/SGH_IMCB_NTU_Main/Processed_Data/Preprocessed_Data/Same_Slide/15thOct/Before/018/mif_dapi.png',\n",
       " '/media/saab/f7ee81f1-4052-4c44-b470-0a4a650ee479/SGH_IMCB_NTU_Main/Processed_Data/Preprocessed_Data/Same_Slide/15thOct/Before/019/mif_dapi.png',\n",
       " '/media/saab/f7ee81f1-4052-4c44-b470-0a4a650ee479/SGH_IMCB_NTU_Main/Processed_Data/Preprocessed_Data/Same_Slide/15thOct/Before/020/mif_dapi.png',\n",
       " '/media/saab/f7ee81f1-4052-4c44-b470-0a4a650ee479/SGH_IMCB_NTU_Main/Processed_Data/Preprocessed_Data/Same_Slide/15thOct/Before/021/mif_dapi.png',\n",
       " '/media/saab/f7ee81f1-4052-4c44-b470-0a4a650ee479/SGH_IMCB_NTU_Main/Processed_Data/Preprocessed_Data/Same_Slide/15thOct/Before/022/mif_dapi.png',\n",
       " '/media/saab/f7ee81f1-4052-4c44-b470-0a4a650ee479/SGH_IMCB_NTU_Main/Processed_Data/Preprocessed_Data/Same_Slide/15thOct/Before/023/mif_dapi.png',\n",
       " '/media/saab/f7ee81f1-4052-4c44-b470-0a4a650ee479/SGH_IMCB_NTU_Main/Processed_Data/Preprocessed_Data/Same_Slide/15thOct/Before/024/mif_dapi.png',\n",
       " '/media/saab/f7ee81f1-4052-4c44-b470-0a4a650ee479/SGH_IMCB_NTU_Main/Processed_Data/Preprocessed_Data/Same_Slide/15thOct/Before/025/mif_dapi.png',\n",
       " '/media/saab/f7ee81f1-4052-4c44-b470-0a4a650ee479/SGH_IMCB_NTU_Main/Processed_Data/Preprocessed_Data/Same_Slide/15thOct/Before/026/mif_dapi.png',\n",
       " '/media/saab/f7ee81f1-4052-4c44-b470-0a4a650ee479/SGH_IMCB_NTU_Main/Processed_Data/Preprocessed_Data/Same_Slide/15thOct/Before/027/mif_dapi.png',\n",
       " '/media/saab/f7ee81f1-4052-4c44-b470-0a4a650ee479/SGH_IMCB_NTU_Main/Processed_Data/Preprocessed_Data/Same_Slide/15thOct/Before/028/mif_dapi.png',\n",
       " '/media/saab/f7ee81f1-4052-4c44-b470-0a4a650ee479/SGH_IMCB_NTU_Main/Processed_Data/Preprocessed_Data/Same_Slide/15thOct/Before/029/mif_dapi.png',\n",
       " '/media/saab/f7ee81f1-4052-4c44-b470-0a4a650ee479/SGH_IMCB_NTU_Main/Processed_Data/Preprocessed_Data/Same_Slide/15thOct/Before/030/mif_dapi.png',\n",
       " '/media/saab/f7ee81f1-4052-4c44-b470-0a4a650ee479/SGH_IMCB_NTU_Main/Processed_Data/Preprocessed_Data/Same_Slide/15thOct/Before/031/mif_dapi.png',\n",
       " '/media/saab/f7ee81f1-4052-4c44-b470-0a4a650ee479/SGH_IMCB_NTU_Main/Processed_Data/Preprocessed_Data/Same_Slide/15thOct/Before/032/mif_dapi.png',\n",
       " '/media/saab/f7ee81f1-4052-4c44-b470-0a4a650ee479/SGH_IMCB_NTU_Main/Processed_Data/Preprocessed_Data/Same_Slide/15thOct/Before/033/mif_dapi.png',\n",
       " '/media/saab/f7ee81f1-4052-4c44-b470-0a4a650ee479/SGH_IMCB_NTU_Main/Processed_Data/Preprocessed_Data/Same_Slide/15thOct/Before/034/mif_dapi.png',\n",
       " '/media/saab/f7ee81f1-4052-4c44-b470-0a4a650ee479/SGH_IMCB_NTU_Main/Processed_Data/Preprocessed_Data/Same_Slide/15thOct/Before/035/mif_dapi.png',\n",
       " '/media/saab/f7ee81f1-4052-4c44-b470-0a4a650ee479/SGH_IMCB_NTU_Main/Processed_Data/Preprocessed_Data/Same_Slide/15thOct/Before/036/mif_dapi.png',\n",
       " '/media/saab/f7ee81f1-4052-4c44-b470-0a4a650ee479/SGH_IMCB_NTU_Main/Processed_Data/Preprocessed_Data/Same_Slide/15thOct/Before/037/mif_dapi.png',\n",
       " '/media/saab/f7ee81f1-4052-4c44-b470-0a4a650ee479/SGH_IMCB_NTU_Main/Processed_Data/Preprocessed_Data/Same_Slide/15thOct/Before/038/mif_dapi.png',\n",
       " '/media/saab/f7ee81f1-4052-4c44-b470-0a4a650ee479/SGH_IMCB_NTU_Main/Processed_Data/Preprocessed_Data/Same_Slide/15thOct/Before/039/mif_dapi.png',\n",
       " '/media/saab/f7ee81f1-4052-4c44-b470-0a4a650ee479/SGH_IMCB_NTU_Main/Processed_Data/Preprocessed_Data/Same_Slide/15thOct/Before/040/mif_dapi.png',\n",
       " '/media/saab/f7ee81f1-4052-4c44-b470-0a4a650ee479/SGH_IMCB_NTU_Main/Processed_Data/Preprocessed_Data/Same_Slide/15thOct/Before/041/mif_dapi.png',\n",
       " '/media/saab/f7ee81f1-4052-4c44-b470-0a4a650ee479/SGH_IMCB_NTU_Main/Processed_Data/Preprocessed_Data/Same_Slide/15thOct/Before/042/mif_dapi.png',\n",
       " '/media/saab/f7ee81f1-4052-4c44-b470-0a4a650ee479/SGH_IMCB_NTU_Main/Processed_Data/Preprocessed_Data/Same_Slide/15thOct/Before/043/mif_dapi.png',\n",
       " '/media/saab/f7ee81f1-4052-4c44-b470-0a4a650ee479/SGH_IMCB_NTU_Main/Processed_Data/Preprocessed_Data/Same_Slide/15thOct/Before/044/mif_dapi.png',\n",
       " '/media/saab/f7ee81f1-4052-4c44-b470-0a4a650ee479/SGH_IMCB_NTU_Main/Processed_Data/Preprocessed_Data/Same_Slide/15thOct/Before/045/mif_dapi.png',\n",
       " '/media/saab/f7ee81f1-4052-4c44-b470-0a4a650ee479/SGH_IMCB_NTU_Main/Processed_Data/Preprocessed_Data/Same_Slide/15thOct/Before/046/mif_dapi.png',\n",
       " '/media/saab/f7ee81f1-4052-4c44-b470-0a4a650ee479/SGH_IMCB_NTU_Main/Processed_Data/Preprocessed_Data/Same_Slide/15thOct/Before/047/mif_dapi.png',\n",
       " '/media/saab/f7ee81f1-4052-4c44-b470-0a4a650ee479/SGH_IMCB_NTU_Main/Processed_Data/Preprocessed_Data/Same_Slide/15thOct/Before/048/mif_dapi.png',\n",
       " '/media/saab/f7ee81f1-4052-4c44-b470-0a4a650ee479/SGH_IMCB_NTU_Main/Processed_Data/Preprocessed_Data/Same_Slide/15thOct/Before/049/mif_dapi.png',\n",
       " '/media/saab/f7ee81f1-4052-4c44-b470-0a4a650ee479/SGH_IMCB_NTU_Main/Processed_Data/Preprocessed_Data/Same_Slide/15thOct/Before/050/mif_dapi.png',\n",
       " '/media/saab/f7ee81f1-4052-4c44-b470-0a4a650ee479/SGH_IMCB_NTU_Main/Processed_Data/Preprocessed_Data/Same_Slide/15thOct/Before/051/mif_dapi.png',\n",
       " '/media/saab/f7ee81f1-4052-4c44-b470-0a4a650ee479/SGH_IMCB_NTU_Main/Processed_Data/Preprocessed_Data/Same_Slide/15thOct/Before/052/mif_dapi.png',\n",
       " '/media/saab/f7ee81f1-4052-4c44-b470-0a4a650ee479/SGH_IMCB_NTU_Main/Processed_Data/Preprocessed_Data/Same_Slide/15thOct/Before/053/mif_dapi.png',\n",
       " '/media/saab/f7ee81f1-4052-4c44-b470-0a4a650ee479/SGH_IMCB_NTU_Main/Processed_Data/Preprocessed_Data/Same_Slide/15thOct/Before/054/mif_dapi.png',\n",
       " '/media/saab/f7ee81f1-4052-4c44-b470-0a4a650ee479/SGH_IMCB_NTU_Main/Processed_Data/Preprocessed_Data/Same_Slide/15thOct/Before/055/mif_dapi.png',\n",
       " '/media/saab/f7ee81f1-4052-4c44-b470-0a4a650ee479/SGH_IMCB_NTU_Main/Processed_Data/Preprocessed_Data/Same_Slide/15thOct/Before/056/mif_dapi.png']"
      ]
     },
     "execution_count": 7,
     "metadata": {},
     "output_type": "execute_result"
    }
   ],
   "source": [
    "files3=sorted(glob(\"/media/saab/f7ee81f1-4052-4c44-b470-0a4a650ee479/SGH_IMCB_NTU_Main/Processed_Data/Preprocessed_Data/Same_Slide/15thOct/Before/*/mif_dapi.png\"))\n",
    "files3"
   ]
  },
  {
   "cell_type": "code",
   "execution_count": 18,
   "metadata": {},
   "outputs": [
    {
     "name": "stdout",
     "output_type": "stream",
     "text": [
      "0\n",
      "1\n",
      "2\n",
      "3\n",
      "4\n",
      "5\n",
      "6\n",
      "7\n",
      "8\n",
      "9\n",
      "10\n",
      "11\n",
      "12\n",
      "13\n",
      "14\n",
      "15\n",
      "16\n",
      "17\n",
      "18\n",
      "19\n",
      "20\n",
      "21\n",
      "22\n",
      "23\n",
      "24\n",
      "25\n",
      "26\n",
      "27\n",
      "28\n",
      "29\n",
      "30\n",
      "31\n",
      "32\n",
      "33\n",
      "34\n",
      "35\n",
      "36\n",
      "37\n",
      "38\n",
      "39\n",
      "40\n",
      "41\n",
      "42\n",
      "43\n",
      "44\n",
      "45\n",
      "46\n",
      "47\n",
      "48\n",
      "49\n",
      "50\n",
      "51\n",
      "52\n",
      "53\n",
      "54\n",
      "55\n",
      "56\n"
     ]
    }
   ],
   "source": [
    "a=0\n",
    "for x,y,z in zip(files1,files2,files3):\n",
    "    i1=cv2.imread(x)\n",
    "    i2=cv2.imread(y)\n",
    "    i3=cv2.imread(z,0)\n",
    "    i1=cv2.resize(i1,(3328,3328))\n",
    "    i2=cv2.resize(i2,(3328,3328))\n",
    "    #i1=cv2.cvtColor(i1,cv2.COLOR_BGR2RGB)\n",
    "    #i2=cv2.cvtColor(i2,cv2.COLOR_BGR2RGB)\n",
    "    (i3>0)*255\n",
    "    mif_green=cv2.merge([np.zeros_like(i3),i3,np.zeros_like(i3),i3])\n",
    "    #cv2.cvtColor(mi)\n",
    "\n",
    "    #i_o1=cv2.addWeighted(i1,0.7,mif_green,1,0)\n",
    "    #i_o2=cv2.addWeighted(i2,0.7,mif_green,1,0)\n",
    "\n",
    "    #fig,axes=plt.subplots(1,2,figsize=(15, 15),dpi=300)\n",
    "\n",
    "    #axes[0].imshow(i_o1)\n",
    "    #axes[1].imshow(i_o2)\n",
    "    #axes[0].axis(\"off\")\n",
    "    #axes[1].axis(\"off\")\n",
    "    #axes[0].set_title(\"Same Section\")\n",
    "    #axes[1].set_title(\"Serial Section\")\n",
    "    #fig.tight_layout()\n",
    "    #plt.savefig(\"/media/saab/f7ee81f1-4052-4c44-b470-0a4a650ee479/SGH_IMCB_NTU_Main/Processed_Data/Images_for_articles/Serial_Same_overlap_credibility/Combined/\"+f\"{a:03d}\"+\".png\")\n",
    "    #plt.close()\n",
    "    #plt.imsave(\"/media/saab/f7ee81f1-4052-4c44-b470-0a4a650ee479/SGH_IMCB_NTU_Main/Processed_Data/Images_for_articles/Serial_Same_overlap_credibility/Same/\"+f\"{a:03d}\"+\".png\",i_o1)\n",
    "    #plt.imsave(\"/media/saab/f7ee81f1-4052-4c44-b470-0a4a650ee479/SGH_IMCB_NTU_Main/Processed_Data/Images_for_articles/Serial_Same_overlap_credibility/Serial/\"+f\"{a:03d}\"+\".png\",i_o2)\n",
    "    cv2.imwrite(\"/media/saab/f7ee81f1-4052-4c44-b470-0a4a650ee479/SGH_IMCB_NTU_Main/Processed_Data/Preprocessed_Data/Validation/GT_transparent/\"+f\"{a:03d}\"+\".png\",mif_green)\n",
    "    print(a)\n",
    "    a+=1"
   ]
  },
  {
   "cell_type": "code",
   "execution_count": 11,
   "metadata": {},
   "outputs": [
    {
     "data": {
      "text/plain": [
       "array([[0, 0, 0, ..., 0, 0, 0],\n",
       "       [0, 0, 0, ..., 0, 0, 0],\n",
       "       [0, 0, 0, ..., 0, 0, 0],\n",
       "       ...,\n",
       "       [0, 0, 0, ..., 0, 0, 0],\n",
       "       [0, 0, 0, ..., 0, 0, 0],\n",
       "       [0, 0, 0, ..., 0, 0, 0]])"
      ]
     },
     "execution_count": 11,
     "metadata": {},
     "output_type": "execute_result"
    }
   ],
   "source": [
    "(i3>0)*255"
   ]
  },
  {
   "cell_type": "code",
   "execution_count": 12,
   "metadata": {},
   "outputs": [
    {
     "data": {
      "text/plain": [
       "(3328, 3328)"
      ]
     },
     "execution_count": 12,
     "metadata": {},
     "output_type": "execute_result"
    }
   ],
   "source": [
    "i3.shape"
   ]
  },
  {
   "cell_type": "code",
   "execution_count": null,
   "metadata": {},
   "outputs": [],
   "source": []
  }
 ],
 "metadata": {
  "kernelspec": {
   "display_name": "tensorflow",
   "language": "python",
   "name": "python3"
  },
  "language_info": {
   "codemirror_mode": {
    "name": "ipython",
    "version": 3
   },
   "file_extension": ".py",
   "mimetype": "text/x-python",
   "name": "python",
   "nbconvert_exporter": "python",
   "pygments_lexer": "ipython3",
   "version": "3.9.7"
  }
 },
 "nbformat": 4,
 "nbformat_minor": 2
}
