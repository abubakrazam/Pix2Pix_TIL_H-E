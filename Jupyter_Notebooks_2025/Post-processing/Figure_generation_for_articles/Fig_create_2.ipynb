{
 "cells": [
  {
   "cell_type": "code",
   "execution_count": 30,
   "metadata": {},
   "outputs": [],
   "source": [
    "import numpy as np\n",
    "import pandas as pd\n",
    "import cv2\n",
    "import os\n",
    "import shutil\n",
    "from glob import glob\n",
    "import matplotlib.pyplot as plt"
   ]
  },
  {
   "cell_type": "code",
   "execution_count": 16,
   "metadata": {},
   "outputs": [
    {
     "data": {
      "text/plain": [
       "['A162', 'A196', 'A163', 'A263', 'A143']"
      ]
     },
     "execution_count": 16,
     "metadata": {},
     "output_type": "execute_result"
    }
   ],
   "source": [
    "same_percentage_csv = pd.read_csv('/media/saab/f7ee81f1-4052-4c44-b470-0a4a650ee479/SGH_IMCB_NTU_Main/Processed_Data/Cell Counts/onco_sg_trial/11thJan2024/onco_sg_cell_same_11thJan_percentage.csv')\n",
    "same_percentage_csv__sorted = same_percentage_csv.sort_values(by='Percentage')\n",
    "top_5_patients_same = list(same_percentage_csv__sorted[-1::-1]['Patient Name'][:5])"
   ]
  },
  {
   "cell_type": "code",
   "execution_count": 49,
   "metadata": {},
   "outputs": [
    {
     "name": "stdout",
     "output_type": "stream",
     "text": [
      "['A163, solid, 20x.jpg', 'A163, solid, 5x.jpg']\n",
      "['A196, acinar, 20x.jpg', 'A196, acinar, 5x.jpg']\n",
      "['A162, acinar, 20x.jpg', 'A162, acinar, 5x.jpg']\n",
      "['A143, solid, 20x.jpg', 'A143, solid, 5x.jpg']\n",
      "['A263, papillary, 5x.jpg', 'A263, papillary, 20x.jpg']\n"
     ]
    }
   ],
   "source": [
    "count = 1\n",
    "\n",
    "for folder in os.listdir('/media/saab/f7ee81f1-4052-4c44-b470-0a4a650ee479/SGH_IMCB_NTU_Main/Processed_Data/Cell Counts/onco_sg_trial/11thJan2024/Same'):\n",
    "\n",
    "    if folder in top_5_patients_same:\n",
    "\n",
    "        file_path = os.path.join('/media/saab/f7ee81f1-4052-4c44-b470-0a4a650ee479/SGH_IMCB_NTU_Main/Processed_Data/Cell Counts/onco_sg_trial/11thJan2024/Same', folder)\n",
    "\n",
    "        new_onco_dir = '/media/saab/f7ee81f1-4052-4c44-b470-0a4a650ee479/SGH_IMCB_NTU_Main/Processed_Data/Images_for_articles/Onco_sg_selection_15thJan/Onco_' + str(count)\n",
    "        \n",
    "        os.makedirs(new_onco_dir, exist_ok =True)\n",
    "\n",
    "        shutil.copy2(file_path + '/' + os.listdir(file_path)[0], new_onco_dir + '/' + os.listdir(file_path)[0][:-4] + '_Same' + os.listdir(file_path)[0][-4:])\n",
    "\n",
    "        count = count + 1\n",
    "\n",
    "\n",
    "\n",
    "count = 1\n",
    "\n",
    "for folder in os.listdir('/media/saab/f7ee81f1-4052-4c44-b470-0a4a650ee479/SGH_IMCB_NTU_Main/Processed_Data/Cell Counts/onco_sg_trial/11thJan2024/Serial'):\n",
    "\n",
    "    if folder in top_5_patients_same:\n",
    "\n",
    "        file_path = os.path.join('/media/saab/f7ee81f1-4052-4c44-b470-0a4a650ee479/SGH_IMCB_NTU_Main/Processed_Data/Cell Counts/onco_sg_trial/11thJan2024/Serial', folder)\n",
    "\n",
    "        new_onco_dir = '/media/saab/f7ee81f1-4052-4c44-b470-0a4a650ee479/SGH_IMCB_NTU_Main/Processed_Data/Images_for_articles/Onco_sg_selection_15thJan/Onco_' + str(count)\n",
    "        \n",
    "        os.makedirs(new_onco_dir, exist_ok =True)\n",
    "\n",
    "        shutil.copy2(file_path + '/' + os.listdir(file_path)[0],  new_onco_dir + '/' + os.listdir(file_path)[0][:-4] + '_Serial' + os.listdir(file_path)[0][-4:])\n",
    "\n",
    "        count = count + 1\n",
    "\n",
    "\n",
    "\n",
    "count = 1\n",
    "\n",
    "image_path = r'/media/saab/f7ee81f1-4052-4c44-b470-0a4a650ee479/SGH_IMCB_NTU_Main/Raw_Data/onco_sg/H&E images_retiled_png/TCR.ID'\n",
    "\n",
    "for folder in os.listdir(image_path):\n",
    "\n",
    "    if folder in top_5_patients_same:\n",
    "\n",
    "        image_file = os.path.join(image_path, folder)\n",
    "\n",
    "        new_onco_dir = '/media/saab/f7ee81f1-4052-4c44-b470-0a4a650ee479/SGH_IMCB_NTU_Main/Processed_Data/Images_for_articles/Onco_sg_selection_15thJan/Onco_' + str(count)\n",
    "\n",
    "        os.makedirs(new_onco_dir, exist_ok =True)\n",
    "\n",
    "        for img in os.listdir(image_file):\n",
    "\n",
    "            if '20x.jpg' in img:\n",
    "\n",
    "                shutil.copy2(image_file + '/' + img,  new_onco_dir + '/' + os.listdir(image_file)[0][:-4] + os.listdir(image_file)[0][-4:])\n",
    "\n",
    "        count = count + 1\n",
    "\n",
    "\n",
    "\n"
   ]
  },
  {
   "cell_type": "code",
   "execution_count": 60,
   "metadata": {},
   "outputs": [],
   "source": [
    "for folder in os.listdir('/media/saab/f7ee81f1-4052-4c44-b470-0a4a650ee479/SGH_IMCB_NTU_Main/Processed_Data/Images_for_articles/Onco_sg_selection_15thJan'):\n",
    "\n",
    "    folder_path = os.path.join('/media/saab/f7ee81f1-4052-4c44-b470-0a4a650ee479/SGH_IMCB_NTU_Main/Processed_Data/Images_for_articles/Onco_sg_selection_15thJan', folder)\n",
    "\n",
    "    onco_sg_he=sorted(glob(folder_path + \"/*\"))\n",
    "\n",
    "    imga=cv2.imread(onco_sg_he[0])\n",
    "    imgy=imga[:][25:imga.shape[0]-35] #TO REMOVE SOME TEXT ON TOP AND BOTTOM\n",
    "    img=cv2.resize(imgy,(1792,768)) #TO GET ALL 256X256 TILES\n",
    "\n",
    "    img_same=np.load(onco_sg_he[1])\n",
    "    img_serial=np.load(onco_sg_he[2])\n",
    "\n",
    "    kernel1 = np.ones((9,9),np.uint8)\n",
    "    kernel2 = np.ones((5,5),np.uint8)\n",
    "    gradient1 = cv2.morphologyEx(np.array(255*(img_same>0),np.uint8), cv2.MORPH_GRADIENT, kernel1)\n",
    "    gradient2 = cv2.morphologyEx(np.array(255*(img_serial>0),np.uint8), cv2.MORPH_GRADIENT, kernel1)\n",
    "    gradient1 = cv2.morphologyEx(gradient1, cv2.MORPH_GRADIENT, kernel2)\n",
    "    gradient2 = cv2.morphologyEx(gradient2, cv2.MORPH_GRADIENT, kernel2)\n",
    "    merge1=cv2.merge([np.zeros_like(gradient1),gradient1,np.zeros_like(gradient1)])\n",
    "    merge2=cv2.merge([np.zeros_like(gradient2),gradient2,np.zeros_like(gradient2)])\n",
    "\n",
    "    result1=cv2.addWeighted(img,0.8,merge1,1,0)\n",
    "    result2=cv2.addWeighted(img,0.8,merge2,1,0)\n",
    "\n",
    "    cv2.imwrite(folder_path + \"/same.png\",result1)\n",
    "    cv2.imwrite(folder_path + \"/serial.png\",result2)\n"
   ]
  },
  {
   "cell_type": "code",
   "execution_count": 163,
   "metadata": {},
   "outputs": [],
   "source": [
    "data = pd.read_csv('/media/saab/f7ee81f1-4052-4c44-b470-0a4a650ee479/SGH_IMCB_NTU_Main/Processed_Data/Cell Counts/Validation Dataset/11thJan_2024/Same/Validation_Same_section_2024_results.csv')\n",
    "top_5_val = data[abs((data['GT_CD3P'].astype('int')) - (data['Pred_CD3P'].astype('int')))<1230]\n",
    "imp_data = list(top_5_val[top_5_val['Pred_CD3P'].astype('int')>1600]['name'])\n",
    "top_5_val = imp_data"
   ]
  },
  {
   "cell_type": "code",
   "execution_count": 164,
   "metadata": {},
   "outputs": [],
   "source": [
    "count = 1\n",
    "\n",
    "for folder in os.listdir('/media/saab/f7ee81f1-4052-4c44-b470-0a4a650ee479/SGH_IMCB_NTU_Main/Processed_Data/Cell Counts/Validation Dataset/11thJan_2024/Same/CD3P'):\n",
    "\n",
    "    if folder in top_5_val:\n",
    "\n",
    "        npy_file_path = os.path.join('/media/saab/f7ee81f1-4052-4c44-b470-0a4a650ee479/SGH_IMCB_NTU_Main/Processed_Data/Cell Counts/Validation Dataset/11thJan_2024/Same/CD3P', folder)\n",
    "\n",
    "        new_val_dir = '/media/saab/f7ee81f1-4052-4c44-b470-0a4a650ee479/SGH_IMCB_NTU_Main/Processed_Data/Images_for_articles/Validation_selection_15thJan/' + 'Val_' + str(count)\n",
    "        \n",
    "        os.makedirs(new_val_dir, exist_ok= True)\n",
    "\n",
    "        shutil.copy2(npy_file_path, new_val_dir + '/' + 'Same_' + folder)\n",
    "        \n",
    "        count = count + 1\n",
    "\n",
    "count = 1\n",
    "\n",
    "for folder in os.listdir('/media/saab/f7ee81f1-4052-4c44-b470-0a4a650ee479/SGH_IMCB_NTU_Main/Processed_Data/Cell Counts/Validation Dataset/11thJan_2024/Serial/CD3P'):\n",
    "\n",
    "    if folder in top_5_val:\n",
    "\n",
    "        npy_file_path = os.path.join('/media/saab/f7ee81f1-4052-4c44-b470-0a4a650ee479/SGH_IMCB_NTU_Main/Processed_Data/Cell Counts/Validation Dataset/11thJan_2024/Serial/CD3P', folder)\n",
    "\n",
    "        new_val_dir = '/media/saab/f7ee81f1-4052-4c44-b470-0a4a650ee479/SGH_IMCB_NTU_Main/Processed_Data/Images_for_articles/Validation_selection_15thJan/' + 'Val_' + str(count)\n",
    "        \n",
    "        os.makedirs(new_val_dir, exist_ok= True)\n",
    "\n",
    "        shutil.copy2(npy_file_path, new_val_dir + '/' + 'Serial_' + folder)\n",
    "        \n",
    "        count = count + 1\n",
    "        \n",
    "\n",
    "for folder in os.listdir('/media/saab/f7ee81f1-4052-4c44-b470-0a4a650ee479/SGH_IMCB_NTU_Main/Raw_Data/Validation Dataset/IHC_TIFF_Cropped_and_correct'):\n",
    "\n",
    "    for val_folder in os.listdir('/media/saab/f7ee81f1-4052-4c44-b470-0a4a650ee479/SGH_IMCB_NTU_Main/Processed_Data/Images_for_articles/Validation_selection_15thJan'):\n",
    "\n",
    "        if folder[:3] in os.listdir(os.path.join('/media/saab/f7ee81f1-4052-4c44-b470-0a4a650ee479/SGH_IMCB_NTU_Main/Processed_Data/Images_for_articles/Validation_selection_15thJan', val_folder))[-1]:\n",
    "\n",
    "           shutil.copy2((os.path.join('/media/saab/f7ee81f1-4052-4c44-b470-0a4a650ee479/SGH_IMCB_NTU_Main/Raw_Data/Validation Dataset/IHC_TIFF_Cropped_and_correct/'+ folder)), (os.path.join('/media/saab/f7ee81f1-4052-4c44-b470-0a4a650ee479/SGH_IMCB_NTU_Main/Processed_Data/Images_for_articles/Validation_selection_15thJan', val_folder) + '/' + 'IHC_' + folder))\n",
    "\n",
    "\n",
    "for folder in os.listdir('/media/saab/f7ee81f1-4052-4c44-b470-0a4a650ee479/SGH_IMCB_NTU_Main/Raw_Data/Validation Dataset/H&E_TIFF_Cropped'):\n",
    "\n",
    "    for val_folder in os.listdir('/media/saab/f7ee81f1-4052-4c44-b470-0a4a650ee479/SGH_IMCB_NTU_Main/Processed_Data/Images_for_articles/Validation_selection_15thJan'):\n",
    "\n",
    "        if folder[-6:-4] in os.listdir(os.path.join('/media/saab/f7ee81f1-4052-4c44-b470-0a4a650ee479/SGH_IMCB_NTU_Main/Processed_Data/Images_for_articles/Validation_selection_15thJan', val_folder))[-1][-6:]:\n",
    "\n",
    "           shutil.copy2((os.path.join('/media/saab/f7ee81f1-4052-4c44-b470-0a4a650ee479/SGH_IMCB_NTU_Main/Raw_Data/Validation Dataset/H&E_TIFF_Cropped/'+folder)), (os.path.join('/media/saab/f7ee81f1-4052-4c44-b470-0a4a650ee479/SGH_IMCB_NTU_Main/Processed_Data/Images_for_articles/Validation_selection_15thJan', val_folder) + '/' + folder))\n",
    "\n",
    "\n",
    "for folder in os.listdir('/media/saab/f7ee81f1-4052-4c44-b470-0a4a650ee479/SGH_IMCB_NTU_Main/Processed_Data/Preprocessed_Data/Validation/Validation_GT_npy/cd3_postive_nuclei'):\n",
    "\n",
    "    for val_folder in os.listdir('/media/saab/f7ee81f1-4052-4c44-b470-0a4a650ee479/SGH_IMCB_NTU_Main/Processed_Data/Images_for_articles/Validation_selection_15thJan'):\n",
    "\n",
    "        if folder[-6:-4] in os.listdir(os.path.join('/media/saab/f7ee81f1-4052-4c44-b470-0a4a650ee479/SGH_IMCB_NTU_Main/Processed_Data/Images_for_articles/Validation_selection_15thJan', val_folder))[-1][-6:]:\n",
    "\n",
    "           shutil.copy2((os.path.join('/media/saab/f7ee81f1-4052-4c44-b470-0a4a650ee479/SGH_IMCB_NTU_Main/Processed_Data/Preprocessed_Data/Validation/Validation_GT_npy/cd3_postive_nuclei/'+ folder)), (os.path.join('/media/saab/f7ee81f1-4052-4c44-b470-0a4a650ee479/SGH_IMCB_NTU_Main/Processed_Data/Images_for_articles/Validation_selection_15thJan', val_folder) + '/' + 'GT_' + folder))"
   ]
  },
  {
   "cell_type": "code",
   "execution_count": 165,
   "metadata": {},
   "outputs": [],
   "source": [
    "for folder in os.listdir('/media/saab/f7ee81f1-4052-4c44-b470-0a4a650ee479/SGH_IMCB_NTU_Main/Processed_Data/Images_for_articles/Validation_selection_15thJan'):\n",
    "\n",
    "    folder_path = os.path.join('/media/saab/f7ee81f1-4052-4c44-b470-0a4a650ee479/SGH_IMCB_NTU_Main/Processed_Data/Images_for_articles/Validation_selection_15thJan', folder)\n",
    "\n",
    "    ihc_val_he=sorted(glob(folder_path + \"/*\"))\n",
    "\n",
    "    img=cv2.imread(ihc_val_he[1])\n",
    "\n",
    "    i_same=np.array(255*(img_same>0),np.uint8)\n",
    "    i_serial=np.array(255*(img_serial>0),np.uint8)\n",
    "    merge1=cv2.merge([i_same,np.zeros_like(i_same),i_same])\n",
    "    merge2=cv2.merge([i_serial,i_serial,np.zeros_like(i_same)])\n",
    "\n",
    "    img_same=np.load(ihc_val_he[-2])\n",
    "    img_serial=np.load(ihc_val_he[-1])\n",
    "    gt=np.load(ihc_val_he[0])\n",
    "    kernel1 = np.ones((9,9),np.uint8)\n",
    "    kernel2 = np.ones((5,5),np.uint8)\n",
    "    gradient1 = cv2.morphologyEx(np.array(255*(img_same>0),np.uint8), cv2.MORPH_GRADIENT, kernel2)\n",
    "    gradient2 = cv2.morphologyEx(np.array(255*(img_serial>0),np.uint8), cv2.MORPH_GRADIENT, kernel2)\n",
    "    gradient3 = cv2.morphologyEx(np.array(255*(gt>0),np.uint8), cv2.MORPH_GRADIENT, kernel2)\n",
    "    #gradient1 = cv2.morphologyEx(gradient1, cv2.MORPH_GRADIENT, kernel2)\n",
    "    #gradient2 = cv2.morphologyEx(gradient2, cv2.MORPH_GRADIENT, kernel2)\n",
    "    #gradient3 = cv2.morphologyEx(gradient3, cv2.MORPH_GRADIENT, kernel2)\n",
    "    merge1=cv2.merge([np.zeros_like(gradient1),gradient1,np.zeros_like(gradient1)])\n",
    "    merge2=cv2.merge([np.zeros_like(gradient2),gradient2,np.zeros_like(gradient2)])\n",
    "    merge3=cv2.merge([np.zeros_like(gradient3),gradient3,np.zeros_like(gradient3)])\n",
    "\n",
    "    result1=cv2.addWeighted(img,0.8,merge1,1,0)\n",
    "    result2=cv2.addWeighted(img,0.8,merge2,1,0)\n",
    "    result3=cv2.addWeighted(img,0.8,merge3,1,0)\n",
    "\n",
    "    cv2.imwrite(folder_path + \"/same.png\",result1)\n",
    "    cv2.imwrite(folder_path + \"/serial.png\",result2)\n",
    "    cv2.imwrite(folder_path + \"/gt.png\",result3)\n",
    "\n",
    "    \n"
   ]
  },
  {
   "cell_type": "code",
   "execution_count": 146,
   "metadata": {},
   "outputs": [
    {
     "data": {
      "text/plain": [
       "(5412, 5247, 3)"
      ]
     },
     "execution_count": 146,
     "metadata": {},
     "output_type": "execute_result"
    }
   ],
   "source": [
    "img.shape"
   ]
  },
  {
   "cell_type": "code",
   "execution_count": 131,
   "metadata": {},
   "outputs": [
    {
     "data": {
      "text/plain": [
       "['/media/saab/f7ee81f1-4052-4c44-b470-0a4a650ee479/SGH_IMCB_NTU_Main/Processed_Data/Images_for_articles/Validation_selection_15thJan/Val_4/GT_034.npy',\n",
       " '/media/saab/f7ee81f1-4052-4c44-b470-0a4a650ee479/SGH_IMCB_NTU_Main/Processed_Data/Images_for_articles/Validation_selection_15thJan/Val_4/H&E_TIFF_s35.tif',\n",
       " '/media/saab/f7ee81f1-4052-4c44-b470-0a4a650ee479/SGH_IMCB_NTU_Main/Processed_Data/Images_for_articles/Validation_selection_15thJan/Val_4/IHC_035.tif',\n",
       " '/media/saab/f7ee81f1-4052-4c44-b470-0a4a650ee479/SGH_IMCB_NTU_Main/Processed_Data/Images_for_articles/Validation_selection_15thJan/Val_4/Same_034.npy',\n",
       " '/media/saab/f7ee81f1-4052-4c44-b470-0a4a650ee479/SGH_IMCB_NTU_Main/Processed_Data/Images_for_articles/Validation_selection_15thJan/Val_4/Serial_034.npy',\n",
       " '/media/saab/f7ee81f1-4052-4c44-b470-0a4a650ee479/SGH_IMCB_NTU_Main/Processed_Data/Images_for_articles/Validation_selection_15thJan/Val_4/gt.png',\n",
       " '/media/saab/f7ee81f1-4052-4c44-b470-0a4a650ee479/SGH_IMCB_NTU_Main/Processed_Data/Images_for_articles/Validation_selection_15thJan/Val_4/same.png',\n",
       " '/media/saab/f7ee81f1-4052-4c44-b470-0a4a650ee479/SGH_IMCB_NTU_Main/Processed_Data/Images_for_articles/Validation_selection_15thJan/Val_4/serial.png']"
      ]
     },
     "execution_count": 131,
     "metadata": {},
     "output_type": "execute_result"
    }
   ],
   "source": [
    "folder_path = os.path.join('/media/saab/f7ee81f1-4052-4c44-b470-0a4a650ee479/SGH_IMCB_NTU_Main/Processed_Data/Images_for_articles/Validation_selection_15thJan', folder)\n",
    "\n",
    "ihc_val_he=sorted(glob(folder_path + \"/*\"))\n",
    "\n",
    "ihc_val_he"
   ]
  },
  {
   "cell_type": "code",
   "execution_count": 132,
   "metadata": {},
   "outputs": [
    {
     "data": {
      "text/plain": [
       "['/media/saab/f7ee81f1-4052-4c44-b470-0a4a650ee479/SGH_IMCB_NTU_Main/Processed_Data/Images_for_articles/Validation_selection_15thJan/Val_1',\n",
       " '/media/saab/f7ee81f1-4052-4c44-b470-0a4a650ee479/SGH_IMCB_NTU_Main/Processed_Data/Images_for_articles/Validation_selection_15thJan/Val_2',\n",
       " '/media/saab/f7ee81f1-4052-4c44-b470-0a4a650ee479/SGH_IMCB_NTU_Main/Processed_Data/Images_for_articles/Validation_selection_15thJan/Val_3',\n",
       " '/media/saab/f7ee81f1-4052-4c44-b470-0a4a650ee479/SGH_IMCB_NTU_Main/Processed_Data/Images_for_articles/Validation_selection_15thJan/Val_4',\n",
       " '/media/saab/f7ee81f1-4052-4c44-b470-0a4a650ee479/SGH_IMCB_NTU_Main/Processed_Data/Images_for_articles/Validation_selection_15thJan/Val_5']"
      ]
     },
     "execution_count": 132,
     "metadata": {},
     "output_type": "execute_result"
    }
   ],
   "source": [
    "#Applies CD3+ boundaries on selected images\n",
    "ihc_val_he=sorted(glob(\"/media/saab/f7ee81f1-4052-4c44-b470-0a4a650ee479/SGH_IMCB_NTU_Main/Processed_Data/Images_for_articles/Validation_selection_15thJan/*\"))\n",
    "\n",
    "ihc_val_he"
   ]
  },
  {
   "cell_type": "code",
   "execution_count": 133,
   "metadata": {},
   "outputs": [
    {
     "ename": "TypeError",
     "evalue": "Image data of dtype object cannot be converted to float",
     "output_type": "error",
     "traceback": [
      "\u001b[0;31m---------------------------------------------------------------------------\u001b[0m",
      "\u001b[0;31mTypeError\u001b[0m                                 Traceback (most recent call last)",
      "\u001b[0;32m/tmp/ipykernel_113513/3724091671.py\u001b[0m in \u001b[0;36m<module>\u001b[0;34m\u001b[0m\n\u001b[1;32m      1\u001b[0m \u001b[0mimg\u001b[0m\u001b[0;34m=\u001b[0m\u001b[0mcv2\u001b[0m\u001b[0;34m.\u001b[0m\u001b[0mimread\u001b[0m\u001b[0;34m(\u001b[0m\u001b[0mihc_val_he\u001b[0m\u001b[0;34m[\u001b[0m\u001b[0;34m-\u001b[0m\u001b[0;36m1\u001b[0m\u001b[0;34m]\u001b[0m\u001b[0;34m)\u001b[0m\u001b[0;34m\u001b[0m\u001b[0;34m\u001b[0m\u001b[0m\n\u001b[0;32m----> 2\u001b[0;31m \u001b[0mplt\u001b[0m\u001b[0;34m.\u001b[0m\u001b[0mimshow\u001b[0m\u001b[0;34m(\u001b[0m\u001b[0mimg\u001b[0m\u001b[0;34m)\u001b[0m\u001b[0;34m\u001b[0m\u001b[0;34m\u001b[0m\u001b[0m\n\u001b[0m",
      "\u001b[0;32m~/anaconda3/envs/tensorflow/lib/python3.9/site-packages/matplotlib/_api/deprecation.py\u001b[0m in \u001b[0;36mwrapper\u001b[0;34m(*args, **kwargs)\u001b[0m\n\u001b[1;32m    454\u001b[0m                 \u001b[0;34m\"parameter will become keyword-only %(removal)s.\"\u001b[0m\u001b[0;34m,\u001b[0m\u001b[0;34m\u001b[0m\u001b[0;34m\u001b[0m\u001b[0m\n\u001b[1;32m    455\u001b[0m                 name=name, obj_type=f\"parameter of {func.__name__}()\")\n\u001b[0;32m--> 456\u001b[0;31m         \u001b[0;32mreturn\u001b[0m \u001b[0mfunc\u001b[0m\u001b[0;34m(\u001b[0m\u001b[0;34m*\u001b[0m\u001b[0margs\u001b[0m\u001b[0;34m,\u001b[0m \u001b[0;34m**\u001b[0m\u001b[0mkwargs\u001b[0m\u001b[0;34m)\u001b[0m\u001b[0;34m\u001b[0m\u001b[0;34m\u001b[0m\u001b[0m\n\u001b[0m\u001b[1;32m    457\u001b[0m \u001b[0;34m\u001b[0m\u001b[0m\n\u001b[1;32m    458\u001b[0m     \u001b[0;31m# Don't modify *func*'s signature, as boilerplate.py needs it.\u001b[0m\u001b[0;34m\u001b[0m\u001b[0;34m\u001b[0m\u001b[0m\n",
      "\u001b[0;32m~/anaconda3/envs/tensorflow/lib/python3.9/site-packages/matplotlib/pyplot.py\u001b[0m in \u001b[0;36mimshow\u001b[0;34m(X, cmap, norm, aspect, interpolation, alpha, vmin, vmax, origin, extent, interpolation_stage, filternorm, filterrad, resample, url, data, **kwargs)\u001b[0m\n\u001b[1;32m   2638\u001b[0m         \u001b[0minterpolation_stage\u001b[0m\u001b[0;34m=\u001b[0m\u001b[0;32mNone\u001b[0m\u001b[0;34m,\u001b[0m \u001b[0mfilternorm\u001b[0m\u001b[0;34m=\u001b[0m\u001b[0;32mTrue\u001b[0m\u001b[0;34m,\u001b[0m \u001b[0mfilterrad\u001b[0m\u001b[0;34m=\u001b[0m\u001b[0;36m4.0\u001b[0m\u001b[0;34m,\u001b[0m\u001b[0;34m\u001b[0m\u001b[0;34m\u001b[0m\u001b[0m\n\u001b[1;32m   2639\u001b[0m         resample=None, url=None, data=None, **kwargs):\n\u001b[0;32m-> 2640\u001b[0;31m     __ret = gca().imshow(\n\u001b[0m\u001b[1;32m   2641\u001b[0m         \u001b[0mX\u001b[0m\u001b[0;34m,\u001b[0m \u001b[0mcmap\u001b[0m\u001b[0;34m=\u001b[0m\u001b[0mcmap\u001b[0m\u001b[0;34m,\u001b[0m \u001b[0mnorm\u001b[0m\u001b[0;34m=\u001b[0m\u001b[0mnorm\u001b[0m\u001b[0;34m,\u001b[0m \u001b[0maspect\u001b[0m\u001b[0;34m=\u001b[0m\u001b[0maspect\u001b[0m\u001b[0;34m,\u001b[0m\u001b[0;34m\u001b[0m\u001b[0;34m\u001b[0m\u001b[0m\n\u001b[1;32m   2642\u001b[0m         \u001b[0minterpolation\u001b[0m\u001b[0;34m=\u001b[0m\u001b[0minterpolation\u001b[0m\u001b[0;34m,\u001b[0m \u001b[0malpha\u001b[0m\u001b[0;34m=\u001b[0m\u001b[0malpha\u001b[0m\u001b[0;34m,\u001b[0m \u001b[0mvmin\u001b[0m\u001b[0;34m=\u001b[0m\u001b[0mvmin\u001b[0m\u001b[0;34m,\u001b[0m\u001b[0;34m\u001b[0m\u001b[0;34m\u001b[0m\u001b[0m\n",
      "\u001b[0;32m~/anaconda3/envs/tensorflow/lib/python3.9/site-packages/matplotlib/_api/deprecation.py\u001b[0m in \u001b[0;36mwrapper\u001b[0;34m(*args, **kwargs)\u001b[0m\n\u001b[1;32m    454\u001b[0m                 \u001b[0;34m\"parameter will become keyword-only %(removal)s.\"\u001b[0m\u001b[0;34m,\u001b[0m\u001b[0;34m\u001b[0m\u001b[0;34m\u001b[0m\u001b[0m\n\u001b[1;32m    455\u001b[0m                 name=name, obj_type=f\"parameter of {func.__name__}()\")\n\u001b[0;32m--> 456\u001b[0;31m         \u001b[0;32mreturn\u001b[0m \u001b[0mfunc\u001b[0m\u001b[0;34m(\u001b[0m\u001b[0;34m*\u001b[0m\u001b[0margs\u001b[0m\u001b[0;34m,\u001b[0m \u001b[0;34m**\u001b[0m\u001b[0mkwargs\u001b[0m\u001b[0;34m)\u001b[0m\u001b[0;34m\u001b[0m\u001b[0;34m\u001b[0m\u001b[0m\n\u001b[0m\u001b[1;32m    457\u001b[0m \u001b[0;34m\u001b[0m\u001b[0m\n\u001b[1;32m    458\u001b[0m     \u001b[0;31m# Don't modify *func*'s signature, as boilerplate.py needs it.\u001b[0m\u001b[0;34m\u001b[0m\u001b[0;34m\u001b[0m\u001b[0m\n",
      "\u001b[0;32m~/anaconda3/envs/tensorflow/lib/python3.9/site-packages/matplotlib/__init__.py\u001b[0m in \u001b[0;36minner\u001b[0;34m(ax, data, *args, **kwargs)\u001b[0m\n\u001b[1;32m   1410\u001b[0m     \u001b[0;32mdef\u001b[0m \u001b[0minner\u001b[0m\u001b[0;34m(\u001b[0m\u001b[0max\u001b[0m\u001b[0;34m,\u001b[0m \u001b[0;34m*\u001b[0m\u001b[0margs\u001b[0m\u001b[0;34m,\u001b[0m \u001b[0mdata\u001b[0m\u001b[0;34m=\u001b[0m\u001b[0;32mNone\u001b[0m\u001b[0;34m,\u001b[0m \u001b[0;34m**\u001b[0m\u001b[0mkwargs\u001b[0m\u001b[0;34m)\u001b[0m\u001b[0;34m:\u001b[0m\u001b[0;34m\u001b[0m\u001b[0;34m\u001b[0m\u001b[0m\n\u001b[1;32m   1411\u001b[0m         \u001b[0;32mif\u001b[0m \u001b[0mdata\u001b[0m \u001b[0;32mis\u001b[0m \u001b[0;32mNone\u001b[0m\u001b[0;34m:\u001b[0m\u001b[0;34m\u001b[0m\u001b[0;34m\u001b[0m\u001b[0m\n\u001b[0;32m-> 1412\u001b[0;31m             \u001b[0;32mreturn\u001b[0m \u001b[0mfunc\u001b[0m\u001b[0;34m(\u001b[0m\u001b[0max\u001b[0m\u001b[0;34m,\u001b[0m \u001b[0;34m*\u001b[0m\u001b[0mmap\u001b[0m\u001b[0;34m(\u001b[0m\u001b[0msanitize_sequence\u001b[0m\u001b[0;34m,\u001b[0m \u001b[0margs\u001b[0m\u001b[0;34m)\u001b[0m\u001b[0;34m,\u001b[0m \u001b[0;34m**\u001b[0m\u001b[0mkwargs\u001b[0m\u001b[0;34m)\u001b[0m\u001b[0;34m\u001b[0m\u001b[0;34m\u001b[0m\u001b[0m\n\u001b[0m\u001b[1;32m   1413\u001b[0m \u001b[0;34m\u001b[0m\u001b[0m\n\u001b[1;32m   1414\u001b[0m         \u001b[0mbound\u001b[0m \u001b[0;34m=\u001b[0m \u001b[0mnew_sig\u001b[0m\u001b[0;34m.\u001b[0m\u001b[0mbind\u001b[0m\u001b[0;34m(\u001b[0m\u001b[0max\u001b[0m\u001b[0;34m,\u001b[0m \u001b[0;34m*\u001b[0m\u001b[0margs\u001b[0m\u001b[0;34m,\u001b[0m \u001b[0;34m**\u001b[0m\u001b[0mkwargs\u001b[0m\u001b[0;34m)\u001b[0m\u001b[0;34m\u001b[0m\u001b[0;34m\u001b[0m\u001b[0m\n",
      "\u001b[0;32m~/anaconda3/envs/tensorflow/lib/python3.9/site-packages/matplotlib/axes/_axes.py\u001b[0m in \u001b[0;36mimshow\u001b[0;34m(self, X, cmap, norm, aspect, interpolation, alpha, vmin, vmax, origin, extent, interpolation_stage, filternorm, filterrad, resample, url, **kwargs)\u001b[0m\n\u001b[1;32m   5440\u001b[0m                               **kwargs)\n\u001b[1;32m   5441\u001b[0m \u001b[0;34m\u001b[0m\u001b[0m\n\u001b[0;32m-> 5442\u001b[0;31m         \u001b[0mim\u001b[0m\u001b[0;34m.\u001b[0m\u001b[0mset_data\u001b[0m\u001b[0;34m(\u001b[0m\u001b[0mX\u001b[0m\u001b[0;34m)\u001b[0m\u001b[0;34m\u001b[0m\u001b[0;34m\u001b[0m\u001b[0m\n\u001b[0m\u001b[1;32m   5443\u001b[0m         \u001b[0mim\u001b[0m\u001b[0;34m.\u001b[0m\u001b[0mset_alpha\u001b[0m\u001b[0;34m(\u001b[0m\u001b[0malpha\u001b[0m\u001b[0;34m)\u001b[0m\u001b[0;34m\u001b[0m\u001b[0;34m\u001b[0m\u001b[0m\n\u001b[1;32m   5444\u001b[0m         \u001b[0;32mif\u001b[0m \u001b[0mim\u001b[0m\u001b[0;34m.\u001b[0m\u001b[0mget_clip_path\u001b[0m\u001b[0;34m(\u001b[0m\u001b[0;34m)\u001b[0m \u001b[0;32mis\u001b[0m \u001b[0;32mNone\u001b[0m\u001b[0;34m:\u001b[0m\u001b[0;34m\u001b[0m\u001b[0;34m\u001b[0m\u001b[0m\n",
      "\u001b[0;32m~/anaconda3/envs/tensorflow/lib/python3.9/site-packages/matplotlib/image.py\u001b[0m in \u001b[0;36mset_data\u001b[0;34m(self, A)\u001b[0m\n\u001b[1;32m    704\u001b[0m         if (self._A.dtype != np.uint8 and\n\u001b[1;32m    705\u001b[0m                 not np.can_cast(self._A.dtype, float, \"same_kind\")):\n\u001b[0;32m--> 706\u001b[0;31m             raise TypeError(\"Image data of dtype {} cannot be converted to \"\n\u001b[0m\u001b[1;32m    707\u001b[0m                             \"float\".format(self._A.dtype))\n\u001b[1;32m    708\u001b[0m \u001b[0;34m\u001b[0m\u001b[0m\n",
      "\u001b[0;31mTypeError\u001b[0m: Image data of dtype object cannot be converted to float"
     ]
    },
    {
     "data": {
      "image/png": "[encoded data removed]",
      "text/plain": [
       "<Figure size 432x288 with 1 Axes>"
      ]
     },
     "metadata": {
      "needs_background": "light"
     },
     "output_type": "display_data"
    }
   ],
   "source": [
    "img=cv2.imread(ihc_val_he[-1])\n",
    "plt.imshow(img)"
   ]
  },
  {
   "cell_type": "code",
   "execution_count": 45,
   "metadata": {},
   "outputs": [],
   "source": [
    "\n",
    "i_same=np.array(255*(img_same>0),np.uint8)\n",
    "i_serial=np.array(255*(img_serial>0),np.uint8)\n",
    "merge1=cv2.merge([i_same,np.zeros_like(i_same),i_same])\n",
    "merge2=cv2.merge([i_serial,i_serial,np.zeros_like(i_same)])"
   ]
  },
  {
   "cell_type": "code",
   "execution_count": 46,
   "metadata": {},
   "outputs": [
    {
     "data": {
      "text/plain": [
       "<matplotlib.image.AxesImage at 0x7fc23c4336a0>"
      ]
     },
     "execution_count": 46,
     "metadata": {},
     "output_type": "execute_result"
    },
    {
     "data": {
      "image/png": "[encoded data removed]",
      "text/plain": [
       "<Figure size 432x288 with 1 Axes>"
      ]
     },
     "metadata": {
      "needs_background": "light"
     },
     "output_type": "display_data"
    }
   ],
   "source": [
    "plt.imshow(merge2)"
   ]
  },
  {
   "cell_type": "code",
   "execution_count": 63,
   "metadata": {},
   "outputs": [
    {
     "data": {
      "text/plain": [
       "True"
      ]
     },
     "execution_count": 63,
     "metadata": {},
     "output_type": "execute_result"
    }
   ],
   "source": [
    "#Onco-SG H&E (.png), same and serial section predictions (.npy), ground truth (.npy)\n",
    "\n",
    "img_same=np.load(ihc_val_he[1])\n",
    "img_serial=np.load(ihc_val_he[2])\n",
    "gt=np.load(ihc_val_he[0])\n",
    "kernel1 = np.ones((9,9),np.uint8)\n",
    "kernel2 = np.ones((5,5),np.uint8)\n",
    "gradient1 = cv2.morphologyEx(np.array(255*(img_same>0),np.uint8), cv2.MORPH_GRADIENT, kernel2)\n",
    "gradient2 = cv2.morphologyEx(np.array(255*(img_serial>0),np.uint8), cv2.MORPH_GRADIENT, kernel2)\n",
    "gradient3 = cv2.morphologyEx(np.array(255*(gt>0),np.uint8), cv2.MORPH_GRADIENT, kernel2)\n",
    "#gradient1 = cv2.morphologyEx(gradient1, cv2.MORPH_GRADIENT, kernel2)\n",
    "#gradient2 = cv2.morphologyEx(gradient2, cv2.MORPH_GRADIENT, kernel2)\n",
    "#gradient3 = cv2.morphologyEx(gradient3, cv2.MORPH_GRADIENT, kernel2)\n",
    "merge1=cv2.merge([np.zeros_like(gradient1),gradient1,np.zeros_like(gradient1)])\n",
    "merge2=cv2.merge([np.zeros_like(gradient2),gradient2,np.zeros_like(gradient2)])\n",
    "merge3=cv2.merge([np.zeros_like(gradient3),gradient3,np.zeros_like(gradient3)])\n",
    "\n",
    "result1=cv2.addWeighted(img,0.8,merge1,1,0)\n",
    "result2=cv2.addWeighted(img,0.8,merge2,1,0)\n",
    "result3=cv2.addWeighted(img,0.8,merge3,1,0)\n",
    "\n",
    "cv2.imwrite(\"/media/saab/f7ee81f1-4052-4c44-b470-0a4a650ee479/SGH_IMCB_NTU_Main/Processed_Data/Images_for_articles/Validation_selection_15thJan/same.png\",result1)\n",
    "cv2.imwrite(\"/media/saab/f7ee81f1-4052-4c44-b470-0a4a650ee479/SGH_IMCB_NTU_Main/Processed_Data/Images_for_articles/Validation_selection_15thJan/serial.png\",result2)\n",
    "cv2.imwrite(\"/media/saab/f7ee81f1-4052-4c44-b470-0a4a650ee479/SGH_IMCB_NTU_Main/Processed_Data/Images_for_articles/Validation_selection_15thJan/gt.png\",result3)"
   ]
  },
  {
   "cell_type": "code",
   "execution_count": 55,
   "metadata": {},
   "outputs": [
    {
     "data": {
      "text/plain": [
       "(5478, 5225, 3)"
      ]
     },
     "execution_count": 55,
     "metadata": {},
     "output_type": "execute_result"
    }
   ],
   "source": [
    "img.shape"
   ]
  },
  {
   "cell_type": "code",
   "execution_count": 56,
   "metadata": {},
   "outputs": [
    {
     "data": {
      "text/plain": [
       "(5478, 5313, 3)"
      ]
     },
     "execution_count": 56,
     "metadata": {},
     "output_type": "execute_result"
    }
   ],
   "source": [
    "merge2.shape"
   ]
  },
  {
   "cell_type": "code",
   "execution_count": null,
   "metadata": {},
   "outputs": [],
   "source": []
  }
 ],
 "metadata": {
  "kernelspec": {
   "display_name": "tensorflow",
   "language": "python",
   "name": "python3"
  },
  "language_info": {
   "codemirror_mode": {
    "name": "ipython",
    "version": 3
   },
   "file_extension": ".py",
   "mimetype": "text/x-python",
   "name": "python",
   "nbconvert_exporter": "python",
   "pygments_lexer": "ipython3",
   "version": "3.9.7"
  }
 },
 "nbformat": 4,
 "nbformat_minor": 2
}
