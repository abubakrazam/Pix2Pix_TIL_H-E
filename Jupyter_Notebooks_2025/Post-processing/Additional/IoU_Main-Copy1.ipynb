{
 "cells": [
  {
   "cell_type": "markdown",
   "id": "4684ffc5",
   "metadata": {},
   "source": [
    "For comparison of predicted and ground truth BINARY masks"
   ]
  },
  {
   "cell_type": "code",
   "execution_count": 1,
   "id": "3e2ae1ad",
   "metadata": {},
   "outputs": [
    {
     "data": {
      "text/plain": [
       "''"
      ]
     },
     "execution_count": 1,
     "metadata": {},
     "output_type": "execute_result"
    }
   ],
   "source": [
    "import numpy as np\n",
    "import cv2\n",
    "from glob import glob\n",
    "import os\n",
    "import matplotlib.pyplot as plt\n",
    "import pandas as pd\n",
    "import tkinter\n",
    "from tkinter import filedialog\n",
    "from sklearn.metrics import jaccard_score\n",
    "tkinter.Tk().withdraw() # prevents an empty tkinter window from appearing"
   ]
  },
  {
   "cell_type": "code",
   "execution_count": 9,
   "id": "c37b14d5",
   "metadata": {},
   "outputs": [],
   "source": [
    "path1=filedialog.askdirectory(title='path for ground truth images')\n",
    "path2=filedialog.askdirectory(title='path for predicted images')\n",
    "output_imgs=sorted(glob(path1+\"/*.png\"))\n",
    "input_imgs=sorted(glob(path2+\"/*.png\"))"
   ]
  },
  {
   "cell_type": "code",
   "execution_count": 10,
   "id": "1bee953f",
   "metadata": {},
   "outputs": [
    {
     "name": "stdout",
     "output_type": "stream",
     "text": [
      "['/home/saab/Desktop/area_2/test/pred/intensity_img/000000.png', '/home/saab/Desktop/area_2/test/pred/intensity_img/000001.png']\n",
      "['/home/saab/Desktop/area_2/test/gt/intensity_img/000000.png', '/home/saab/Desktop/area_2/test/gt/intensity_img/000001.png']\n"
     ]
    }
   ],
   "source": [
    "print(input_imgs[:2])\n",
    "print(output_imgs[:2])"
   ]
  },
  {
   "cell_type": "code",
   "execution_count": 11,
   "id": "6846d8f2",
   "metadata": {},
   "outputs": [
    {
     "data": {
      "text/plain": [
       "True"
      ]
     },
     "execution_count": 11,
     "metadata": {},
     "output_type": "execute_result"
    }
   ],
   "source": [
    "#Simple check to ensure same non-zero number of images going in\n",
    "len(input_imgs)==len(output_imgs)!=0"
   ]
  },
  {
   "cell_type": "code",
   "execution_count": 28,
   "id": "4392c9d8",
   "metadata": {},
   "outputs": [
    {
     "ename": "ValueError",
     "evalue": "Samplewise metrics are not available outside of multilabel classification.",
     "output_type": "error",
     "traceback": [
      "\u001b[0;31m---------------------------------------------------------------------------\u001b[0m",
      "\u001b[0;31mValueError\u001b[0m                                Traceback (most recent call last)",
      "\u001b[0;32m/tmp/ipykernel_20290/1143157032.py\u001b[0m in \u001b[0;36m<module>\u001b[0;34m\u001b[0m\n\u001b[1;32m     19\u001b[0m     '''\n\u001b[1;32m     20\u001b[0m     \u001b[0ml_p\u001b[0m\u001b[0;34m.\u001b[0m\u001b[0mappend\u001b[0m\u001b[0;34m(\u001b[0m\u001b[0mi1\u001b[0m\u001b[0;34m.\u001b[0m\u001b[0msplit\u001b[0m\u001b[0;34m(\u001b[0m\u001b[0;34m\"/\"\u001b[0m\u001b[0;34m)\u001b[0m\u001b[0;34m[\u001b[0m\u001b[0;34m-\u001b[0m\u001b[0;36m1\u001b[0m\u001b[0;34m]\u001b[0m\u001b[0;34m)\u001b[0m\u001b[0;34m\u001b[0m\u001b[0;34m\u001b[0m\u001b[0m\n\u001b[0;32m---> 21\u001b[0;31m     \u001b[0mj\u001b[0m\u001b[0;34m=\u001b[0m\u001b[0mjaccard_score\u001b[0m\u001b[0;34m(\u001b[0m\u001b[0mi_1\u001b[0m\u001b[0;34m,\u001b[0m\u001b[0mi_2\u001b[0m \u001b[0;34m,\u001b[0m \u001b[0maverage\u001b[0m\u001b[0;34m=\u001b[0m\u001b[0;34m\"samples\"\u001b[0m\u001b[0;34m)\u001b[0m\u001b[0;34m\u001b[0m\u001b[0;34m\u001b[0m\u001b[0m\n\u001b[0m\u001b[1;32m     22\u001b[0m     \u001b[0mlst\u001b[0m\u001b[0;34m.\u001b[0m\u001b[0mappend\u001b[0m\u001b[0;34m(\u001b[0m\u001b[0mj\u001b[0m\u001b[0;34m)\u001b[0m\u001b[0;34m\u001b[0m\u001b[0;34m\u001b[0m\u001b[0m\n\u001b[1;32m     23\u001b[0m     \u001b[0;32mif\u001b[0m\u001b[0;34m(\u001b[0m\u001b[0mj\u001b[0m\u001b[0;34m>\u001b[0m\u001b[0;36m0.5\u001b[0m\u001b[0;34m)\u001b[0m\u001b[0;34m:\u001b[0m\u001b[0;34m\u001b[0m\u001b[0;34m\u001b[0m\u001b[0m\n",
      "\u001b[0;32m~/anaconda3/envs/tensorflow/lib/python3.9/site-packages/sklearn/metrics/_classification.py\u001b[0m in \u001b[0;36mjaccard_score\u001b[0;34m(y_true, y_pred, labels, pos_label, average, sample_weight, zero_division)\u001b[0m\n\u001b[1;32m    785\u001b[0m     \u001b[0mlabels\u001b[0m \u001b[0;34m=\u001b[0m \u001b[0m_check_set_wise_labels\u001b[0m\u001b[0;34m(\u001b[0m\u001b[0my_true\u001b[0m\u001b[0;34m,\u001b[0m \u001b[0my_pred\u001b[0m\u001b[0;34m,\u001b[0m \u001b[0maverage\u001b[0m\u001b[0;34m,\u001b[0m \u001b[0mlabels\u001b[0m\u001b[0;34m,\u001b[0m \u001b[0mpos_label\u001b[0m\u001b[0;34m)\u001b[0m\u001b[0;34m\u001b[0m\u001b[0;34m\u001b[0m\u001b[0m\n\u001b[1;32m    786\u001b[0m     \u001b[0msamplewise\u001b[0m \u001b[0;34m=\u001b[0m \u001b[0maverage\u001b[0m \u001b[0;34m==\u001b[0m \u001b[0;34m\"samples\"\u001b[0m\u001b[0;34m\u001b[0m\u001b[0;34m\u001b[0m\u001b[0m\n\u001b[0;32m--> 787\u001b[0;31m     MCM = multilabel_confusion_matrix(\n\u001b[0m\u001b[1;32m    788\u001b[0m         \u001b[0my_true\u001b[0m\u001b[0;34m,\u001b[0m\u001b[0;34m\u001b[0m\u001b[0;34m\u001b[0m\u001b[0m\n\u001b[1;32m    789\u001b[0m         \u001b[0my_pred\u001b[0m\u001b[0;34m,\u001b[0m\u001b[0;34m\u001b[0m\u001b[0;34m\u001b[0m\u001b[0m\n",
      "\u001b[0;32m~/anaconda3/envs/tensorflow/lib/python3.9/site-packages/sklearn/metrics/_classification.py\u001b[0m in \u001b[0;36mmultilabel_confusion_matrix\u001b[0;34m(y_true, y_pred, sample_weight, labels, samplewise)\u001b[0m\n\u001b[1;32m    492\u001b[0m     \u001b[0;32mif\u001b[0m \u001b[0my_true\u001b[0m\u001b[0;34m.\u001b[0m\u001b[0mndim\u001b[0m \u001b[0;34m==\u001b[0m \u001b[0;36m1\u001b[0m\u001b[0;34m:\u001b[0m\u001b[0;34m\u001b[0m\u001b[0;34m\u001b[0m\u001b[0m\n\u001b[1;32m    493\u001b[0m         \u001b[0;32mif\u001b[0m \u001b[0msamplewise\u001b[0m\u001b[0;34m:\u001b[0m\u001b[0;34m\u001b[0m\u001b[0;34m\u001b[0m\u001b[0m\n\u001b[0;32m--> 494\u001b[0;31m             raise ValueError(\n\u001b[0m\u001b[1;32m    495\u001b[0m                 \u001b[0;34m\"Samplewise metrics are not available outside of \"\u001b[0m\u001b[0;34m\u001b[0m\u001b[0;34m\u001b[0m\u001b[0m\n\u001b[1;32m    496\u001b[0m                 \u001b[0;34m\"multilabel classification.\"\u001b[0m\u001b[0;34m\u001b[0m\u001b[0;34m\u001b[0m\u001b[0m\n",
      "\u001b[0;31mValueError\u001b[0m: Samplewise metrics are not available outside of multilabel classification."
     ]
    }
   ],
   "source": [
    "lst=[]\n",
    "l_p=[]\n",
    "l_tf=[]\n",
    "for i1,i2 in zip(input_imgs,output_imgs):\n",
    "    \n",
    "    img1=cv2.imread(i1,0)\n",
    "    img2=cv2.imread(i2,0)\n",
    "    i_1=img1.reshape(-1)\n",
    "    i_2=img2.reshape(-1)\n",
    "    '''\n",
    "    if(len(np.unique(i_1))!=1 and len(np.unique(i_2))!=1):\n",
    "        l_p.append(i1.split(\"/\")[-1])\n",
    "        j=jaccard_score(i_1,i_2 , average=\"weighted\")\n",
    "        lst.append(j)\n",
    "        if(j>0.5):\n",
    "            l_tf.append(1)\n",
    "        else:\n",
    "            l_tf.append(0)\n",
    "    '''\n",
    "    l_p.append(i1.split(\"/\")[-1])\n",
    "    j=jaccard_score(i_1,i_2 , average=\"samples\")\n",
    "    lst.append(j)\n",
    "    if(j>0.5):\n",
    "        l_tf.append(1)\n",
    "    else:\n",
    "        l_tf.append(0)\n",
    "    "
   ]
  },
  {
   "cell_type": "code",
   "execution_count": 25,
   "id": "9f36c847",
   "metadata": {},
   "outputs": [],
   "source": [
    "a1=np.average(lst)\n",
    "a2=np.average(l_tf)\n",
    "lst.append(a1)\n",
    "l_tf.append(a2)\n",
    "l_p.append(\"Total\")"
   ]
  },
  {
   "cell_type": "code",
   "execution_count": 26,
   "id": "538158eb",
   "metadata": {},
   "outputs": [],
   "source": [
    "df=pd.DataFrame({'name': l_p,'IoU':lst,'True/False':l_tf})"
   ]
  },
  {
   "cell_type": "code",
   "execution_count": 27,
   "id": "1d2b5344",
   "metadata": {},
   "outputs": [],
   "source": [
    "path3=filedialog.askdirectory(title='path for csv')\n",
    "df.to_csv(path3+\"/test_3.csv\",index=False)"
   ]
  },
  {
   "cell_type": "code",
   "execution_count": null,
   "id": "8966fa93",
   "metadata": {},
   "outputs": [],
   "source": []
  }
 ],
 "metadata": {
  "kernelspec": {
   "display_name": "Python 3 (ipykernel)",
   "language": "python",
   "name": "python3"
  },
  "language_info": {
   "codemirror_mode": {
    "name": "ipython",
    "version": 3
   },
   "file_extension": ".py",
   "mimetype": "text/x-python",
   "name": "python",
   "nbconvert_exporter": "python",
   "pygments_lexer": "ipython3",
   "version": "3.9.7"
  }
 },
 "nbformat": 4,
 "nbformat_minor": 5
}
