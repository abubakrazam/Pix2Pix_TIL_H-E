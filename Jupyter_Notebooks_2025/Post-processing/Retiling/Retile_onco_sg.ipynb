{
 "cells": [
  {
   "cell_type": "code",
   "execution_count": 8,
   "metadata": {},
   "outputs": [
    {
     "ename": "TypeError",
     "evalue": "can only concatenate tuple (not \"str\") to tuple",
     "output_type": "error",
     "traceback": [
      "\u001b[0;31m---------------------------------------------------------------------------\u001b[0m",
      "\u001b[0;31mTypeError\u001b[0m                                 Traceback (most recent call last)",
      "\u001b[0;32m/tmp/ipykernel_2721569/4210263237.py\u001b[0m in \u001b[0;36m<module>\u001b[0;34m\u001b[0m\n\u001b[1;32m     16\u001b[0m \u001b[0;31m#date=\"13thOct\"\u001b[0m\u001b[0;34m\u001b[0m\u001b[0;34m\u001b[0m\u001b[0m\n\u001b[1;32m     17\u001b[0m \u001b[0;34m\u001b[0m\u001b[0m\n\u001b[0;32m---> 18\u001b[0;31m \u001b[0mfiles\u001b[0m\u001b[0;34m=\u001b[0m\u001b[0;34m[\u001b[0m\u001b[0mx\u001b[0m \u001b[0;32mfor\u001b[0m \u001b[0mx\u001b[0m \u001b[0;32min\u001b[0m \u001b[0msorted\u001b[0m\u001b[0;34m(\u001b[0m\u001b[0mglob\u001b[0m\u001b[0;34m.\u001b[0m\u001b[0mglob\u001b[0m\u001b[0;34m(\u001b[0m\u001b[0mpath\u001b[0m\u001b[0;34m+\u001b[0m\u001b[0;34m\"/*/*20x*.jpg\"\u001b[0m\u001b[0;34m)\u001b[0m\u001b[0;34m)\u001b[0m\u001b[0;34m]\u001b[0m \u001b[0;31m# Individual Patient's data (may contain multiple images)\u001b[0m\u001b[0;34m\u001b[0m\u001b[0;34m\u001b[0m\u001b[0m\n\u001b[0m\u001b[1;32m     19\u001b[0m \u001b[0;31m#masks=[\"mask\"+str(x) for x in range(len(files)-1)]\u001b[0m\u001b[0;34m\u001b[0m\u001b[0;34m\u001b[0m\u001b[0m\n\u001b[1;32m     20\u001b[0m \u001b[0mno_duplicates\u001b[0m\u001b[0;34m=\u001b[0m\u001b[0;32mFalse\u001b[0m\u001b[0;34m\u001b[0m\u001b[0;34m\u001b[0m\u001b[0m\n",
      "\u001b[0;31mTypeError\u001b[0m: can only concatenate tuple (not \"str\") to tuple"
     ]
    }
   ],
   "source": [
    "import cv2\n",
    "import math\n",
    "import os\n",
    "import glob\n",
    "import matplotlib.pyplot as plt\n",
    "import shutil\n",
    "import numpy as np\n",
    "import tkinter\n",
    "from tkinter import filedialog\n",
    "from skimage.color import rgb2hed\n",
    "from skimage.exposure import rescale_intensity\n",
    "import numpy as np\n",
    "tkinter.Tk().withdraw()\n",
    "\n",
    "path=filedialog.askdirectory(title=\"Main_images\")  #Path for main Images\n",
    "#date=\"13thOct\"\n",
    "\n",
    "files=[x for x in sorted(glob.glob(path+\"/*/*20x*.jpg\"))] # Individual Patient's data (may contain multiple images)\n",
    "#masks=[\"mask\"+str(x) for x in range(len(files)-1)]\n",
    "no_duplicates=False"
   ]
  },
  {
   "cell_type": "code",
   "execution_count": 7,
   "metadata": {},
   "outputs": [
    {
     "data": {
      "text/plain": [
       "[]"
      ]
     },
     "execution_count": 7,
     "metadata": {},
     "output_type": "execute_result"
    }
   ],
   "source": [
    "st=set(([x.split(\"/\")[len(x.split(\"/\"))-2] for x in files])) # Using set theory to segregate \n",
    "                                                                #actual number of patients\n",
    "st=sorted(list(st))\n",
    "st"
   ]
  },
  {
   "cell_type": "code",
   "execution_count": 4,
   "metadata": {},
   "outputs": [
    {
     "data": {
      "text/plain": [
       "'/media/saab/f7ee81f1-4052-4c44-b470-0a4a650ee479/SGH_IMCB_NTU_Main/Processed_Data/Predicted_CD3P_Regions/onco_sg_trial/22_May_2024/Same/Tiled'"
      ]
     },
     "execution_count": 4,
     "metadata": {},
     "output_type": "execute_result"
    }
   ],
   "source": [
    "path #Sanity check to check where is data taken from"
   ]
  },
  {
   "cell_type": "code",
   "execution_count": 5,
   "metadata": {},
   "outputs": [
    {
     "name": "stdout",
     "output_type": "stream",
     "text": [
      "A006 1\n",
      "A008 1\n",
      "A012 1\n",
      "A015 1\n",
      "A016 1\n",
      "A017 1\n",
      "A021 1\n",
      "A025 1\n",
      "A027 1\n",
      "A028 1\n",
      "A033 1\n",
      "A037 1\n",
      "A062 1\n",
      "A063 1\n",
      "A066 1\n",
      "A068 1\n",
      "A071 1\n",
      "A072 1\n",
      "A073 1\n",
      "A074 1\n",
      "A100 1\n",
      "A101 1\n",
      "A102 1\n",
      "A103 1\n",
      "A104 1\n",
      "A109 1\n",
      "A110 1\n",
      "A111 1\n",
      "A112 1\n",
      "A114 1\n",
      "A117 1\n",
      "A120 1\n",
      "A122 1\n",
      "A124 1\n",
      "A126 1\n",
      "A130 1\n",
      "A131 1\n",
      "A134 1\n",
      "A136 1\n",
      "A138 1\n",
      "A139 1\n",
      "A143 1\n",
      "A144 1\n",
      "A146 1\n",
      "A147 1\n",
      "A148 1\n",
      "A149 1\n",
      "A150 1\n",
      "A152 1\n",
      "A153 1\n",
      "A155 1\n",
      "A156 1\n",
      "A157 1\n",
      "A158 1\n",
      "A159 1\n",
      "A162 1\n",
      "A163 1\n",
      "A165 1\n",
      "A167 1\n",
      "A168 1\n",
      "A169 1\n",
      "A177 1\n",
      "A182 1\n",
      "A183 1\n",
      "A184 2\n",
      "A185 1\n",
      "A186 2\n",
      "A187 3\n",
      "A188 1\n",
      "A190 1\n",
      "A191 1\n",
      "A192 1\n",
      "A193 2\n",
      "A194 1\n",
      "A195 1\n",
      "A196 1\n",
      "A197 1\n",
      "A198 1\n",
      "A199 1\n",
      "A200 2\n",
      "A201 1\n",
      "A202 1\n",
      "A204 3\n",
      "A205 1\n",
      "A206 3\n",
      "A207 1\n",
      "A208 2\n",
      "A209 2\n",
      "A210 1\n",
      "A211 1\n",
      "A212 3\n",
      "A213 1\n",
      "A214 1\n",
      "A215 1\n",
      "A216 2\n",
      "A217 1\n",
      "A218 1\n",
      "A219 1\n",
      "A220 1\n",
      "A221 2\n",
      "A222 1\n",
      "A228 1\n",
      "A229 1\n",
      "A230 3\n",
      "A232 1\n",
      "A233 1\n",
      "A234 1\n",
      "A239 1\n",
      "A240 1\n",
      "A241 1\n",
      "A243 1\n",
      "A247 1\n",
      "A249 1\n",
      "A250 1\n",
      "A252 1\n",
      "A255 1\n",
      "A258 1\n",
      "A260 1\n",
      "A261 1\n",
      "A262 1\n",
      "A263 1\n",
      "A264 1\n",
      "A265 1\n",
      "A266 1\n",
      "A267 1\n",
      "A268 1\n",
      "A269 1\n",
      "A270 1\n",
      "A271 1\n",
      "A272 1\n",
      "A273 1\n",
      "A275 1\n",
      "A276 1\n",
      "A278 1\n",
      "A279 1\n",
      "A280 1\n",
      "A281 1\n",
      "A282 1\n",
      "A283 1\n",
      "A284 1\n",
      "A285 1\n",
      "A295 1\n",
      "A302 1\n",
      "A306 1\n",
      "A307 1\n",
      "A310 2\n",
      "A315 1\n",
      "A316 1\n",
      "A320 1\n",
      "A322 1\n",
      "A323 1\n",
      "A349 1\n",
      "A364 1\n",
      "A368 1\n",
      "A375 1\n",
      "A377 1\n",
      "A379 1\n",
      "A380 1\n",
      "A381 1\n",
      "A425 1\n",
      "A426 1\n",
      "A428 1\n",
      "A430 1\n",
      "A432 1\n",
      "A433 1\n",
      "A434 1\n",
      "A435 1\n",
      "A483 1\n",
      "A484 2\n",
      "A485 1\n",
      "A486 2\n",
      "A488 1\n",
      "A489 1\n",
      "A490 1\n",
      "A492 1\n",
      "A493 1\n",
      "A494 1\n",
      "A495 1\n",
      "A496 1\n",
      "A497 1\n",
      "A499 1\n",
      "A500 1\n",
      "A501 1\n",
      "A502 1\n",
      "A503 1\n",
      "A504 1\n",
      "A505 1\n",
      "A508 1\n",
      "A509 1\n",
      "A510 1\n",
      "A511 1\n",
      "A512 1\n",
      "A513 1\n",
      "A514 1\n",
      "A517 1\n",
      "A519 1\n",
      "A521 1\n",
      "A522 1\n",
      "A524 1\n",
      "A530 1\n",
      "A532 1\n",
      "A534 1\n",
      "A537 2\n",
      "A538 1\n"
     ]
    }
   ],
   "source": [
    "path2=filedialog.askdirectory(title=\"results\") #Results folder to put retiled images\n",
    "for x in st: #For loop for each patient\n",
    "    print(x,end=\" \")\n",
    "    os.makedirs(path2+\"/\"+x+\"/\",exist_ok=True)\n",
    "    y=sorted(glob.glob(path+\"/\"+x+\"/*20x*.jpg\"))#Get all image paths per patient  \n",
    "    print(len(y))\n",
    "    for z in y: #Read indivdiual image path\n",
    "        imgs=(sorted(glob.glob(z+\"/*\")))\n",
    "        a=np.empty((1792,768,3), float)  #Hard-coded size of onco-sg image 3x7 =21 256*256 images\n",
    "        \n",
    "        t4=np.array([0])#Empty image\n",
    "        s1=a.shape[1]//256 #Vertical shape\n",
    "        s2=a.shape[0]//256 #Horizontal shape\n",
    "        \n",
    "        ##For non even shapes\n",
    "        if(a.shape[1]%256>0): \n",
    "            s1+=1\n",
    "        if(a.shape[0]%256>0):\n",
    "            s2+=1\n",
    "            \n",
    "            \n",
    "        for i in range(s1):\n",
    "            k=i*s2+1\n",
    "            p1=z+\"/\"+f\"{k:06d}\"+\".png\"\n",
    "            #print(k)\n",
    "            t=cv2.imread(p1)\n",
    "            t=cv2.cvtColor(t,cv2.COLOR_BGR2RGB)\n",
    "            for j in range(1,s2):\n",
    "                l=i*s2+j+1\n",
    "                #print(l, end=\" \")\n",
    "                p2=z+\"/\"+f\"{l:06d}\"+\".png\"\n",
    "                    #print(p2)\n",
    "                t1=cv2.imread(p2)\n",
    "                t1=cv2.cvtColor(t1,cv2.COLOR_BGR2RGB)\n",
    "                t2=cv2.hconcat([t,t1])\n",
    "\n",
    "                t=t2\n",
    "            if i==0:\n",
    "                t4=t\n",
    "\n",
    "            else:\n",
    "                #print(t4.shape)\n",
    "                #plt.imshow(t4)\n",
    "                t4=cv2.vconcat([t4,t])\n",
    "\n",
    "            plt.imsave(path2+\"/\"+x+\"/\"+z.split(\"/\")[-1],t4)\n",
    "            #print(\" \")\n"
   ]
  },
  {
   "cell_type": "code",
   "execution_count": 33,
   "metadata": {},
   "outputs": [],
   "source": [
    "y=sorted(glob.glob(path+\"/\"+x+\"/*20x*.jpg\"))"
   ]
  },
  {
   "cell_type": "code",
   "execution_count": 34,
   "metadata": {},
   "outputs": [
    {
     "data": {
      "text/plain": [
       "['/media/saab/f7ee81f1-4052-4c44-b470-0a4a650ee479/Raw_Data/Onco_sg_stain_denconv/A538/A538, acinar, 20x.jpg']"
      ]
     },
     "execution_count": 34,
     "metadata": {},
     "output_type": "execute_result"
    }
   ],
   "source": [
    "y"
   ]
  },
  {
   "cell_type": "code",
   "execution_count": 36,
   "metadata": {},
   "outputs": [
    {
     "data": {
      "text/plain": [
       "'A538, acinar, 20x.jpg'"
      ]
     },
     "execution_count": 36,
     "metadata": {},
     "output_type": "execute_result"
    }
   ],
   "source": [
    "z.split(\"/\")[-1]"
   ]
  },
  {
   "cell_type": "code",
   "execution_count": 39,
   "metadata": {},
   "outputs": [
    {
     "data": {
      "text/plain": [
       "'/home/saab/Desktop/Onco_sg_trial/A538/A538, acinar, 20x.jpg'"
      ]
     },
     "execution_count": 39,
     "metadata": {},
     "output_type": "execute_result"
    }
   ],
   "source": [
    "path2+\"/\"+x+\"/\"+z.split(\"/\")[-1]"
   ]
  },
  {
   "cell_type": "code",
   "execution_count": null,
   "metadata": {},
   "outputs": [],
   "source": []
  }
 ],
 "metadata": {
  "kernelspec": {
   "display_name": "Python 3 (ipykernel)",
   "language": "python",
   "name": "python3"
  },
  "language_info": {
   "codemirror_mode": {
    "name": "ipython",
    "version": 3
   },
   "file_extension": ".py",
   "mimetype": "text/x-python",
   "name": "python",
   "nbconvert_exporter": "python",
   "pygments_lexer": "ipython3",
   "version": "3.9.7"
  }
 },
 "nbformat": 4,
 "nbformat_minor": 4
}
