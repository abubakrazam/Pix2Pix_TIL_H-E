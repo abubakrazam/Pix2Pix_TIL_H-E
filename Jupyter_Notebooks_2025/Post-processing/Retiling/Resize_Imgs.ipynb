{
 "cells": [
  {
   "cell_type": "code",
   "execution_count": 1,
   "id": "8574cc1b",
   "metadata": {},
   "outputs": [],
   "source": [
    "import numpy as np\n",
    "import matplotlib.pyplot as plt\n",
    "import cv2\n",
    "import os \n",
    "from glob import glob"
   ]
  },
  {
   "cell_type": "code",
   "execution_count": 3,
   "id": "412062d1",
   "metadata": {},
   "outputs": [
    {
     "name": "stdout",
     "output_type": "stream",
     "text": [
      "True\n"
     ]
    }
   ],
   "source": [
    "f1=sorted(glob(\"/media/saab/f7ee81f1-4052-4c44-b470-0a4a650ee479/Raw_Data/HE_Validation/*\"))\n",
    "f2=sorted(glob(\"/media/saab/f7ee81f1-4052-4c44-b470-0a4a650ee479/Raw_Data/IHC_Validation/*\"))\n",
    "print(len(f1)==len(f2))"
   ]
  },
  {
   "cell_type": "code",
   "execution_count": 11,
   "id": "afc73e74",
   "metadata": {},
   "outputs": [],
   "source": [
    "for x,y in zip(f1,f2):\n",
    "    i=cv2.imread(x)\n",
    "    j=cv2.imread(y)\n",
    "    \n",
    "    if(i.shape[0]<j.shape[0]):\n",
    "        if(i.shape[0]/256<(256/2)):\n",
    "            #print((i.shape[0]-i.shape[0]%256)%256)\n",
    "            a=(i.shape[0]-i.shape[0]%256)\n",
    "        else:\n",
    "            #print((i.shape[0]+i.shape[0]%256)%256)\n",
    "            a=(i.shape[0]+i.shape[0]%256)\n",
    "    else:\n",
    "        if(j.shape[0]/256<(256/2)):\n",
    "            #print((j.shape[0]-j.shape[0]%256)%256)\n",
    "            a=(j.shape[0]-j.shape[0]%256)\n",
    "        else:\n",
    "            #print((j.shape[0]+j.shape[0]%256)%256)\n",
    "            a=(j.shape[0]+j.shape[0]%256)\n",
    "    if(i.shape[1]<j.shape[1]):\n",
    "        if(i.shape[1]/256<(256/2)):\n",
    "            #print((i.shape[1]-i.shape[1]%256)%256)\n",
    "            b=(i.shape[1]-i.shape[1]%256)\n",
    "        else:\n",
    "            #print((i.shape[1]+i.shape[1]%256)%256)\n",
    "            b=(i.shape[1]+i.shape[1]%256)\n",
    "    else:\n",
    "        if(j.shape[1]/256<(256/2)):\n",
    "            #print((j.shape[1]-j.shape[1]%256)%256)\n",
    "            b=(j.shape[1]-j.shape[1]%256)\n",
    "        else:\n",
    "            #print((j.shape[1]+j.shape[1]%256)%256)\n",
    "            b=(j.shape[1]+j.shape[1]%256)\n",
    "    i=cv2.resize(i,(a,b))\n",
    "    j=cv2.resize(j,(a,b))\n",
    "    cv2.imwrite(x,i)\n",
    "    cv2.imwrite(y,j)"
   ]
  },
  {
   "cell_type": "code",
   "execution_count": null,
   "id": "b126027c",
   "metadata": {},
   "outputs": [],
   "source": []
  }
 ],
 "metadata": {
  "kernelspec": {
   "display_name": "Python 3 (ipykernel)",
   "language": "python",
   "name": "python3"
  },
  "language_info": {
   "codemirror_mode": {
    "name": "ipython",
    "version": 3
   },
   "file_extension": ".py",
   "mimetype": "text/x-python",
   "name": "python",
   "nbconvert_exporter": "python",
   "pygments_lexer": "ipython3",
   "version": "3.9.7"
  }
 },
 "nbformat": 4,
 "nbformat_minor": 5
}
