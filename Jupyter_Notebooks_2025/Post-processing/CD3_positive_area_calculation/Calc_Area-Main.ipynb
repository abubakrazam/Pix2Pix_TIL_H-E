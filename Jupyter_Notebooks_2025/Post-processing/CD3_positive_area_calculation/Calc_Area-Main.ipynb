{
 "cells": [
  {
   "cell_type": "code",
   "execution_count": 1,
   "id": "e169a6fd",
   "metadata": {},
   "outputs": [
    {
     "data": {
      "text/plain": [
       "''"
      ]
     },
     "execution_count": 1,
     "metadata": {},
     "output_type": "execute_result"
    }
   ],
   "source": [
    "import numpy as np\n",
    "import cv2\n",
    "from glob import glob\n",
    "import os\n",
    "import matplotlib.pyplot as plt\n",
    "import pandas as pd\n",
    "import tkinter\n",
    "from tkinter import filedialog\n",
    "tkinter.Tk().withdraw() # prevents an empty tkinter window from appearing"
   ]
  },
  {
   "cell_type": "code",
   "execution_count": 10,
   "id": "ca34e927",
   "metadata": {},
   "outputs": [],
   "source": [
    "path1 = filedialog.askdirectory()\n"
   ]
  },
  {
   "cell_type": "code",
   "execution_count": 11,
   "id": "0a8aa737",
   "metadata": {},
   "outputs": [
    {
     "data": {
      "text/plain": [
       "'/home/saab/Desktop/Processed_Data/Predicted_CD3P_Regions/Same_Slide/27thApr/test/pred'"
      ]
     },
     "execution_count": 11,
     "metadata": {},
     "output_type": "execute_result"
    }
   ],
   "source": [
    "path1"
   ]
  },
  {
   "cell_type": "code",
   "execution_count": 12,
   "id": "334b551a",
   "metadata": {},
   "outputs": [
    {
     "name": "stdout",
     "output_type": "stream",
     "text": [
      "946\n"
     ]
    }
   ],
   "source": [
    "img_list=[x for x in sorted(glob(path1+\"/*\"))]\n",
    "\n",
    "print(len(img_list))"
   ]
  },
  {
   "cell_type": "code",
   "execution_count": 13,
   "id": "ccebdd10",
   "metadata": {},
   "outputs": [
    {
     "data": {
      "text/plain": [
       "['/home/saab/Desktop/Processed_Data/Predicted_CD3P_Regions/Same_Slide/27thApr/test/pred/000000.png',\n",
       " '/home/saab/Desktop/Processed_Data/Predicted_CD3P_Regions/Same_Slide/27thApr/test/pred/000001.png',\n",
       " '/home/saab/Desktop/Processed_Data/Predicted_CD3P_Regions/Same_Slide/27thApr/test/pred/000002.png',\n",
       " '/home/saab/Desktop/Processed_Data/Predicted_CD3P_Regions/Same_Slide/27thApr/test/pred/000003.png',\n",
       " '/home/saab/Desktop/Processed_Data/Predicted_CD3P_Regions/Same_Slide/27thApr/test/pred/000004.png',\n",
       " '/home/saab/Desktop/Processed_Data/Predicted_CD3P_Regions/Same_Slide/27thApr/test/pred/000005.png',\n",
       " '/home/saab/Desktop/Processed_Data/Predicted_CD3P_Regions/Same_Slide/27thApr/test/pred/000006.png',\n",
       " '/home/saab/Desktop/Processed_Data/Predicted_CD3P_Regions/Same_Slide/27thApr/test/pred/000007.png',\n",
       " '/home/saab/Desktop/Processed_Data/Predicted_CD3P_Regions/Same_Slide/27thApr/test/pred/000008.png',\n",
       " '/home/saab/Desktop/Processed_Data/Predicted_CD3P_Regions/Same_Slide/27thApr/test/pred/000009.png']"
      ]
     },
     "execution_count": 13,
     "metadata": {},
     "output_type": "execute_result"
    }
   ],
   "source": [
    "img_list[0:10]"
   ]
  },
  {
   "cell_type": "code",
   "execution_count": 14,
   "id": "1415a61f",
   "metadata": {},
   "outputs": [],
   "source": [
    "path2=filedialog.askdirectory()\n",
    "#########FOR INTENSITY VARIATIONS####################\n",
    "os.makedirs(path2+\"/intensity_img/\",exist_ok=True)\n",
    "#########BINARY ONLY####################\n",
    "os.makedirs(path2+\"/images/\",exist_ok=True)"
   ]
  },
  {
   "cell_type": "code",
   "execution_count": 15,
   "id": "4de873e3",
   "metadata": {},
   "outputs": [],
   "source": [
    "zero=np.zeros([256,256],np.uint8)\n",
    "x=0\n",
    "lst=[]\n",
    "l2=[]\n",
    "l3=[]\n",
    "for y in img_list:\n",
    "\n",
    "    l3.append(y.split(\"/\")[-1])\n",
    "    \n",
    "    img=cv2.imread(y)\n",
    "    b,g,r=cv2.split(img)\n",
    "    ret,thresh1 = cv2.threshold(g,130,255,cv2.THRESH_BINARY)\n",
    "\n",
    "    #########FOR INTENSITY VARIATIONS####################\n",
    "    plt.imsave(path2+\"/intensity_img/\"+f\"{x:06d}\"+\".png\",thresh1*g/255,cmap=\"gray\")\n",
    "    #lst.append(sum((thresh1*g/(255*255)).reshape(-1)))\n",
    "    #########BINARY ONLY####################\n",
    "    plt.imsave(path2+\"/images/\"+f\"{x:06d}\"+\".png\",thresh1,cmap=\"gray\")\n",
    "    #lst.append(sum((thresh1).reshape(-1)/255))\n",
    "    ###################################################\n",
    "    x=x+1\n",
    "\n",
    "            "
   ]
  },
  {
   "cell_type": "code",
   "execution_count": null,
   "id": "83067d23",
   "metadata": {},
   "outputs": [],
   "source": []
  },
  {
   "cell_type": "code",
   "execution_count": 8,
   "id": "68895084",
   "metadata": {},
   "outputs": [],
   "source": [
    "df=pd.DataFrame(zip(l3,lst),columns=[\"Image_no\",\"Area\"])"
   ]
  },
  {
   "cell_type": "code",
   "execution_count": 9,
   "id": "90b2ebbc",
   "metadata": {},
   "outputs": [],
   "source": [
    "df.to_csv(path2+\"/areas.csv\",index=False)"
   ]
  },
  {
   "cell_type": "code",
   "execution_count": null,
   "id": "de808dc6",
   "metadata": {},
   "outputs": [],
   "source": []
  }
 ],
 "metadata": {
  "kernelspec": {
   "display_name": "Python 3 (ipykernel)",
   "language": "python",
   "name": "python3"
  },
  "language_info": {
   "codemirror_mode": {
    "name": "ipython",
    "version": 3
   },
   "file_extension": ".py",
   "mimetype": "text/x-python",
   "name": "python",
   "nbconvert_exporter": "python",
   "pygments_lexer": "ipython3",
   "version": "3.9.7"
  }
 },
 "nbformat": 4,
 "nbformat_minor": 5
}
