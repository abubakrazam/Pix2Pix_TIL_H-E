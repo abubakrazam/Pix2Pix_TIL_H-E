{
 "cells": [
  {
   "cell_type": "code",
   "execution_count": 3,
   "metadata": {},
   "outputs": [],
   "source": [
    "import cv2\n",
    "import math\n",
    "import os\n",
    "import glob\n",
    "import matplotlib.pyplot as plt\n",
    "import numpy as np\n",
    "#date=\"13thOct\"\n",
    "#files=[x for x in sorted(glob.glob(\"/home/saab/Desktop/SGH_IMCB_NTU_Main/Processed_Data/Preprocessed_Data/Same_Slide/fluo_trial1/he_fluo/*\"))]\n",
    "files1=sorted(glob.glob(\"/media/saab/f7ee81f1-4052-4c44-b470-0a4a650ee479/SGH_IMCB_NTU_Main/Raw_Data/CD68_Same/Channel_4_Implementation/blue_nuclei/After/filtered_31/*\"))\n",
    "#files1=sorted(glob.glob(\"/media/saab/f7ee81f1-4052-4c44-b470-0a4a650ee479/SGH_IMCB_NTU_Main/Processed_Data/Preprocessed_Data/Same_Slide/18May2024/After/filtered*/*.png\"))\n",
    "files2=sorted(glob.glob(\"/media/saab/f7ee81f1-4052-4c44-b470-0a4a650ee479/SGH_IMCB_NTU_Main/Raw_Data/CD68_Same/Channel_4_Implementation/blue_nuclei/Before/*/he*.png\"))\n",
    "\n",
    "files3=sorted(glob.glob(\"/media/saab/f7ee81f1-4052-4c44-b470-0a4a650ee479/SGH_IMCB_NTU_Main/Raw_Data/CD68_Same/Channel_4_Implementation/blue_nuclei/Before/*/*blue*\"))\n",
    "\n",
    "#masks=[\"mask\"+str(x) for x in range(2)]\n",
    "no_duplicates=True"
   ]
  },
  {
   "cell_type": "code",
   "execution_count": 4,
   "metadata": {},
   "outputs": [
    {
     "data": {
      "text/plain": [
       "[]"
      ]
     },
     "execution_count": 4,
     "metadata": {},
     "output_type": "execute_result"
    }
   ],
   "source": [
    "files1"
   ]
  },
  {
   "cell_type": "code",
   "execution_count": 3,
   "metadata": {},
   "outputs": [
    {
     "data": {
      "text/plain": [
       "True"
      ]
     },
     "execution_count": 3,
     "metadata": {},
     "output_type": "execute_result"
    }
   ],
   "source": [
    "#masks\n",
    "len(files1)==len(files2)\n"
   ]
  },
  {
   "cell_type": "code",
   "execution_count": 4,
   "metadata": {},
   "outputs": [
    {
     "name": "stdout",
     "output_type": "stream",
     "text": [
      "* * * * * * * * * * * * * * * * * * * * * * * * * * * * * * * * * * * * * * * * * * * * * * * * * * * * * * * * * * * * * * * * * * * * * * * * * * * * * * * * * * * * * * * * * * * * * * * * * * * * * * * * * * * * * * * * * * * * * * * * * * * * * * * * * * * * * * * * * * * * * * * * * * * * * * * * * * * * * * * * * * * * * * * * * * * * * * * * * * * * * * * * * * * * * * * * * * * * * * * * * * * * * * * * * * * * * * * * * * * * * * * * * * * * * * * * * * * * * * * * * * * * * * * * * * * * * * * * * * * * * * * * * * * * * * * * * * * * * * * * * * * * * * * * * * * * * * * * * * * * * * * * * * * * * * * * * * * * * * * * * * * * * * * * * * * * * * * * * * * * * * * * * * * * * * * * * * * * * * * * * * * * * * * * * * * * * * * * * * * * * * * * * * * * * * * * * * * * * * * * * * * * * * * * * * * * * * * * * * * * * * * * * * * * * * * * * * * * * * * * * * * * * * * * * * * * * * * * * * * * * * * * * * * * * * * * * * * * * * * * * * * * * * * * * * * * * * * * * * * * * * * * * * * * * * * * * * * * * * * * * * * * * * * * * * * * * * * * * * * * * * * * * * * * * * * * * * * * * * * * * * * * * * * * * * * * * * * * * * * * * * * * * * * * * * * * * * * * * * * * * * * * * * * * * * * * * * * * * * * * * * * * * * * * * * * * * * * * * * * * * * * * * * * * * * * * * * * * * * * * * * * * * * * * * * * * * * * * * * * * * * * * * * * * * * * * * * * * * * * * * * * * * * * * * * * * * * * * * * * * * * * * * * * * * * * * * * * * * * * * * * * * * * * * * * * * * * * * * * * * * * * * * * * * * * * * * * * * * * * * * * * * * * * * * * * * * * * * * * * * * * * * * * * * * * * * * * * * * * * * * * * * * * * * * * * * * * * * * * * * * * * * * * * * * * * * * * * * * * * * * * * * * * * * * * * * * * * * * * * * * * * * * * * * * * * * * * * * * * * * * * * * * * * * * * * * * * * * * * * * * * * * * * * * * * * * * * * * * * * * * * * * * * * * * * * * "
     ]
    }
   ],
   "source": [
    "path = r\"/media/saab/f7ee81f1-4052-4c44-b470-0a4a650ee479/SGH_IMCB_NTU_Main/Raw_Data/CD68_Same/Channel_4_Implementation/blue_nuclei/After/Masks\"\n",
    "os.makedirs(path, exist_ok=True)\n",
    "images = files1\n",
    "k = 0\n",
    "tile_size = (256, 256)\n",
    "offset = (256, 256)\n",
    "\n",
    "for imgz in images:\n",
    "    imga = cv2.imread(imgz)\n",
    "    img = imga\n",
    "    img_shape = img.shape\n",
    "    \n",
    "    for i in range(int(math.ceil(img_shape[0] / (offset[1] * 1.0)))):\n",
    "        for j in range(int(math.ceil(img_shape[1] / (offset[0] * 1.0)))):\n",
    "            cropped_img = img[\n",
    "                offset[1] * i:min(offset[1] * i + tile_size[1], img_shape[0]),\n",
    "                offset[0] * j:min(offset[0] * j + tile_size[0], img_shape[1])\n",
    "            ]\n",
    "            \n",
    "            # Check if the tile is exactly 256x256\n",
    "            if cropped_img.shape[0] == tile_size[0] and cropped_img.shape[1] == tile_size[1]:\n",
    "                k += 1\n",
    "                cv2.imwrite(os.path.join(path, f\"{k:06d}.png\"), cropped_img)\n",
    "                \n",
    "                # Optional: save as .npy\n",
    "                # np.save(os.path.join(path, f\"{k:06d}.npy\"), cropped_img)\n",
    "                \n",
    "                if k % 20 == 0:\n",
    "                    print(\"*\", end=\" \")"
   ]
  },
  {
   "cell_type": "code",
   "execution_count": 5,
   "metadata": {},
   "outputs": [
    {
     "name": "stdout",
     "output_type": "stream",
     "text": [
      "* * * * * * * * * * * * * * * * * * * * * * * * * * * * * * * * * * * * * * * * * * * * * * * * * * * * * * * * * * * * * * * * * * * * * * * * * * * * * * * * * * * * * * * * * * * * * * * * * * * * * * * * * * * * * * * * * * * * * * * * * * * * * * * * * * * * * * * * * * * * * * * * * * * * * * * * * * * * * * * * * * * * * * * * * * * * * * * * * * * * * * * * * * * * * * * * * * * * * * * * * * * * * * * * * * * * * * * * * * * * * * * * * * * * * * * * * * * * * * * * * * * * * * * * * * * * * * * * * * * * * * * * * * * * * * * * * * * * * * * * * * * * * * * * * * * * * * * * * * * * * * * * * * * * * * * * * * * * * * * * * * * * * * * * * * * * * * * * * * * * * * * * * * * * * * * * * * * * * * * * * * * * * * * * * * * * * * * * * * * * * * * * * * * * * * * * * * * * * * * * * * * * * * * * * * * * * * * * * * * * * * * * * * * * * * * * * * * * * * * * * * * * * * * * * * * * * * * * * * * * * * * * * * * * * * * * * * * * * * * * * * * * * * * * * * * * * * * * * * * * * * * * * * * * * * * * * * * * * * * * * * * * * * * * * * * * * * * * * * * * * * * * * * * * * * * * * * * * * * * * * * * * * * * * * * * * * * * * * * * * * * * * * * * * * * * * * * * * * * * * * * * * * * * * * * * * * * * * * * * * * * * * * * * * * * * * * * * * * * * * * * * * * * * * * * * * * * * * * * * * * * * * * * * * * * * * * * * * * * * * * * * * * * * * * * * * * * * * * * * * * * * * * * * * * * * * * * * * * * * * * * * * * * * * * * * * * * * * * * * * * * * * * * * * * * * * * * * * * * * * * * * * * * * * * * * * * * * * * * * * * * * * * * * * * * * * * * * * * * * * * * * * * * * * * * * * * * * * * * * * * * * * * * * * * * * * * * * * * * * * * * * * * * * * * * * * * * * * * * * * * * * * * * * * * * * * * * * * * * * * * * * * * * * * * * * * * * * * * * * * * * * * * * * * * * * * * * * * * * * * * * * * * * * * * * * * * * * * * * * * * * * * * * * * * * * * "
     ]
    }
   ],
   "source": [
    "import os\n",
    "import cv2\n",
    "import math\n",
    "\n",
    "path = r\"/media/saab/f7ee81f1-4052-4c44-b470-0a4a650ee479/SGH_IMCB_NTU_Main/Raw_Data/CD68_Same/Channel_4_Implementation/blue_nuclei/After/Images\"\n",
    "os.makedirs(path, exist_ok=True)\n",
    "images = files2\n",
    "k = 0\n",
    "tile_size = (256, 256)\n",
    "offset = (256, 256)\n",
    "\n",
    "for imgz in images:\n",
    "    imga = cv2.imread(imgz)\n",
    "    img = imga\n",
    "    img_shape = img.shape\n",
    "    \n",
    "    for i in range(int(math.ceil(img_shape[0] / (offset[1] * 1.0)))):\n",
    "        for j in range(int(math.ceil(img_shape[1] / (offset[0] * 1.0)))):\n",
    "            cropped_img = img[\n",
    "                offset[1] * i:min(offset[1] * i + tile_size[1], img_shape[0]),\n",
    "                offset[0] * j:min(offset[0] * j + tile_size[0], img_shape[1])\n",
    "            ]\n",
    "            \n",
    "            # Check if the tile is exactly 256x256\n",
    "            if cropped_img.shape[0] == tile_size[0] and cropped_img.shape[1] == tile_size[1]:\n",
    "                k += 1\n",
    "                cv2.imwrite(os.path.join(path, f\"{k:06d}.png\"), cropped_img)\n",
    "                \n",
    "                # Optional: save as .npy\n",
    "                # np.save(os.path.join(path, f\"{k:06d}.npy\"), cropped_img)\n",
    "                \n",
    "                if k % 20 == 0:\n",
    "                    print(\"*\", end=\" \")\n"
   ]
  },
  {
   "cell_type": "code",
   "execution_count": 6,
   "metadata": {},
   "outputs": [
    {
     "name": "stdout",
     "output_type": "stream",
     "text": [
      "* * * * * * * * * * * * * * * * * * * * * * * * * * * * * * * * * * * * * * * * * * * * * * * * * * * * * * * * * * * * * * * * * * * * * * * * * * * * * * * * * * * * * * * * * * * * * * * * * * * * * * * * * * * * * * * * * * * * * * * * * * * * * * * * * * * * * * * * * * * * * * * * * * * * * * * * * * * * * * * * * * * * * * * * * * * * * * * * * * * * * * * * * * * * * * * * * * * * * * * * * * * * * * * * * * * * * * * * * * * * * * * * * * * * * * * * * * * * * * * * * * * * * * * * * * * * * * * * * * * * * * * * * * * * * * * * * * * * * * * * * * * * * * * * * * * * * * * * * * * * * * * * * * * * * * * * * * * * * * * * * * * * * * * * * * * * * * * * * * * * * * * * * * * * * * * * * * * * * * * * * * * * * * * * * * * * * * * * * * * * * * * * * * * * * * * * * * * * * * * * * * * * * * * * * * * * * * * * * * * * * * * * * * * * * * * * * * * * * * * * * * * * * * * * * * * * * * * * * * * * * * * * * * * * * * * * * * * * * * * * * * * * * * * * * * * * * * * * * * * * * * * * * * * * * * * * * * * * * * * * * * * * * * * * * * * * * * * * * * * * * * * * * * * * * * * * * * * * * * * * * * * * * * * * * * * * * * * * * * * * * * * * * * * * * * * * * * * * * * * * * * * * * * * * * * * * * * * * * * * * * * * * * * * * * * * * * * * * * * * * * * * * * * * * * * * * * * * * * * * * * * * * * * * * * * * * * * * * * * * * * * * * * * * * * * * * * * * * * * * * * * * * * * * * * * * * * * * * * * * * * * * * * * * * * * * * * * * * * * * * * * * * * * * * * * * * * * * * * * * * * * * * * * * * * * * * * * * * * * * * * * * * * * * * * * * * * * * * * * * * * * * * * * * * * * * * * * * * * * * * * * * * * * * * * * * * * * * * * * * * * * * * * * * * * * * * * * * * * * * * * * * * * * * * * * * * * * * * * * * * * * * * * * * * * * * * * * * * * * * * * * * * * * * * * * * * * * * * * * * * * * * * * * * * * * * * * * * * * * * * * * * * * * * * * * * * "
     ]
    }
   ],
   "source": [
    "import os\n",
    "import numpy as np\n",
    "import math\n",
    "\n",
    "path = r\"/media/saab/f7ee81f1-4052-4c44-b470-0a4a650ee479/SGH_IMCB_NTU_Main/Raw_Data/CD68_Same/Channel_4_Implementation/blue_nuclei/After/bn_tiles_np\"\n",
    "os.makedirs(path, exist_ok=True)\n",
    "images = files3\n",
    "k = 0\n",
    "tile_size = (256, 256)\n",
    "offset = (256, 256)\n",
    "\n",
    "for imgz in images:\n",
    "    imgy = np.load(imgz)\n",
    "    img = imgy\n",
    "    img_shape = img.shape\n",
    "    \n",
    "    for i in range(int(math.ceil(img_shape[0] / (offset[1] * 1.0)))):\n",
    "        for j in range(int(math.ceil(img_shape[1] / (offset[0] * 1.0)))):\n",
    "            cropped_img = img[\n",
    "                offset[1] * i:min(offset[1] * i + tile_size[1], img_shape[0]),\n",
    "                offset[0] * j:min(offset[0] * j + tile_size[0], img_shape[1])\n",
    "            ]\n",
    "            \n",
    "            # Check if the tile is exactly 256x256\n",
    "            if cropped_img.shape[0] == tile_size[0] and cropped_img.shape[1] == tile_size[1]:\n",
    "                k += 1\n",
    "                np.save(os.path.join(path, f\"{k:06d}.npy\"), cropped_img)\n",
    "                \n",
    "                if k % 20 == 0:\n",
    "                    print(\"*\", end=\" \")\n"
   ]
  },
  {
   "cell_type": "code",
   "execution_count": 7,
   "metadata": {},
   "outputs": [
    {
     "data": {
      "text/plain": [
       "'/home/saab/Desktop/Backup_ws3_301221/Image_trial/tiles/'"
      ]
     },
     "execution_count": 7,
     "metadata": {},
     "output_type": "execute_result"
    }
   ],
   "source": [
    "path"
   ]
  },
  {
   "cell_type": "code",
   "execution_count": null,
   "metadata": {},
   "outputs": [],
   "source": []
  }
 ],
 "metadata": {
  "kernelspec": {
   "display_name": "Python 3 (ipykernel)",
   "language": "python",
   "name": "python3"
  },
  "language_info": {
   "codemirror_mode": {
    "name": "ipython",
    "version": 3
   },
   "file_extension": ".py",
   "mimetype": "text/x-python",
   "name": "python",
   "nbconvert_exporter": "python",
   "pygments_lexer": "ipython3",
   "version": "3.9.7"
  }
 },
 "nbformat": 4,
 "nbformat_minor": 4
}
