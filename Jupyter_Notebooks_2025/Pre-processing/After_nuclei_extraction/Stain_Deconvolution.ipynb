{
 "cells": [
  {
   "cell_type": "code",
   "execution_count": 1,
   "id": "58b74048",
   "metadata": {},
   "outputs": [],
   "source": [
    "from skimage.io import imread,imsave\n",
    "import os\n",
    "from glob import glob\n",
    "from matplotlib import pyplot as plt\n",
    "import cv2\n",
    "import tifffile\n",
    "from skimage.color import rgb2hed\n",
    "from skimage.exposure import rescale_intensity\n",
    "import numpy as np"
   ]
  },
  {
   "cell_type": "code",
   "execution_count": 11,
   "id": "bd8cb7a0",
   "metadata": {},
   "outputs": [],
   "source": [
    "#Set path containing initial H&E Images\n",
    "\n",
    "files=sorted(glob(\"/media/saab/f7ee81f1-4052-4c44-b470-0a4a650ee479/SGH_IMCB_NTU_Main/Raw_Data/Training Dataset/Lung_square_same_section_before/*\"))"
   ]
  },
  {
   "cell_type": "code",
   "execution_count": 12,
   "id": "3a633852",
   "metadata": {},
   "outputs": [],
   "source": [
    "#Path Containing final H&E Images\n",
    "pth=\"/media/saab/f7ee81f1-4052-4c44-b470-0a4a650ee479/SGH_IMCB_NTU_Main/Processed_Data/Preprocessed_Data/Same_Slide/18May2024/he_deconv/\"\n",
    "os.makedirs(pth,exist_ok=True)\n"
   ]
  },
  {
   "cell_type": "code",
   "execution_count": 13,
   "id": "43085f0e",
   "metadata": {},
   "outputs": [],
   "source": [
    "#Set image number as zero\n",
    "k=0\n",
    "\n",
    "for x in files:\n",
    "    #Read Image\n",
    "    i=cv2.imread(x)\n",
    "    i=cv2.cvtColor(i,cv2.COLOR_BGR2RGB)\n",
    "    #Convert Color Scale\n",
    "    i2=rgb2hed(i)\n",
    "    j=cv2.resize(i,(3328,3328))\n",
    "    \n",
    "    #Extract Haematoxylin Channel and normalize\n",
    "    h = rescale_intensity(i2[:, :, 0], out_range=(0, 1),\n",
    "                      in_range=(0, np.percentile(i2[:, :, 0], 99)))\n",
    "    #Extract Eosin Channel and normalize\n",
    "    e = rescale_intensity(i2[:, :, 1], out_range=(0, 1),\n",
    "                      in_range=(0, np.percentile(i2[:, :, 1], 99)))\n",
    "    #Leave a channel blank\n",
    "    null = np.zeros_like(i2[:, :, 1])\n",
    "    #Stack all channels together\n",
    "    zeh = np.dstack((null, e,h ))\n",
    "    #Save channel\n",
    "    plt.imsave(pth+f\"{k:03d}\"+\".png\",zeh)\n",
    "    \n",
    "    #Variable for image number \n",
    "    k=k+1"
   ]
  },
  {
   "cell_type": "markdown",
   "id": "20ad7739",
   "metadata": {},
   "source": [
    "files2=sorted(glob(\"/home/saab/Desktop/mask_2/*\"))\n",
    "pth=\"/home/saab/Desktop/he_cd3_fluo_2/\"\n",
    "k=0\n",
    "os.makedirs(pth,exist_ok=True)\n",
    "for x,y in zip(files,files2):\n",
    "    i=cv2.imread(x)\n",
    "    i=cv2.cvtColor(i,cv2.COLOR_BGR2RGB)\n",
    "    i2=rgb2hed(i)\n",
    "    j=cv2.imread(y,0)\n",
    "    j=(j-np.min(j))/(np.max(j)-np.min(j))\n",
    "    #j=cv2.resize(i,(3328,3328))\n",
    "    \n",
    "    h = rescale_intensity(i2[:, :, 0], out_range=(0, 1),\n",
    "                      in_range=(0, np.percentile(i2[:, :, 0], 99)))\n",
    "    d = rescale_intensity(i2[:, :, 1], out_range=(0, 1),\n",
    "                      in_range=(0, np.percentile(i2[:, :, 1], 99)))\n",
    "    null = np.zeros_like(i2[:, :, 1])\n",
    "    zdh = np.dstack((j, d,h ))\n",
    "    plt.imsave(pth+f\"{k:03d}\"+\".png\",zdh)\n",
    "    k=k+1"
   ]
  },
  {
   "cell_type": "code",
   "execution_count": 8,
   "id": "82d5479d",
   "metadata": {},
   "outputs": [
    {
     "data": {
      "text/plain": [
       "[]"
      ]
     },
     "execution_count": 8,
     "metadata": {},
     "output_type": "execute_result"
    }
   ],
   "source": [
    "files"
   ]
  },
  {
   "cell_type": "code",
   "execution_count": null,
   "id": "7032859c",
   "metadata": {},
   "outputs": [],
   "source": []
  }
 ],
 "metadata": {
  "kernelspec": {
   "display_name": "Python 3 (ipykernel)",
   "language": "python",
   "name": "python3"
  },
  "language_info": {
   "codemirror_mode": {
    "name": "ipython",
    "version": 3
   },
   "file_extension": ".py",
   "mimetype": "text/x-python",
   "name": "python",
   "nbconvert_exporter": "python",
   "pygments_lexer": "ipython3",
   "version": "3.9.7"
  }
 },
 "nbformat": 4,
 "nbformat_minor": 5
}
