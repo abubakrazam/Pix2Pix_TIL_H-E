{
 "cells": [
  {
   "cell_type": "code",
   "execution_count": 5,
   "id": "56e5e2c4",
   "metadata": {},
   "outputs": [],
   "source": [
    "from glob import glob\n",
    "import shutil\n",
    "import os\n",
    "import tkinter\n",
    "from tkinter.filedialog import askdirectory as askdir\n",
    "    "
   ]
  },
  {
   "cell_type": "code",
   "execution_count": 6,
   "id": "4d021ef5",
   "metadata": {},
   "outputs": [],
   "source": [
    "a=askdir(title=\"Path of blue nuclei Images\")\n",
    "b=askdir(title=\"Output\")"
   ]
  },
  {
   "cell_type": "code",
   "execution_count": 10,
   "id": "81862522",
   "metadata": {},
   "outputs": [
    {
     "data": {
      "text/plain": [
       "['/home/saab/Desktop/SGH_IMCB_NTU_Main/Processed_Data/Preprocessed_Data/Same_Slide/white_background_HE_kmeans/000000/blue_nuclei.png',\n",
       " '/home/saab/Desktop/SGH_IMCB_NTU_Main/Processed_Data/Preprocessed_Data/Same_Slide/white_background_HE_kmeans/000001/blue_nuclei.png',\n",
       " '/home/saab/Desktop/SGH_IMCB_NTU_Main/Processed_Data/Preprocessed_Data/Same_Slide/white_background_HE_kmeans/000002/blue_nuclei.png',\n",
       " '/home/saab/Desktop/SGH_IMCB_NTU_Main/Processed_Data/Preprocessed_Data/Same_Slide/white_background_HE_kmeans/000003/blue_nuclei.png',\n",
       " '/home/saab/Desktop/SGH_IMCB_NTU_Main/Processed_Data/Preprocessed_Data/Same_Slide/white_background_HE_kmeans/000004/blue_nuclei.png',\n",
       " '/home/saab/Desktop/SGH_IMCB_NTU_Main/Processed_Data/Preprocessed_Data/Same_Slide/white_background_HE_kmeans/000005/blue_nuclei.png',\n",
       " '/home/saab/Desktop/SGH_IMCB_NTU_Main/Processed_Data/Preprocessed_Data/Same_Slide/white_background_HE_kmeans/000006/blue_nuclei.png',\n",
       " '/home/saab/Desktop/SGH_IMCB_NTU_Main/Processed_Data/Preprocessed_Data/Same_Slide/white_background_HE_kmeans/000007/blue_nuclei.png',\n",
       " '/home/saab/Desktop/SGH_IMCB_NTU_Main/Processed_Data/Preprocessed_Data/Same_Slide/white_background_HE_kmeans/000008/blue_nuclei.png',\n",
       " '/home/saab/Desktop/SGH_IMCB_NTU_Main/Processed_Data/Preprocessed_Data/Same_Slide/white_background_HE_kmeans/000009/blue_nuclei.png',\n",
       " '/home/saab/Desktop/SGH_IMCB_NTU_Main/Processed_Data/Preprocessed_Data/Same_Slide/white_background_HE_kmeans/000010/blue_nuclei.png',\n",
       " '/home/saab/Desktop/SGH_IMCB_NTU_Main/Processed_Data/Preprocessed_Data/Same_Slide/white_background_HE_kmeans/000011/blue_nuclei.png',\n",
       " '/home/saab/Desktop/SGH_IMCB_NTU_Main/Processed_Data/Preprocessed_Data/Same_Slide/white_background_HE_kmeans/000012/blue_nuclei.png',\n",
       " '/home/saab/Desktop/SGH_IMCB_NTU_Main/Processed_Data/Preprocessed_Data/Same_Slide/white_background_HE_kmeans/000013/blue_nuclei.png',\n",
       " '/home/saab/Desktop/SGH_IMCB_NTU_Main/Processed_Data/Preprocessed_Data/Same_Slide/white_background_HE_kmeans/000014/blue_nuclei.png',\n",
       " '/home/saab/Desktop/SGH_IMCB_NTU_Main/Processed_Data/Preprocessed_Data/Same_Slide/white_background_HE_kmeans/000015/blue_nuclei.png',\n",
       " '/home/saab/Desktop/SGH_IMCB_NTU_Main/Processed_Data/Preprocessed_Data/Same_Slide/white_background_HE_kmeans/000016/blue_nuclei.png',\n",
       " '/home/saab/Desktop/SGH_IMCB_NTU_Main/Processed_Data/Preprocessed_Data/Same_Slide/white_background_HE_kmeans/000017/blue_nuclei.png',\n",
       " '/home/saab/Desktop/SGH_IMCB_NTU_Main/Processed_Data/Preprocessed_Data/Same_Slide/white_background_HE_kmeans/000018/blue_nuclei.png',\n",
       " '/home/saab/Desktop/SGH_IMCB_NTU_Main/Processed_Data/Preprocessed_Data/Same_Slide/white_background_HE_kmeans/000019/blue_nuclei.png',\n",
       " '/home/saab/Desktop/SGH_IMCB_NTU_Main/Processed_Data/Preprocessed_Data/Same_Slide/white_background_HE_kmeans/000020/blue_nuclei.png',\n",
       " '/home/saab/Desktop/SGH_IMCB_NTU_Main/Processed_Data/Preprocessed_Data/Same_Slide/white_background_HE_kmeans/000021/blue_nuclei.png',\n",
       " '/home/saab/Desktop/SGH_IMCB_NTU_Main/Processed_Data/Preprocessed_Data/Same_Slide/white_background_HE_kmeans/000022/blue_nuclei.png',\n",
       " '/home/saab/Desktop/SGH_IMCB_NTU_Main/Processed_Data/Preprocessed_Data/Same_Slide/white_background_HE_kmeans/000023/blue_nuclei.png',\n",
       " '/home/saab/Desktop/SGH_IMCB_NTU_Main/Processed_Data/Preprocessed_Data/Same_Slide/white_background_HE_kmeans/000024/blue_nuclei.png',\n",
       " '/home/saab/Desktop/SGH_IMCB_NTU_Main/Processed_Data/Preprocessed_Data/Same_Slide/white_background_HE_kmeans/000025/blue_nuclei.png',\n",
       " '/home/saab/Desktop/SGH_IMCB_NTU_Main/Processed_Data/Preprocessed_Data/Same_Slide/white_background_HE_kmeans/000026/blue_nuclei.png',\n",
       " '/home/saab/Desktop/SGH_IMCB_NTU_Main/Processed_Data/Preprocessed_Data/Same_Slide/white_background_HE_kmeans/000027/blue_nuclei.png',\n",
       " '/home/saab/Desktop/SGH_IMCB_NTU_Main/Processed_Data/Preprocessed_Data/Same_Slide/white_background_HE_kmeans/000028/blue_nuclei.png',\n",
       " '/home/saab/Desktop/SGH_IMCB_NTU_Main/Processed_Data/Preprocessed_Data/Same_Slide/white_background_HE_kmeans/000029/blue_nuclei.png',\n",
       " '/home/saab/Desktop/SGH_IMCB_NTU_Main/Processed_Data/Preprocessed_Data/Same_Slide/white_background_HE_kmeans/000030/blue_nuclei.png',\n",
       " '/home/saab/Desktop/SGH_IMCB_NTU_Main/Processed_Data/Preprocessed_Data/Same_Slide/white_background_HE_kmeans/000031/blue_nuclei.png',\n",
       " '/home/saab/Desktop/SGH_IMCB_NTU_Main/Processed_Data/Preprocessed_Data/Same_Slide/white_background_HE_kmeans/000032/blue_nuclei.png',\n",
       " '/home/saab/Desktop/SGH_IMCB_NTU_Main/Processed_Data/Preprocessed_Data/Same_Slide/white_background_HE_kmeans/000033/blue_nuclei.png',\n",
       " '/home/saab/Desktop/SGH_IMCB_NTU_Main/Processed_Data/Preprocessed_Data/Same_Slide/white_background_HE_kmeans/000034/blue_nuclei.png',\n",
       " '/home/saab/Desktop/SGH_IMCB_NTU_Main/Processed_Data/Preprocessed_Data/Same_Slide/white_background_HE_kmeans/000035/blue_nuclei.png',\n",
       " '/home/saab/Desktop/SGH_IMCB_NTU_Main/Processed_Data/Preprocessed_Data/Same_Slide/white_background_HE_kmeans/000036/blue_nuclei.png',\n",
       " '/home/saab/Desktop/SGH_IMCB_NTU_Main/Processed_Data/Preprocessed_Data/Same_Slide/white_background_HE_kmeans/000037/blue_nuclei.png',\n",
       " '/home/saab/Desktop/SGH_IMCB_NTU_Main/Processed_Data/Preprocessed_Data/Same_Slide/white_background_HE_kmeans/000038/blue_nuclei.png',\n",
       " '/home/saab/Desktop/SGH_IMCB_NTU_Main/Processed_Data/Preprocessed_Data/Same_Slide/white_background_HE_kmeans/000039/blue_nuclei.png',\n",
       " '/home/saab/Desktop/SGH_IMCB_NTU_Main/Processed_Data/Preprocessed_Data/Same_Slide/white_background_HE_kmeans/000040/blue_nuclei.png',\n",
       " '/home/saab/Desktop/SGH_IMCB_NTU_Main/Processed_Data/Preprocessed_Data/Same_Slide/white_background_HE_kmeans/000041/blue_nuclei.png',\n",
       " '/home/saab/Desktop/SGH_IMCB_NTU_Main/Processed_Data/Preprocessed_Data/Same_Slide/white_background_HE_kmeans/000042/blue_nuclei.png',\n",
       " '/home/saab/Desktop/SGH_IMCB_NTU_Main/Processed_Data/Preprocessed_Data/Same_Slide/white_background_HE_kmeans/000043/blue_nuclei.png',\n",
       " '/home/saab/Desktop/SGH_IMCB_NTU_Main/Processed_Data/Preprocessed_Data/Same_Slide/white_background_HE_kmeans/000044/blue_nuclei.png',\n",
       " '/home/saab/Desktop/SGH_IMCB_NTU_Main/Processed_Data/Preprocessed_Data/Same_Slide/white_background_HE_kmeans/000045/blue_nuclei.png',\n",
       " '/home/saab/Desktop/SGH_IMCB_NTU_Main/Processed_Data/Preprocessed_Data/Same_Slide/white_background_HE_kmeans/000046/blue_nuclei.png',\n",
       " '/home/saab/Desktop/SGH_IMCB_NTU_Main/Processed_Data/Preprocessed_Data/Same_Slide/white_background_HE_kmeans/000047/blue_nuclei.png',\n",
       " '/home/saab/Desktop/SGH_IMCB_NTU_Main/Processed_Data/Preprocessed_Data/Same_Slide/white_background_HE_kmeans/000048/blue_nuclei.png',\n",
       " '/home/saab/Desktop/SGH_IMCB_NTU_Main/Processed_Data/Preprocessed_Data/Same_Slide/white_background_HE_kmeans/000049/blue_nuclei.png',\n",
       " '/home/saab/Desktop/SGH_IMCB_NTU_Main/Processed_Data/Preprocessed_Data/Same_Slide/white_background_HE_kmeans/000050/blue_nuclei.png',\n",
       " '/home/saab/Desktop/SGH_IMCB_NTU_Main/Processed_Data/Preprocessed_Data/Same_Slide/white_background_HE_kmeans/000051/blue_nuclei.png',\n",
       " '/home/saab/Desktop/SGH_IMCB_NTU_Main/Processed_Data/Preprocessed_Data/Same_Slide/white_background_HE_kmeans/000052/blue_nuclei.png',\n",
       " '/home/saab/Desktop/SGH_IMCB_NTU_Main/Processed_Data/Preprocessed_Data/Same_Slide/white_background_HE_kmeans/000053/blue_nuclei.png',\n",
       " '/home/saab/Desktop/SGH_IMCB_NTU_Main/Processed_Data/Preprocessed_Data/Same_Slide/white_background_HE_kmeans/000054/blue_nuclei.png',\n",
       " '/home/saab/Desktop/SGH_IMCB_NTU_Main/Processed_Data/Preprocessed_Data/Same_Slide/white_background_HE_kmeans/000055/blue_nuclei.png',\n",
       " '/home/saab/Desktop/SGH_IMCB_NTU_Main/Processed_Data/Preprocessed_Data/Same_Slide/white_background_HE_kmeans/000056/blue_nuclei.png']"
      ]
     },
     "execution_count": 10,
     "metadata": {},
     "output_type": "execute_result"
    }
   ],
   "source": [
    "paths=sorted(glob(a+\"/*/blue*\"))\n"
   ]
  },
  {
   "cell_type": "code",
   "execution_count": null,
   "id": "0271b2b5",
   "metadata": {},
   "outputs": [],
   "source": [
    "for x in range p"
   ]
  }
 ],
 "metadata": {
  "kernelspec": {
   "display_name": "Python 3 (ipykernel)",
   "language": "python",
   "name": "python3"
  },
  "language_info": {
   "codemirror_mode": {
    "name": "ipython",
    "version": 3
   },
   "file_extension": ".py",
   "mimetype": "text/x-python",
   "name": "python",
   "nbconvert_exporter": "python",
   "pygments_lexer": "ipython3",
   "version": "3.8.12"
  }
 },
 "nbformat": 4,
 "nbformat_minor": 5
}
