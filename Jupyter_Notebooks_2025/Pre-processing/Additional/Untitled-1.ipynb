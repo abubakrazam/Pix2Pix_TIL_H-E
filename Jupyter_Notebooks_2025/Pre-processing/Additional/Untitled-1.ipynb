{
 "cells": [
  {
   "cell_type": "code",
   "execution_count": 5,
   "metadata": {},
   "outputs": [],
   "source": [
    "import os\n",
    "import cv2\n",
    "import numpy as np\n",
    "\n",
    "def augment_and_save(image_path, mask_path, output_dir):\n",
    "    # Read the image and mask\n",
    "    image = cv2.imread(image_path)\n",
    "    mask = cv2.imread(mask_path)\n",
    "    \n",
    "    # Create the output directories if they don't exist\n",
    "    os.makedirs(os.path.join(output_dir, \"Images\"), exist_ok=True)\n",
    "    os.makedirs(os.path.join(output_dir, \"Masks\"), exist_ok=True)\n",
    "    \n",
    "    # Get the base filename without extension\n",
    "    base_filename = os.path.splitext(os.path.basename(image_path))[0]\n",
    "    \n",
    "    # Save the original image and mask\n",
    "    cv2.imwrite(os.path.join(output_dir, \"Images\", f\"{base_filename}.png\"), image)\n",
    "    cv2.imwrite(os.path.join(output_dir, \"Masks\", f\"{base_filename}.png\"), mask)\n",
    "    \n",
    "    # Apply horizontal flip and save\n",
    "    flipped_image = cv2.flip(image, 1)\n",
    "    flipped_mask = cv2.flip(mask, 1)\n",
    "    cv2.imwrite(os.path.join(output_dir, \"Images\", f\"{base_filename}_flipped.png\"), flipped_image)\n",
    "    cv2.imwrite(os.path.join(output_dir, \"Masks\", f\"{base_filename}_flipped.png\"), flipped_mask)\n",
    "    \n",
    "    # Apply vertical flip and save\n",
    "    flipped_image = cv2.flip(image, 0)\n",
    "    flipped_mask = cv2.flip(mask, 0)\n",
    "    cv2.imwrite(os.path.join(output_dir, \"Images\", f\"{base_filename}_flipped_vertical.png\"), flipped_image)\n",
    "    cv2.imwrite(os.path.join(output_dir, \"Masks\", f\"{base_filename}_flipped_vertical.png\"), flipped_mask)\n",
    "    \n",
    "    # Apply 90-degree rotations and save\n",
    "    for i in range(1, 4):\n",
    "        rotated_image = np.rot90(image, i)\n",
    "        rotated_mask = np.rot90(mask, i)\n",
    "        cv2.imwrite(os.path.join(output_dir, \"Images\", f\"{base_filename}_rotated_{i*90}.png\"), rotated_image)\n",
    "        cv2.imwrite(os.path.join(output_dir, \"Masks\", f\"{base_filename}_rotated_{i*90}.png\"), rotated_mask)\n",
    "\n",
    "# Set the paths to your image and mask directories\n",
    "image_dir = \"/media/saab/f7ee81f1-4052-4c44-b470-0a4a650ee479/SGH_IMCB_NTU_Main/Raw_Data/CD68/CD3_Test/Dataset_Oversampled/Train/Images_Train\"\n",
    "mask_dir = \"/media/saab/f7ee81f1-4052-4c44-b470-0a4a650ee479/SGH_IMCB_NTU_Main/Raw_Data/CD68/CD3_Test/Dataset_Oversampled/Train/Masks_Train\"\n",
    "\n",
    "# Set the output directory where augmented images and masks will be saved\n",
    "output_dir = \"/media/saab/f7ee81f1-4052-4c44-b470-0a4a650ee479/SGH_IMCB_NTU_Main/Raw_Data/CD68/CD3_Test/Dataset_Oversampled/Dataset_Augmented\"\n",
    "\n",
    "# Get the list of image and mask files\n",
    "image_files = os.listdir(image_dir)\n",
    "mask_files = os.listdir(mask_dir)\n",
    "\n",
    "# Sort the file lists to ensure corresponding image and mask files are processed together\n",
    "image_files.sort()\n",
    "mask_files.sort()\n",
    "\n",
    "# Iterate over the image and mask files\n",
    "for image_file, mask_file in zip(image_files, mask_files):\n",
    "    image_path = os.path.join(image_dir, image_file)\n",
    "    mask_path = os.path.join(mask_dir, mask_file)\n",
    "    \n",
    "    # Apply augmentations and save the augmented images and masks\n",
    "    augment_and_save(image_path, mask_path, output_dir)"
   ]
  },
  {
   "cell_type": "code",
   "execution_count": 1,
   "metadata": {},
   "outputs": [
    {
     "name": "stdout",
     "output_type": "stream",
     "text": [
      "Transfer complete.\n"
     ]
    }
   ],
   "source": [
    "import os\n",
    "import shutil\n",
    "\n",
    "# Define the paths\n",
    "bn_tiles_np_path = r'/media/saab/f7ee81f1-4052-4c44-b470-0a4a650ee479/SGH_IMCB_NTU_Main/Raw_Data/CD68/1-image extraction/blue_nuclei/After/bn_tiles_np'\n",
    "images_path = r'/media/saab/f7ee81f1-4052-4c44-b470-0a4a650ee479/SGH_IMCB_NTU_Main/Raw_Data/CD68/1-image extraction/blue_nuclei/After/Data_Oversampled/Images'\n",
    "blue_nuclei_tiles_path = r'/media/saab/f7ee81f1-4052-4c44-b470-0a4a650ee479/SGH_IMCB_NTU_Main/Raw_Data/CD68/1-image extraction/blue_nuclei/After/Data_Oversampled/npys/bn_tiles_np'\n",
    "\n",
    "# Create the new directory if it doesn't exist\n",
    "os.makedirs(blue_nuclei_tiles_path, exist_ok=True)\n",
    "\n",
    "# Get the set of base filenames from the Images directory (without extensions)\n",
    "png_files = {os.path.splitext(filename)[0] for filename in os.listdir(images_path) if filename.endswith('.png')}\n",
    "\n",
    "# Loop through the npy files and transfer matching files\n",
    "for npy_filename in os.listdir(bn_tiles_np_path):\n",
    "    if npy_filename.endswith('.npy'):\n",
    "        base_filename = os.path.splitext(npy_filename)[0]\n",
    "        if base_filename in png_files:\n",
    "            source_path = os.path.join(bn_tiles_np_path, npy_filename)\n",
    "            destination_path = os.path.join(blue_nuclei_tiles_path, npy_filename)\n",
    "            shutil.copy2(source_path, destination_path)\n",
    "\n",
    "print(\"Transfer complete.\")\n"
   ]
  },
  {
   "cell_type": "code",
   "execution_count": 2,
   "metadata": {},
   "outputs": [
    {
     "name": "stdout",
     "output_type": "stream",
     "text": [
      "Processing completed.\n"
     ]
    }
   ],
   "source": [
    "import cv2\n",
    "import os\n",
    "import numpy as np\n",
    "\n",
    "# Define the input and output directories\n",
    "input_dir = r'/media/saab/f7ee81f1-4052-4c44-b470-0a4a650ee479/SGH_IMCB_NTU_Main/Raw_Data/CD68/1-image extraction/blue_nuclei/After/Data_Oversampled/Masks'\n",
    "output_dir = r'/media/saab/f7ee81f1-4052-4c44-b470-0a4a650ee479/SGH_IMCB_NTU_Main/Raw_Data/CD68/1-image extraction/blue_nuclei/After/Data_Oversampled/Masks_Refined'\n",
    "\n",
    "# Create the output directory if it doesn't exist\n",
    "os.makedirs(output_dir, exist_ok=True)\n",
    "\n",
    "# Iterate over all files in the input directory\n",
    "for filename in os.listdir(input_dir):\n",
    "    if filename.endswith('.png'):\n",
    "        # Read the image\n",
    "        img = cv2.imread(os.path.join(input_dir, filename))\n",
    "\n",
    "        # Split the image into its color channels\n",
    "        blue, green, red = cv2.split(img)\n",
    "\n",
    "        # Create a black image with the same dimensions\n",
    "        black_img = np.zeros_like(img)\n",
    "\n",
    "        # Combine the red channel with the black image\n",
    "        red_img = black_img.copy()\n",
    "        red_img[:, :, 2] = red\n",
    "\n",
    "        # Save the result in the output directory with the same file name\n",
    "        cv2.imwrite(os.path.join(output_dir, filename), red_img)\n",
    "\n",
    "print(\"Processing completed.\")\n"
   ]
  },
  {
   "cell_type": "code",
   "execution_count": null,
   "metadata": {},
   "outputs": [],
   "source": []
  }
 ],
 "metadata": {
  "kernelspec": {
   "display_name": "tensorflow",
   "language": "python",
   "name": "python3"
  },
  "language_info": {
   "codemirror_mode": {
    "name": "ipython",
    "version": 3
   },
   "file_extension": ".py",
   "mimetype": "text/x-python",
   "name": "python",
   "nbconvert_exporter": "python",
   "pygments_lexer": "ipython3",
   "version": "3.9.7"
  }
 },
 "nbformat": 4,
 "nbformat_minor": 2
}
