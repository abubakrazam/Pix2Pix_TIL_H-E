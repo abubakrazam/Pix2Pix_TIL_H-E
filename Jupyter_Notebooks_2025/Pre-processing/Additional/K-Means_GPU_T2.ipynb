{
 "cells": [
  {
   "cell_type": "code",
   "execution_count": 1,
   "id": "d87a8f64",
   "metadata": {},
   "outputs": [],
   "source": [
    "import pyvips\n",
    "import os \n",
    "os.environ[\"CUDA_VISIBLE_DEVICES\"]=\"3\"\n",
    "import cupy\n",
    "import matplotlib.pyplot as plt\n",
    "from cuml.cluster import KMeans\n",
    "import cupy \n",
    "import cv2\n",
    "import IPython\n"
   ]
  },
  {
   "cell_type": "markdown",
   "id": "97307524",
   "metadata": {},
   "source": [
    "Images need to be preprocessed"
   ]
  },
  {
   "cell_type": "code",
   "execution_count": null,
   "id": "97f46c66",
   "metadata": {},
   "outputs": [],
   "source": [
    "p1=\"tonsil_resize_gray_dapi.tif\"\n",
    "p2=\"tonsil_resize_gray_he.tif\""
   ]
  },
  {
   "cell_type": "code",
   "execution_count": 2,
   "id": "6cf67c01",
   "metadata": {},
   "outputs": [],
   "source": [
    "import numpy as np\n",
    "\n",
    "format_to_dtype = {\n",
    "    'uchar': np.uint8,\n",
    "    'char': np.int8,\n",
    "    'ushort': np.uint16,\n",
    "    'short': np.int16,\n",
    "    'uint': np.uint32,\n",
    "    'int': np.int32,\n",
    "    'float': np.float32,\n",
    "    'double': np.float64,\n",
    "    'complex': np.complex64,\n",
    "    'dpcomplex': np.complex128,\n",
    "}\n",
    "\n",
    "img = pyvips.Image.new_from_file(p1, access='sequential')"
   ]
  },
  {
   "cell_type": "code",
   "execution_count": 4,
   "id": "dad61986",
   "metadata": {},
   "outputs": [
    {
     "data": {
      "text/plain": [
       "<pyvips.Image 9444x7576 uchar, 3 bands, srgb>"
      ]
     },
     "execution_count": 4,
     "metadata": {},
     "output_type": "execute_result"
    }
   ],
   "source": [
    "img3"
   ]
  },
  {
   "cell_type": "code",
   "execution_count": 5,
   "id": "97f3c324",
   "metadata": {},
   "outputs": [],
   "source": [
    "max_data=11*1024**3\n",
    "data_to_use_init=img3.height*img3.width*img3.bands*8*6\n",
    "data_to_use=(512+data_to_use_init-data_to_use_init%512)"
   ]
  },
  {
   "cell_type": "code",
   "execution_count": 6,
   "id": "18a6c64d",
   "metadata": {},
   "outputs": [
    {
     "data": {
      "text/plain": [
       "20122804.0"
      ]
     },
     "execution_count": 6,
     "metadata": {},
     "output_type": "execute_result"
    }
   ],
   "source": [
    "data_to_use/512"
   ]
  },
  {
   "cell_type": "code",
   "execution_count": 7,
   "id": "7477e06a",
   "metadata": {},
   "outputs": [
    {
     "data": {
      "text/plain": [
       "11811160064"
      ]
     },
     "execution_count": 7,
     "metadata": {},
     "output_type": "execute_result"
    }
   ],
   "source": [
    "max_data"
   ]
  },
  {
   "cell_type": "code",
   "execution_count": 8,
   "id": "333a476a",
   "metadata": {},
   "outputs": [
    {
     "name": "stdout",
     "output_type": "stream",
     "text": [
      "Ok to proceed, data to use 9.595300674438477\n",
      " Amount of memory left = 1.4046993255615234\n"
     ]
    }
   ],
   "source": [
    "if(data_to_use>max_data):\n",
    "    print(\"Don't!!!!!!!!!!!!!!!!!!!!!!!!!!!!!!!!!!!!!\\n Shutting Down for safety \")\n",
    "    IPython.Application.instance().kernel.do_shutdown(True)\n",
    "else:\n",
    "    print(\"Ok to proceed, data to use {}\\n Amount of memory left = {}\".format(data_to_use/(1024**3),\n",
    "                                                                              (max_data-data_to_use)/(1024**3)))"
   ]
  },
  {
   "cell_type": "code",
   "execution_count": 9,
   "id": "473c0acf",
   "metadata": {},
   "outputs": [
    {
     "name": "stdout",
     "output_type": "stream",
     "text": [
      "0\n",
      "0\n"
     ]
    }
   ],
   "source": [
    "mempool = cupy.get_default_memory_pool()\n",
    "pinned_mempool = cupy.get_default_pinned_memory_pool()\n",
    "\n",
    "\n",
    "mempool.free_all_blocks()\n",
    "mempool.set_limit(size=max_data)\n",
    "print(mempool.used_bytes())          \n",
    "print(mempool.total_bytes()-mempool.free_bytes())\n"
   ]
  },
  {
   "cell_type": "code",
   "execution_count": 10,
   "id": "4216a69a",
   "metadata": {},
   "outputs": [
    {
     "data": {
      "text/plain": [
       "<pyvips.Image 9444x7576 uchar, 3 bands, srgb>"
      ]
     },
     "execution_count": 10,
     "metadata": {},
     "output_type": "execute_result"
    }
   ],
   "source": [
    "img3"
   ]
  },
  {
   "cell_type": "code",
   "execution_count": 11,
   "id": "d88d90c5",
   "metadata": {},
   "outputs": [],
   "source": [
    "img_plt=np.ndarray(buffer=img3.write_to_memory(),\n",
    "                   dtype=format_to_dtype[img3.format],\n",
    "                   shape=[img3.height,img3.width, img3.bands])\n",
    "#plt.figure(figsize = (20,20))\n",
    "#plt.imshow(img_plt/255)"
   ]
  },
  {
   "cell_type": "code",
   "execution_count": 12,
   "id": "d43d643d",
   "metadata": {},
   "outputs": [
    {
     "data": {
      "text/plain": [
       "(7576, 9444, 3)"
      ]
     },
     "execution_count": 12,
     "metadata": {},
     "output_type": "execute_result"
    }
   ],
   "source": [
    "img_plt_cp=cupy.asarray(img_plt,dtype=\"float64\")\n",
    "img_plt_cp.shape"
   ]
  },
  {
   "cell_type": "code",
   "execution_count": 13,
   "id": "d9e91408",
   "metadata": {},
   "outputs": [],
   "source": [
    "b = img_plt_cp.reshape(-1,3)/255"
   ]
  },
  {
   "cell_type": "code",
   "execution_count": 15,
   "id": "eec1c09b",
   "metadata": {},
   "outputs": [
    {
     "name": "stdout",
     "output_type": "stream",
     "text": [
      "Calling fit\n",
      "labels:\n",
      "[2 2 2 ... 2 2 2]\n",
      "cluster_centers:\n",
      "[[0.67980726 0.49370966 0.7161153 ]\n",
      " [0.35369195 0.25683873 0.57062674]\n",
      " [0.82081788 0.81540177 0.79757177]\n",
      " [0.51497114 0.37001306 0.64761655]]\n"
     ]
    }
   ],
   "source": [
    "clusters=4\n",
    "#print(\"input:\")\n",
    "#print(b)\n",
    "\n",
    "print(\"Calling fit\")\n",
    "kmeans_float = KMeans(n_clusters=clusters)\n",
    "kmeans_float.fit(b)\n",
    "\n",
    "print(\"labels:\")\n",
    "print(kmeans_float.labels_)\n",
    "print(\"cluster_centers:\")\n",
    "print(kmeans_float.cluster_centers_)"
   ]
  },
  {
   "cell_type": "code",
   "execution_count": 16,
   "id": "20201cf1",
   "metadata": {},
   "outputs": [],
   "source": [
    "labels=kmeans_float.labels_"
   ]
  },
  {
   "cell_type": "code",
   "execution_count": 17,
   "id": "b3b26f00",
   "metadata": {},
   "outputs": [
    {
     "data": {
      "text/plain": [
       "(71547744,)"
      ]
     },
     "execution_count": 17,
     "metadata": {},
     "output_type": "execute_result"
    }
   ],
   "source": [
    "labels.shape"
   ]
  },
  {
   "cell_type": "code",
   "execution_count": 18,
   "id": "da2b86ae",
   "metadata": {},
   "outputs": [
    {
     "name": "stdout",
     "output_type": "stream",
     "text": [
      "0\n",
      "0\n"
     ]
    }
   ],
   "source": [
    "print(mempool.used_bytes())          \n",
    "print(mempool.total_bytes()-mempool.free_bytes())"
   ]
  },
  {
   "cell_type": "code",
   "execution_count": 19,
   "id": "0ffcf328",
   "metadata": {},
   "outputs": [],
   "source": [
    "path=\"Trial_020821\"\n",
    "dtype_to_format = {\n",
    "    'uint8': 'uchar',\n",
    "    'int8': 'char',\n",
    "    'uint16': 'ushort',\n",
    "    'int16': 'short',\n",
    "    'uint32': 'uint',\n",
    "    'int32': 'int',\n",
    "    'float32': 'float',\n",
    "    'float64': 'double',\n",
    "    'complex64': 'complex',\n",
    "    'complex128': 'dpcomplex',\n",
    "}\n",
    "os.makedirs(path,exist_ok=True)\n",
    "\n"
   ]
  },
  {
   "cell_type": "code",
   "execution_count": 22,
   "id": "1b07f503",
   "metadata": {},
   "outputs": [],
   "source": [
    "x=0"
   ]
  },
  {
   "cell_type": "code",
   "execution_count": 30,
   "id": "f27c7248",
   "metadata": {},
   "outputs": [],
   "source": [
    "try:\n",
    "    del temp\n",
    "    del img_plt\n",
    "    del vi\n",
    "except:\n",
    "    print(\"Some or more variables do not exist\")"
   ]
  },
  {
   "cell_type": "code",
   "execution_count": 34,
   "id": "c513e7e6",
   "metadata": {},
   "outputs": [],
   "source": [
    "\n",
    "    \n",
    "img = pyvips.Image.new_from_file('resized_Tonsil_HE.tif', access='sequential')\n",
    "img3=img.resize(0.2)\n",
    "img_plt=np.ndarray(buffer=img3.write_to_memory(),\n",
    "                   dtype=format_to_dtype[img3.format],\n",
    "                   shape=[img3.height,img3.width, img3.bands])\n",
    "#plt.figure(figsize = (20,20))\n",
    "img_plt_cp=cupy.asarray(img_plt,dtype=\"float64\")\n",
    "img_plt_cp.shape\n",
    "temp = img_plt_cp.reshape(-1,3)/255\n",
    "\n",
    "#plt.imshow(img_plt/255)\n"
   ]
  },
  {
   "cell_type": "code",
   "execution_count": 35,
   "id": "ff49d48b",
   "metadata": {},
   "outputs": [
    {
     "data": {
      "text/plain": [
       "1.0"
      ]
     },
     "execution_count": 35,
     "metadata": {},
     "output_type": "execute_result"
    }
   ],
   "source": [
    "img_plt_cp.shape[1]*img_plt_cp.shape[0]/temp.shape[0]"
   ]
  },
  {
   "cell_type": "code",
   "execution_count": 36,
   "id": "b1c3b478",
   "metadata": {},
   "outputs": [
    {
     "name": "stdout",
     "output_type": "stream",
     "text": [
      "3\n"
     ]
    }
   ],
   "source": [
    "print(x)\n",
    "temp[labels!=x]=[0,0,0]\n",
    "vi = pyvips.Image.new_from_memory(cupy.asnumpy(temp), img_plt_cp.shape[1], img_plt_cp.shape[0], 3,\n",
    "                                  'double')\n",
    "vi.tiffsave(path+\"/\"+f\"{x:03d}\"+\".tif\")\n",
    "x=x+1"
   ]
  },
  {
   "cell_type": "code",
   "execution_count": null,
   "id": "d62e39a2",
   "metadata": {},
   "outputs": [],
   "source": []
  },
  {
   "cell_type": "code",
   "execution_count": null,
   "id": "2ec6c311",
   "metadata": {},
   "outputs": [],
   "source": []
  }
 ],
 "metadata": {
  "kernelspec": {
   "display_name": "Python 3 (ipykernel)",
   "language": "python",
   "name": "python3"
  },
  "language_info": {
   "codemirror_mode": {
    "name": "ipython",
    "version": 3
   },
   "file_extension": ".py",
   "mimetype": "text/x-python",
   "name": "python",
   "nbconvert_exporter": "python",
   "pygments_lexer": "ipython3",
   "version": "3.9.7"
  }
 },
 "nbformat": 4,
 "nbformat_minor": 5
}
