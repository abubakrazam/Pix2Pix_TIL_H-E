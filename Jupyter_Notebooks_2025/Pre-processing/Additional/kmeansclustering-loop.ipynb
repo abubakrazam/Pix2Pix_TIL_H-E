{
 "cells": [
  {
   "cell_type": "code",
   "execution_count": 13,
   "metadata": {},
   "outputs": [],
   "source": [
    "import cv2\n",
    "import numpy as np\n",
    "import matplotlib.pyplot as plt\n",
    "import os\n",
    "from glob import glob\n",
    "from tifffile import imread,imwrite"
   ]
  },
  {
   "cell_type": "code",
   "execution_count": 8,
   "metadata": {},
   "outputs": [],
   "source": [
    "\n",
    "paths=sorted(glob(\"/media/saab/f7ee81f1-4052-4c44-b470-0a4a650ee479/Raw_Data/Lung_IHC_TIFF/*\"))\n",
    "name=\"/media/saab/f7ee81f1-4052-4c44-b470-0a4a650ee479/Raw_Data/IHC_CD3_Regions_kmeans\"\n",
    "#s_p=[name+\"_gt\",name+\"_pred\"]\n",
    "#for s in s_p:\n",
    " #   os.makedirs(s,exist_ok=True)\n",
    "  #  print(os.path.exists(s))\n",
    "#s_p"
   ]
  },
  {
   "cell_type": "code",
   "execution_count": 5,
   "metadata": {},
   "outputs": [],
   "source": [
    "iterations=30\n",
    "epsilon_value=0.00001  #difference between clustered colours\n",
    "criteria = (cv2.TERM_CRITERIA_EPS + cv2.TERM_CRITERIA_MAX_ITER,iterations, epsilon_value)\n",
    "k = 5  #number of unique colors"
   ]
  },
  {
   "cell_type": "code",
   "execution_count": 14,
   "metadata": {},
   "outputs": [
    {
     "name": "stdout",
     "output_type": "stream",
     "text": [
      "/home/saab/Desktop/200922_IoU_gt/segmented\n",
      "/media/saab/f7ee81f1-4052-4c44-b470-0a4a650ee479/Raw_Data/IHC_Validation/001.jpg\n",
      "/media/saab/f7ee81f1-4052-4c44-b470-0a4a650ee479/Raw_Data/IHC_Validation/002.jpg\n",
      "/media/saab/f7ee81f1-4052-4c44-b470-0a4a650ee479/Raw_Data/IHC_Validation/003.jpg\n",
      "/media/saab/f7ee81f1-4052-4c44-b470-0a4a650ee479/Raw_Data/IHC_Validation/004.jpg\n"
     ]
    },
    {
     "ename": "KeyboardInterrupt",
     "evalue": "",
     "output_type": "error",
     "traceback": [
      "\u001b[0;31m---------------------------------------------------------------------------\u001b[0m",
      "\u001b[0;31mKeyboardInterrupt\u001b[0m                         Traceback (most recent call last)",
      "\u001b[0;32m/tmp/ipykernel_220178/2992812034.py\u001b[0m in \u001b[0;36m<module>\u001b[0;34m\u001b[0m\n\u001b[1;32m     13\u001b[0m         \u001b[0mpixel_values\u001b[0m \u001b[0;34m=\u001b[0m \u001b[0mimg2\u001b[0m\u001b[0;34m.\u001b[0m\u001b[0mreshape\u001b[0m\u001b[0;34m(\u001b[0m\u001b[0;34m(\u001b[0m\u001b[0;34m-\u001b[0m\u001b[0;36m1\u001b[0m\u001b[0;34m,\u001b[0m \u001b[0;36m3\u001b[0m\u001b[0;34m)\u001b[0m\u001b[0;34m)\u001b[0m\u001b[0;34m\u001b[0m\u001b[0;34m\u001b[0m\u001b[0m\n\u001b[1;32m     14\u001b[0m         \u001b[0mpixel_values\u001b[0m \u001b[0;34m=\u001b[0m \u001b[0mnp\u001b[0m\u001b[0;34m.\u001b[0m\u001b[0mfloat32\u001b[0m\u001b[0;34m(\u001b[0m\u001b[0mpixel_values\u001b[0m\u001b[0;34m)\u001b[0m\u001b[0;34m\u001b[0m\u001b[0;34m\u001b[0m\u001b[0m\n\u001b[0;32m---> 15\u001b[0;31m         \u001b[0m_\u001b[0m\u001b[0;34m,\u001b[0m \u001b[0mlabels\u001b[0m\u001b[0;34m,\u001b[0m \u001b[0;34m(\u001b[0m\u001b[0mcenters\u001b[0m\u001b[0;34m)\u001b[0m \u001b[0;34m=\u001b[0m \u001b[0mcv2\u001b[0m\u001b[0;34m.\u001b[0m\u001b[0mkmeans\u001b[0m\u001b[0;34m(\u001b[0m\u001b[0mpixel_values\u001b[0m\u001b[0;34m,\u001b[0m \u001b[0mk\u001b[0m\u001b[0;34m,\u001b[0m \u001b[0;32mNone\u001b[0m\u001b[0;34m,\u001b[0m \u001b[0mcriteria\u001b[0m\u001b[0;34m,\u001b[0m \u001b[0;36m5\u001b[0m\u001b[0;34m,\u001b[0m \u001b[0mcv2\u001b[0m\u001b[0;34m.\u001b[0m\u001b[0mKMEANS_RANDOM_CENTERS\u001b[0m\u001b[0;34m)\u001b[0m\u001b[0;34m\u001b[0m\u001b[0;34m\u001b[0m\u001b[0m\n\u001b[0m\u001b[1;32m     16\u001b[0m         \u001b[0;31m#labels_x=np.reshape(labels,(img2.shape[0],img2.shape[1]))\u001b[0m\u001b[0;34m\u001b[0m\u001b[0;34m\u001b[0m\u001b[0m\n\u001b[1;32m     17\u001b[0m         \u001b[0;31m#plt.imsave(\"C:\\\\Users\\\\Abu Bakr\\\\Desktop\\\\test_img.png\",labels_x,cmap='gray')\u001b[0m\u001b[0;34m\u001b[0m\u001b[0;34m\u001b[0m\u001b[0m\n",
      "\u001b[0;31mKeyboardInterrupt\u001b[0m: "
     ]
    }
   ],
   "source": [
    "for s,path in zip(s_p,paths):\n",
    "    p1=sorted(glob(path+\"/*\"))\n",
    "    s_p_f=s+\"/segmented\"\n",
    "    s_p_f1=s+\"/individual\"\n",
    "    print(s_p_f)\n",
    "    os.makedirs(s_p_f,exist_ok=True)\n",
    "    os.makedirs(s_p_f1,exist_ok=True)\n",
    "    x=0\n",
    "    for p in p1:\n",
    "        print(p)\n",
    "        img=cv2.imread(p)\n",
    "        img2=cv2.cvtColor(img,cv2.COLOR_BGR2RGB)\n",
    "        pixel_values = img2.reshape((-1, 3))\n",
    "        pixel_values = np.float32(pixel_values)\n",
    "        _, labels, (centers) = cv2.kmeans(pixel_values, k, None, criteria, 5, cv2.KMEANS_RANDOM_CENTERS)\n",
    "        #labels_x=np.reshape(labels,(img2.shape[0],img2.shape[1]))\n",
    "        #plt.imsave(\"C:\\\\Users\\\\Abu Bakr\\\\Desktop\\\\test_img.png\",labels_x,cmap='gray')\n",
    "        # convert back to 8 bit values\n",
    "        centers = np.uint8(centers)\n",
    "        labels_=labels.flatten()\n",
    "        segmented_image = centers[labels_]\n",
    "        segmented_image = segmented_image.reshape(img2.shape)\n",
    "        plt.imsave(s_p_f+\"/\"+f\"{x:06d}\"+\".png\",segmented_image,cmap='gray')\n",
    "        path3=s_p_f1+\"/\"+f\"{x:06d}\"\n",
    "        os.makedirs(path3,exist_ok=True)\n",
    "        \n",
    "        for i in range (k):\n",
    "            temp = np.copy(img2) # segmented_image flattens the image, ie processes the image and brings down the number of \n",
    "                                            # colors to k colors and changes each cluster's color to the centroid\n",
    "\n",
    "            #temp=np.copy(img2) #for real image\n",
    "            # convert to the shape of a vector of pixel values\n",
    "            temp = temp.reshape((-1, 3))\n",
    "            # color (i.e cluster) to disable\n",
    "            cluster = i\n",
    "            #temp[labels == cluster] = [0, 0, 0] #for removing color belonging to a cluster\n",
    "\n",
    "            temp[labels_ != cluster] = [0, 0, 0] # for removing any color not belonging to cluster\n",
    "\n",
    "\n",
    "            #cv2.imwrite(path+\"\\\\test\"+str(i)+\".png\",temp)\n",
    "            #temp[labels==cluster]=[255,255,255]\n",
    "            #img3 = cv2.threshold(temp,38, 255,cv2.THRESH_BINARY)\n",
    "            # convert back to original shape\n",
    "            temp = temp.reshape(img2.shape)\n",
    "            t2=cv2.cvtColor(temp,cv2.COLOR_RGB2BGR)\n",
    "           # t2=cv2.medianBlur(t2,25)\n",
    "            cv2.imwrite(path3+\"/\"+f\"{i:02d}\"+\".png\",t2)\n",
    "        x=x+1"
   ]
  },
  {
   "cell_type": "code",
   "execution_count": 12,
   "metadata": {},
   "outputs": [
    {
     "name": "stdout",
     "output_type": "stream",
     "text": [
      "/media/saab/f7ee81f1-4052-4c44-b470-0a4a650ee479/Raw_Data/Lung_IHC_TIFF/Lung_IHC_TIFF_s01.tif\n"
     ]
    },
    {
     "ename": "NameError",
     "evalue": "name 's_p_f1' is not defined",
     "output_type": "error",
     "traceback": [
      "\u001b[0;31m---------------------------------------------------------------------------\u001b[0m",
      "\u001b[0;31mNameError\u001b[0m                                 Traceback (most recent call last)",
      "\u001b[0;32m/tmp/ipykernel_23338/591005996.py\u001b[0m in \u001b[0;36m<module>\u001b[0;34m\u001b[0m\n\u001b[1;32m     17\u001b[0m     \u001b[0msegmented_image\u001b[0m \u001b[0;34m=\u001b[0m \u001b[0msegmented_image\u001b[0m\u001b[0;34m.\u001b[0m\u001b[0mreshape\u001b[0m\u001b[0;34m(\u001b[0m\u001b[0mimg2\u001b[0m\u001b[0;34m.\u001b[0m\u001b[0mshape\u001b[0m\u001b[0;34m)\u001b[0m\u001b[0;34m\u001b[0m\u001b[0;34m\u001b[0m\u001b[0m\n\u001b[1;32m     18\u001b[0m     \u001b[0;31m#plt.imsave(s_p_f+\"/\"+f\"{x:06d}\"+\".tif\",segmented_image,cmap='gray')\u001b[0m\u001b[0;34m\u001b[0m\u001b[0;34m\u001b[0m\u001b[0m\n\u001b[0;32m---> 19\u001b[0;31m     \u001b[0mpath3\u001b[0m\u001b[0;34m=\u001b[0m\u001b[0ms_p_f1\u001b[0m\u001b[0;34m+\u001b[0m\u001b[0;34m\"/\"\u001b[0m\u001b[0;34m+\u001b[0m\u001b[0;34mf\"{x:06d}\"\u001b[0m\u001b[0;34m\u001b[0m\u001b[0;34m\u001b[0m\u001b[0m\n\u001b[0m\u001b[1;32m     20\u001b[0m     \u001b[0mos\u001b[0m\u001b[0;34m.\u001b[0m\u001b[0mmakedirs\u001b[0m\u001b[0;34m(\u001b[0m\u001b[0mpath3\u001b[0m\u001b[0;34m,\u001b[0m\u001b[0mexist_ok\u001b[0m\u001b[0;34m=\u001b[0m\u001b[0;32mTrue\u001b[0m\u001b[0;34m)\u001b[0m\u001b[0;34m\u001b[0m\u001b[0;34m\u001b[0m\u001b[0m\n\u001b[1;32m     21\u001b[0m \u001b[0;34m\u001b[0m\u001b[0m\n",
      "\u001b[0;31mNameError\u001b[0m: name 's_p_f1' is not defined"
     ]
    }
   ],
   "source": [
    "for p in paths:\n",
    "    \n",
    "    print(p)\n",
    "    img=imread(p)\n",
    "    #img=cv2.imread(p)\n",
    "    #img2=cv2.cvtColor(img,cv2.COLOR_BGR2RGB)\n",
    "    img2=img\n",
    "    pixel_values = img2.reshape((-1, 3))\n",
    "    pixel_values = np.float32(pixel_values)\n",
    "    _, labels, (centers) = cv2.kmeans(pixel_values, k, None, criteria, 5, cv2.KMEANS_RANDOM_CENTERS)\n",
    "    #labels_x=np.reshape(labels,(img2.shape[0],img2.shape[1]))\n",
    "    #plt.imsave(\"C:\\\\Users\\\\Abu Bakr\\\\Desktop\\\\test_img.png\",labels_x,cmap='gray')\n",
    "    # convert back to 8 bit values\n",
    "    centers = np.uint8(centers)\n",
    "    labels_=labels.flatten()\n",
    "    segmented_image = centers[labels_]\n",
    "    segmented_image = segmented_image.reshape(img2.shape)\n",
    "    #plt.imsave(s_p_f+\"/\"+f\"{x:06d}\"+\".tif\",segmented_image,cmap='gray')\n",
    "    path3=name+\"/\"+f\"{x:06d}\"\n",
    "    os.makedirs(path3,exist_ok=True)\n",
    "        \n",
    "    for i in range (k):\n",
    "        temp = np.copy(img2) # segmented_image flattens the image, ie processes the image and brings down the number of \n",
    "                                        # colors to k colors and changes each cluster's color to the centroid\n",
    "\n",
    "        #temp=np.copy(img2) #for real image\n",
    "        # convert to the shape of a vector of pixel values\n",
    "        temp = temp.reshape((-1, 3))\n",
    "        # color (i.e cluster) to disable\n",
    "        cluster = i\n",
    "        #temp[labels == cluster] = [0, 0, 0] #for removing color belonging to a cluster\n",
    "\n",
    "        temp[labels_ != cluster] = [0, 0, 0] # for removing any color not belonging to cluster\n",
    "\n",
    "\n",
    "        #cv2.imwrite(path+\"\\\\test\"+str(i)+\".png\",temp)\n",
    "        #temp[labels==cluster]=[255,255,255]\n",
    "        #img3 = cv2.threshold(temp,38, 255,cv2.THRESH_BINARY)\n",
    "        # convert back to original shape\n",
    "        temp = temp.reshape(img2.shape)\n",
    "        t2=cv2.cvtColor(temp,cv2.COLOR_RGB2BGR)\n",
    "       # t2=cv2.medianBlur(t2,25)\n",
    "        imwrite(path3+\"/\"+f\"{i:02d}\"+\".tif\",t2)\n",
    "        #cv2.imwrite(path3+\"/\"+f\"{i:02d}\"+\".tif\",t2)\n",
    "    x=x+1"
   ]
  },
  {
   "cell_type": "code",
   "execution_count": null,
   "metadata": {},
   "outputs": [],
   "source": []
  },
  {
   "cell_type": "code",
   "execution_count": 22,
   "metadata": {},
   "outputs": [
    {
     "data": {
      "text/plain": [
       "14874"
      ]
     },
     "execution_count": 22,
     "metadata": {},
     "output_type": "execute_result"
    }
   ],
   "source": [
    "len(p1)"
   ]
  },
  {
   "cell_type": "code",
   "execution_count": 6,
   "metadata": {},
   "outputs": [
    {
     "data": {
      "text/plain": [
       "['/media/saab/f7ee81f1-4052-4c44-b470-0a4a650ee479/Raw_Data/IHC_Validation/038.jpg',\n",
       " '/media/saab/f7ee81f1-4052-4c44-b470-0a4a650ee479/Raw_Data/IHC_Validation/013.jpg',\n",
       " '/media/saab/f7ee81f1-4052-4c44-b470-0a4a650ee479/Raw_Data/IHC_Validation/029.jpg',\n",
       " '/media/saab/f7ee81f1-4052-4c44-b470-0a4a650ee479/Raw_Data/IHC_Validation/006.jpg',\n",
       " '/media/saab/f7ee81f1-4052-4c44-b470-0a4a650ee479/Raw_Data/IHC_Validation/031.jpg',\n",
       " '/media/saab/f7ee81f1-4052-4c44-b470-0a4a650ee479/Raw_Data/IHC_Validation/037.jpg',\n",
       " '/media/saab/f7ee81f1-4052-4c44-b470-0a4a650ee479/Raw_Data/IHC_Validation/017.jpg',\n",
       " '/media/saab/f7ee81f1-4052-4c44-b470-0a4a650ee479/Raw_Data/IHC_Validation/043.jpg',\n",
       " '/media/saab/f7ee81f1-4052-4c44-b470-0a4a650ee479/Raw_Data/IHC_Validation/028.jpg',\n",
       " '/media/saab/f7ee81f1-4052-4c44-b470-0a4a650ee479/Raw_Data/IHC_Validation/023.jpg',\n",
       " '/media/saab/f7ee81f1-4052-4c44-b470-0a4a650ee479/Raw_Data/IHC_Validation/042.jpg',\n",
       " '/media/saab/f7ee81f1-4052-4c44-b470-0a4a650ee479/Raw_Data/IHC_Validation/001.jpg',\n",
       " '/media/saab/f7ee81f1-4052-4c44-b470-0a4a650ee479/Raw_Data/IHC_Validation/039.jpg',\n",
       " '/media/saab/f7ee81f1-4052-4c44-b470-0a4a650ee479/Raw_Data/IHC_Validation/036.jpg',\n",
       " '/media/saab/f7ee81f1-4052-4c44-b470-0a4a650ee479/Raw_Data/IHC_Validation/010.jpg',\n",
       " '/media/saab/f7ee81f1-4052-4c44-b470-0a4a650ee479/Raw_Data/IHC_Validation/030.jpg',\n",
       " '/media/saab/f7ee81f1-4052-4c44-b470-0a4a650ee479/Raw_Data/IHC_Validation/004.jpg',\n",
       " '/media/saab/f7ee81f1-4052-4c44-b470-0a4a650ee479/Raw_Data/IHC_Validation/040.jpg',\n",
       " '/media/saab/f7ee81f1-4052-4c44-b470-0a4a650ee479/Raw_Data/IHC_Validation/016.jpg',\n",
       " '/media/saab/f7ee81f1-4052-4c44-b470-0a4a650ee479/Raw_Data/IHC_Validation/041.jpg',\n",
       " '/media/saab/f7ee81f1-4052-4c44-b470-0a4a650ee479/Raw_Data/IHC_Validation/034.jpg',\n",
       " '/media/saab/f7ee81f1-4052-4c44-b470-0a4a650ee479/Raw_Data/IHC_Validation/045.jpg',\n",
       " '/media/saab/f7ee81f1-4052-4c44-b470-0a4a650ee479/Raw_Data/IHC_Validation/009.jpg',\n",
       " '/media/saab/f7ee81f1-4052-4c44-b470-0a4a650ee479/Raw_Data/IHC_Validation/014.jpg',\n",
       " '/media/saab/f7ee81f1-4052-4c44-b470-0a4a650ee479/Raw_Data/IHC_Validation/008.jpg',\n",
       " '/media/saab/f7ee81f1-4052-4c44-b470-0a4a650ee479/Raw_Data/IHC_Validation/025.jpg',\n",
       " '/media/saab/f7ee81f1-4052-4c44-b470-0a4a650ee479/Raw_Data/IHC_Validation/018.jpg',\n",
       " '/media/saab/f7ee81f1-4052-4c44-b470-0a4a650ee479/Raw_Data/IHC_Validation/002.jpg',\n",
       " '/media/saab/f7ee81f1-4052-4c44-b470-0a4a650ee479/Raw_Data/IHC_Validation/005.jpg',\n",
       " '/media/saab/f7ee81f1-4052-4c44-b470-0a4a650ee479/Raw_Data/IHC_Validation/015.jpg',\n",
       " '/media/saab/f7ee81f1-4052-4c44-b470-0a4a650ee479/Raw_Data/IHC_Validation/003.jpg',\n",
       " '/media/saab/f7ee81f1-4052-4c44-b470-0a4a650ee479/Raw_Data/IHC_Validation/033.jpg',\n",
       " '/media/saab/f7ee81f1-4052-4c44-b470-0a4a650ee479/Raw_Data/IHC_Validation/027.jpg',\n",
       " '/media/saab/f7ee81f1-4052-4c44-b470-0a4a650ee479/Raw_Data/IHC_Validation/044.jpg',\n",
       " '/media/saab/f7ee81f1-4052-4c44-b470-0a4a650ee479/Raw_Data/IHC_Validation/011.jpg',\n",
       " '/media/saab/f7ee81f1-4052-4c44-b470-0a4a650ee479/Raw_Data/IHC_Validation/026.jpg',\n",
       " '/media/saab/f7ee81f1-4052-4c44-b470-0a4a650ee479/Raw_Data/IHC_Validation/035.jpg',\n",
       " '/media/saab/f7ee81f1-4052-4c44-b470-0a4a650ee479/Raw_Data/IHC_Validation/032.jpg',\n",
       " '/media/saab/f7ee81f1-4052-4c44-b470-0a4a650ee479/Raw_Data/IHC_Validation/022.jpg',\n",
       " '/media/saab/f7ee81f1-4052-4c44-b470-0a4a650ee479/Raw_Data/IHC_Validation/021.jpg',\n",
       " '/media/saab/f7ee81f1-4052-4c44-b470-0a4a650ee479/Raw_Data/IHC_Validation/048.jpg',\n",
       " '/media/saab/f7ee81f1-4052-4c44-b470-0a4a650ee479/Raw_Data/IHC_Validation/024.jpg',\n",
       " '/media/saab/f7ee81f1-4052-4c44-b470-0a4a650ee479/Raw_Data/IHC_Validation/012.jpg',\n",
       " '/media/saab/f7ee81f1-4052-4c44-b470-0a4a650ee479/Raw_Data/IHC_Validation/019.jpg',\n",
       " '/media/saab/f7ee81f1-4052-4c44-b470-0a4a650ee479/Raw_Data/IHC_Validation/046.jpg',\n",
       " '/media/saab/f7ee81f1-4052-4c44-b470-0a4a650ee479/Raw_Data/IHC_Validation/007.jpg',\n",
       " '/media/saab/f7ee81f1-4052-4c44-b470-0a4a650ee479/Raw_Data/IHC_Validation/047.jpg',\n",
       " '/media/saab/f7ee81f1-4052-4c44-b470-0a4a650ee479/Raw_Data/IHC_Validation/020.jpg']"
      ]
     },
     "execution_count": 6,
     "metadata": {},
     "output_type": "execute_result"
    }
   ],
   "source": [
    "paths"
   ]
  },
  {
   "cell_type": "markdown",
   "metadata": {},
   "source": [
    "# Additional Code"
   ]
  },
  {
   "cell_type": "code",
   "execution_count": null,
   "metadata": {},
   "outputs": [],
   "source": [
    "sg2=cv2.cvtColor(segmented_image,cv2.COLOR_RGB2BGR)\n",
    "#sg2=cv2.medianBlur(sg2,15)\n",
    "cv2.imwrite(\"C:\\\\Users\\\\Abu Bakr\\\\Desktop\\\\\"+str(img_no)+\"blurred_segmented_he.png\",sg2)"
   ]
  },
  {
   "cell_type": "code",
   "execution_count": null,
   "metadata": {
    "scrolled": false
   },
   "outputs": [],
   "source": [
    "o=0\n",
    "path2=\"C:\\\\Users\\\\Abu Bakr\\\\Desktop\\\\segmented_c\"\n",
    "os.makedirs(path2,exist_ok=True)\n",
    "for a in centers:\n",
    "    o=o+1\n",
    "    image = np.zeros((300, 300, 3), np.uint8)\n",
    "# Fill image with red color(set each pixel to red)\n",
    "    image[:] = a\n",
    "    plt.imshow(image)\n",
    "    plt.show()\n",
    "    image2=cv2.cvtColor(image,cv2.COLOR_RGB2BGR)\n",
    "    cv2.imwrite(path2+\"\\\\\"+str(o)+\".png\",image2)"
   ]
  }
 ],
 "metadata": {
  "kernelspec": {
   "display_name": "Python 3 (ipykernel)",
   "language": "python",
   "name": "python3"
  },
  "language_info": {
   "codemirror_mode": {
    "name": "ipython",
    "version": 3
   },
   "file_extension": ".py",
   "mimetype": "text/x-python",
   "name": "python",
   "nbconvert_exporter": "python",
   "pygments_lexer": "ipython3",
   "version": "3.9.7"
  }
 },
 "nbformat": 4,
 "nbformat_minor": 4
}
