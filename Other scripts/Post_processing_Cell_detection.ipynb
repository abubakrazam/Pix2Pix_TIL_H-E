{
 "cells": [
  {
   "cell_type": "code",
   "execution_count": 1,
   "id": "e169a6fd",
   "metadata": {},
   "outputs": [
    {
     "data": {
      "text/plain": [
       "''"
      ]
     },
     "execution_count": 1,
     "metadata": {},
     "output_type": "execute_result"
    }
   ],
   "source": [
    "import numpy as np\n",
    "import cv2\n",
    "from glob import glob\n",
    "import os\n",
    "import matplotlib.pyplot as plt\n",
    "import pandas as pd\n",
    "import tkinter\n",
    "from tkinter import filedialog\n",
    "tkinter.Tk().withdraw() # prevents an empty tkinter window from appearing"
   ]
  },
  {
   "cell_type": "code",
   "execution_count": 81,
   "id": "ca34e927",
   "metadata": {},
   "outputs": [],
   "source": [
    "path1 = filedialog.askdirectory()\n"
   ]
  },
  {
   "cell_type": "code",
   "execution_count": 82,
   "id": "0a8aa737",
   "metadata": {},
   "outputs": [
    {
     "data": {
      "text/plain": [
       "'/home/saab/Desktop/SGH_IMCB_NTU_Main/Processed_Data/Predicted_CD3P_Regions/Serial_Slide/15Oct/Test/gt'"
      ]
     },
     "execution_count": 82,
     "metadata": {},
     "output_type": "execute_result"
    }
   ],
   "source": [
    "path1"
   ]
  },
  {
   "cell_type": "code",
   "execution_count": 83,
   "id": "334b551a",
   "metadata": {},
   "outputs": [
    {
     "name": "stdout",
     "output_type": "stream",
     "text": [
      "384\n"
     ]
    }
   ],
   "source": [
    "img_list=[x for x in sorted(glob(path1+\"/*\"))]\n",
    "#img_list=[x for x in sorted(glob(path1+\"/*/cd3*\"))]\n",
    "print(len(img_list))"
   ]
  },
  {
   "cell_type": "code",
   "execution_count": 84,
   "id": "ccebdd10",
   "metadata": {},
   "outputs": [
    {
     "data": {
      "text/plain": [
       "['/home/saab/Desktop/SGH_IMCB_NTU_Main/Processed_Data/Predicted_CD3P_Regions/Serial_Slide/15Oct/Test/gt/000000.png',\n",
       " '/home/saab/Desktop/SGH_IMCB_NTU_Main/Processed_Data/Predicted_CD3P_Regions/Serial_Slide/15Oct/Test/gt/000001.png',\n",
       " '/home/saab/Desktop/SGH_IMCB_NTU_Main/Processed_Data/Predicted_CD3P_Regions/Serial_Slide/15Oct/Test/gt/000002.png',\n",
       " '/home/saab/Desktop/SGH_IMCB_NTU_Main/Processed_Data/Predicted_CD3P_Regions/Serial_Slide/15Oct/Test/gt/000003.png',\n",
       " '/home/saab/Desktop/SGH_IMCB_NTU_Main/Processed_Data/Predicted_CD3P_Regions/Serial_Slide/15Oct/Test/gt/000004.png',\n",
       " '/home/saab/Desktop/SGH_IMCB_NTU_Main/Processed_Data/Predicted_CD3P_Regions/Serial_Slide/15Oct/Test/gt/000005.png',\n",
       " '/home/saab/Desktop/SGH_IMCB_NTU_Main/Processed_Data/Predicted_CD3P_Regions/Serial_Slide/15Oct/Test/gt/000006.png',\n",
       " '/home/saab/Desktop/SGH_IMCB_NTU_Main/Processed_Data/Predicted_CD3P_Regions/Serial_Slide/15Oct/Test/gt/000007.png',\n",
       " '/home/saab/Desktop/SGH_IMCB_NTU_Main/Processed_Data/Predicted_CD3P_Regions/Serial_Slide/15Oct/Test/gt/000008.png',\n",
       " '/home/saab/Desktop/SGH_IMCB_NTU_Main/Processed_Data/Predicted_CD3P_Regions/Serial_Slide/15Oct/Test/gt/000009.png',\n",
       " '/home/saab/Desktop/SGH_IMCB_NTU_Main/Processed_Data/Predicted_CD3P_Regions/Serial_Slide/15Oct/Test/gt/000010.png',\n",
       " '/home/saab/Desktop/SGH_IMCB_NTU_Main/Processed_Data/Predicted_CD3P_Regions/Serial_Slide/15Oct/Test/gt/000011.png',\n",
       " '/home/saab/Desktop/SGH_IMCB_NTU_Main/Processed_Data/Predicted_CD3P_Regions/Serial_Slide/15Oct/Test/gt/000012.png',\n",
       " '/home/saab/Desktop/SGH_IMCB_NTU_Main/Processed_Data/Predicted_CD3P_Regions/Serial_Slide/15Oct/Test/gt/000013.png',\n",
       " '/home/saab/Desktop/SGH_IMCB_NTU_Main/Processed_Data/Predicted_CD3P_Regions/Serial_Slide/15Oct/Test/gt/000014.png',\n",
       " '/home/saab/Desktop/SGH_IMCB_NTU_Main/Processed_Data/Predicted_CD3P_Regions/Serial_Slide/15Oct/Test/gt/000015.png',\n",
       " '/home/saab/Desktop/SGH_IMCB_NTU_Main/Processed_Data/Predicted_CD3P_Regions/Serial_Slide/15Oct/Test/gt/000016.png',\n",
       " '/home/saab/Desktop/SGH_IMCB_NTU_Main/Processed_Data/Predicted_CD3P_Regions/Serial_Slide/15Oct/Test/gt/000017.png',\n",
       " '/home/saab/Desktop/SGH_IMCB_NTU_Main/Processed_Data/Predicted_CD3P_Regions/Serial_Slide/15Oct/Test/gt/000018.png',\n",
       " '/home/saab/Desktop/SGH_IMCB_NTU_Main/Processed_Data/Predicted_CD3P_Regions/Serial_Slide/15Oct/Test/gt/000019.png',\n",
       " '/home/saab/Desktop/SGH_IMCB_NTU_Main/Processed_Data/Predicted_CD3P_Regions/Serial_Slide/15Oct/Test/gt/000020.png',\n",
       " '/home/saab/Desktop/SGH_IMCB_NTU_Main/Processed_Data/Predicted_CD3P_Regions/Serial_Slide/15Oct/Test/gt/000021.png',\n",
       " '/home/saab/Desktop/SGH_IMCB_NTU_Main/Processed_Data/Predicted_CD3P_Regions/Serial_Slide/15Oct/Test/gt/000022.png',\n",
       " '/home/saab/Desktop/SGH_IMCB_NTU_Main/Processed_Data/Predicted_CD3P_Regions/Serial_Slide/15Oct/Test/gt/000023.png',\n",
       " '/home/saab/Desktop/SGH_IMCB_NTU_Main/Processed_Data/Predicted_CD3P_Regions/Serial_Slide/15Oct/Test/gt/000024.png',\n",
       " '/home/saab/Desktop/SGH_IMCB_NTU_Main/Processed_Data/Predicted_CD3P_Regions/Serial_Slide/15Oct/Test/gt/000025.png',\n",
       " '/home/saab/Desktop/SGH_IMCB_NTU_Main/Processed_Data/Predicted_CD3P_Regions/Serial_Slide/15Oct/Test/gt/000026.png',\n",
       " '/home/saab/Desktop/SGH_IMCB_NTU_Main/Processed_Data/Predicted_CD3P_Regions/Serial_Slide/15Oct/Test/gt/000027.png',\n",
       " '/home/saab/Desktop/SGH_IMCB_NTU_Main/Processed_Data/Predicted_CD3P_Regions/Serial_Slide/15Oct/Test/gt/000028.png',\n",
       " '/home/saab/Desktop/SGH_IMCB_NTU_Main/Processed_Data/Predicted_CD3P_Regions/Serial_Slide/15Oct/Test/gt/000029.png',\n",
       " '/home/saab/Desktop/SGH_IMCB_NTU_Main/Processed_Data/Predicted_CD3P_Regions/Serial_Slide/15Oct/Test/gt/000030.png',\n",
       " '/home/saab/Desktop/SGH_IMCB_NTU_Main/Processed_Data/Predicted_CD3P_Regions/Serial_Slide/15Oct/Test/gt/000031.png',\n",
       " '/home/saab/Desktop/SGH_IMCB_NTU_Main/Processed_Data/Predicted_CD3P_Regions/Serial_Slide/15Oct/Test/gt/000032.png',\n",
       " '/home/saab/Desktop/SGH_IMCB_NTU_Main/Processed_Data/Predicted_CD3P_Regions/Serial_Slide/15Oct/Test/gt/000033.png',\n",
       " '/home/saab/Desktop/SGH_IMCB_NTU_Main/Processed_Data/Predicted_CD3P_Regions/Serial_Slide/15Oct/Test/gt/000034.png',\n",
       " '/home/saab/Desktop/SGH_IMCB_NTU_Main/Processed_Data/Predicted_CD3P_Regions/Serial_Slide/15Oct/Test/gt/000035.png',\n",
       " '/home/saab/Desktop/SGH_IMCB_NTU_Main/Processed_Data/Predicted_CD3P_Regions/Serial_Slide/15Oct/Test/gt/000036.png',\n",
       " '/home/saab/Desktop/SGH_IMCB_NTU_Main/Processed_Data/Predicted_CD3P_Regions/Serial_Slide/15Oct/Test/gt/000037.png',\n",
       " '/home/saab/Desktop/SGH_IMCB_NTU_Main/Processed_Data/Predicted_CD3P_Regions/Serial_Slide/15Oct/Test/gt/000038.png',\n",
       " '/home/saab/Desktop/SGH_IMCB_NTU_Main/Processed_Data/Predicted_CD3P_Regions/Serial_Slide/15Oct/Test/gt/000039.png',\n",
       " '/home/saab/Desktop/SGH_IMCB_NTU_Main/Processed_Data/Predicted_CD3P_Regions/Serial_Slide/15Oct/Test/gt/000040.png',\n",
       " '/home/saab/Desktop/SGH_IMCB_NTU_Main/Processed_Data/Predicted_CD3P_Regions/Serial_Slide/15Oct/Test/gt/000041.png',\n",
       " '/home/saab/Desktop/SGH_IMCB_NTU_Main/Processed_Data/Predicted_CD3P_Regions/Serial_Slide/15Oct/Test/gt/000042.png',\n",
       " '/home/saab/Desktop/SGH_IMCB_NTU_Main/Processed_Data/Predicted_CD3P_Regions/Serial_Slide/15Oct/Test/gt/000043.png',\n",
       " '/home/saab/Desktop/SGH_IMCB_NTU_Main/Processed_Data/Predicted_CD3P_Regions/Serial_Slide/15Oct/Test/gt/000044.png',\n",
       " '/home/saab/Desktop/SGH_IMCB_NTU_Main/Processed_Data/Predicted_CD3P_Regions/Serial_Slide/15Oct/Test/gt/000045.png',\n",
       " '/home/saab/Desktop/SGH_IMCB_NTU_Main/Processed_Data/Predicted_CD3P_Regions/Serial_Slide/15Oct/Test/gt/000046.png',\n",
       " '/home/saab/Desktop/SGH_IMCB_NTU_Main/Processed_Data/Predicted_CD3P_Regions/Serial_Slide/15Oct/Test/gt/000047.png',\n",
       " '/home/saab/Desktop/SGH_IMCB_NTU_Main/Processed_Data/Predicted_CD3P_Regions/Serial_Slide/15Oct/Test/gt/000048.png',\n",
       " '/home/saab/Desktop/SGH_IMCB_NTU_Main/Processed_Data/Predicted_CD3P_Regions/Serial_Slide/15Oct/Test/gt/000049.png',\n",
       " '/home/saab/Desktop/SGH_IMCB_NTU_Main/Processed_Data/Predicted_CD3P_Regions/Serial_Slide/15Oct/Test/gt/000050.png',\n",
       " '/home/saab/Desktop/SGH_IMCB_NTU_Main/Processed_Data/Predicted_CD3P_Regions/Serial_Slide/15Oct/Test/gt/000051.png',\n",
       " '/home/saab/Desktop/SGH_IMCB_NTU_Main/Processed_Data/Predicted_CD3P_Regions/Serial_Slide/15Oct/Test/gt/000052.png',\n",
       " '/home/saab/Desktop/SGH_IMCB_NTU_Main/Processed_Data/Predicted_CD3P_Regions/Serial_Slide/15Oct/Test/gt/000053.png',\n",
       " '/home/saab/Desktop/SGH_IMCB_NTU_Main/Processed_Data/Predicted_CD3P_Regions/Serial_Slide/15Oct/Test/gt/000054.png',\n",
       " '/home/saab/Desktop/SGH_IMCB_NTU_Main/Processed_Data/Predicted_CD3P_Regions/Serial_Slide/15Oct/Test/gt/000055.png',\n",
       " '/home/saab/Desktop/SGH_IMCB_NTU_Main/Processed_Data/Predicted_CD3P_Regions/Serial_Slide/15Oct/Test/gt/000056.png',\n",
       " '/home/saab/Desktop/SGH_IMCB_NTU_Main/Processed_Data/Predicted_CD3P_Regions/Serial_Slide/15Oct/Test/gt/000057.png',\n",
       " '/home/saab/Desktop/SGH_IMCB_NTU_Main/Processed_Data/Predicted_CD3P_Regions/Serial_Slide/15Oct/Test/gt/000058.png',\n",
       " '/home/saab/Desktop/SGH_IMCB_NTU_Main/Processed_Data/Predicted_CD3P_Regions/Serial_Slide/15Oct/Test/gt/000059.png',\n",
       " '/home/saab/Desktop/SGH_IMCB_NTU_Main/Processed_Data/Predicted_CD3P_Regions/Serial_Slide/15Oct/Test/gt/000060.png',\n",
       " '/home/saab/Desktop/SGH_IMCB_NTU_Main/Processed_Data/Predicted_CD3P_Regions/Serial_Slide/15Oct/Test/gt/000061.png',\n",
       " '/home/saab/Desktop/SGH_IMCB_NTU_Main/Processed_Data/Predicted_CD3P_Regions/Serial_Slide/15Oct/Test/gt/000062.png',\n",
       " '/home/saab/Desktop/SGH_IMCB_NTU_Main/Processed_Data/Predicted_CD3P_Regions/Serial_Slide/15Oct/Test/gt/000063.png',\n",
       " '/home/saab/Desktop/SGH_IMCB_NTU_Main/Processed_Data/Predicted_CD3P_Regions/Serial_Slide/15Oct/Test/gt/000064.png',\n",
       " '/home/saab/Desktop/SGH_IMCB_NTU_Main/Processed_Data/Predicted_CD3P_Regions/Serial_Slide/15Oct/Test/gt/000065.png',\n",
       " '/home/saab/Desktop/SGH_IMCB_NTU_Main/Processed_Data/Predicted_CD3P_Regions/Serial_Slide/15Oct/Test/gt/000066.png',\n",
       " '/home/saab/Desktop/SGH_IMCB_NTU_Main/Processed_Data/Predicted_CD3P_Regions/Serial_Slide/15Oct/Test/gt/000067.png',\n",
       " '/home/saab/Desktop/SGH_IMCB_NTU_Main/Processed_Data/Predicted_CD3P_Regions/Serial_Slide/15Oct/Test/gt/000068.png',\n",
       " '/home/saab/Desktop/SGH_IMCB_NTU_Main/Processed_Data/Predicted_CD3P_Regions/Serial_Slide/15Oct/Test/gt/000069.png',\n",
       " '/home/saab/Desktop/SGH_IMCB_NTU_Main/Processed_Data/Predicted_CD3P_Regions/Serial_Slide/15Oct/Test/gt/000070.png',\n",
       " '/home/saab/Desktop/SGH_IMCB_NTU_Main/Processed_Data/Predicted_CD3P_Regions/Serial_Slide/15Oct/Test/gt/000071.png',\n",
       " '/home/saab/Desktop/SGH_IMCB_NTU_Main/Processed_Data/Predicted_CD3P_Regions/Serial_Slide/15Oct/Test/gt/000072.png',\n",
       " '/home/saab/Desktop/SGH_IMCB_NTU_Main/Processed_Data/Predicted_CD3P_Regions/Serial_Slide/15Oct/Test/gt/000073.png',\n",
       " '/home/saab/Desktop/SGH_IMCB_NTU_Main/Processed_Data/Predicted_CD3P_Regions/Serial_Slide/15Oct/Test/gt/000074.png',\n",
       " '/home/saab/Desktop/SGH_IMCB_NTU_Main/Processed_Data/Predicted_CD3P_Regions/Serial_Slide/15Oct/Test/gt/000075.png',\n",
       " '/home/saab/Desktop/SGH_IMCB_NTU_Main/Processed_Data/Predicted_CD3P_Regions/Serial_Slide/15Oct/Test/gt/000076.png',\n",
       " '/home/saab/Desktop/SGH_IMCB_NTU_Main/Processed_Data/Predicted_CD3P_Regions/Serial_Slide/15Oct/Test/gt/000077.png',\n",
       " '/home/saab/Desktop/SGH_IMCB_NTU_Main/Processed_Data/Predicted_CD3P_Regions/Serial_Slide/15Oct/Test/gt/000078.png',\n",
       " '/home/saab/Desktop/SGH_IMCB_NTU_Main/Processed_Data/Predicted_CD3P_Regions/Serial_Slide/15Oct/Test/gt/000079.png',\n",
       " '/home/saab/Desktop/SGH_IMCB_NTU_Main/Processed_Data/Predicted_CD3P_Regions/Serial_Slide/15Oct/Test/gt/000080.png',\n",
       " '/home/saab/Desktop/SGH_IMCB_NTU_Main/Processed_Data/Predicted_CD3P_Regions/Serial_Slide/15Oct/Test/gt/000081.png',\n",
       " '/home/saab/Desktop/SGH_IMCB_NTU_Main/Processed_Data/Predicted_CD3P_Regions/Serial_Slide/15Oct/Test/gt/000082.png',\n",
       " '/home/saab/Desktop/SGH_IMCB_NTU_Main/Processed_Data/Predicted_CD3P_Regions/Serial_Slide/15Oct/Test/gt/000083.png',\n",
       " '/home/saab/Desktop/SGH_IMCB_NTU_Main/Processed_Data/Predicted_CD3P_Regions/Serial_Slide/15Oct/Test/gt/000084.png',\n",
       " '/home/saab/Desktop/SGH_IMCB_NTU_Main/Processed_Data/Predicted_CD3P_Regions/Serial_Slide/15Oct/Test/gt/000085.png',\n",
       " '/home/saab/Desktop/SGH_IMCB_NTU_Main/Processed_Data/Predicted_CD3P_Regions/Serial_Slide/15Oct/Test/gt/000086.png',\n",
       " '/home/saab/Desktop/SGH_IMCB_NTU_Main/Processed_Data/Predicted_CD3P_Regions/Serial_Slide/15Oct/Test/gt/000087.png',\n",
       " '/home/saab/Desktop/SGH_IMCB_NTU_Main/Processed_Data/Predicted_CD3P_Regions/Serial_Slide/15Oct/Test/gt/000088.png',\n",
       " '/home/saab/Desktop/SGH_IMCB_NTU_Main/Processed_Data/Predicted_CD3P_Regions/Serial_Slide/15Oct/Test/gt/000089.png',\n",
       " '/home/saab/Desktop/SGH_IMCB_NTU_Main/Processed_Data/Predicted_CD3P_Regions/Serial_Slide/15Oct/Test/gt/000090.png',\n",
       " '/home/saab/Desktop/SGH_IMCB_NTU_Main/Processed_Data/Predicted_CD3P_Regions/Serial_Slide/15Oct/Test/gt/000091.png',\n",
       " '/home/saab/Desktop/SGH_IMCB_NTU_Main/Processed_Data/Predicted_CD3P_Regions/Serial_Slide/15Oct/Test/gt/000092.png',\n",
       " '/home/saab/Desktop/SGH_IMCB_NTU_Main/Processed_Data/Predicted_CD3P_Regions/Serial_Slide/15Oct/Test/gt/000093.png',\n",
       " '/home/saab/Desktop/SGH_IMCB_NTU_Main/Processed_Data/Predicted_CD3P_Regions/Serial_Slide/15Oct/Test/gt/000094.png',\n",
       " '/home/saab/Desktop/SGH_IMCB_NTU_Main/Processed_Data/Predicted_CD3P_Regions/Serial_Slide/15Oct/Test/gt/000095.png',\n",
       " '/home/saab/Desktop/SGH_IMCB_NTU_Main/Processed_Data/Predicted_CD3P_Regions/Serial_Slide/15Oct/Test/gt/000096.png',\n",
       " '/home/saab/Desktop/SGH_IMCB_NTU_Main/Processed_Data/Predicted_CD3P_Regions/Serial_Slide/15Oct/Test/gt/000097.png',\n",
       " '/home/saab/Desktop/SGH_IMCB_NTU_Main/Processed_Data/Predicted_CD3P_Regions/Serial_Slide/15Oct/Test/gt/000098.png',\n",
       " '/home/saab/Desktop/SGH_IMCB_NTU_Main/Processed_Data/Predicted_CD3P_Regions/Serial_Slide/15Oct/Test/gt/000099.png',\n",
       " '/home/saab/Desktop/SGH_IMCB_NTU_Main/Processed_Data/Predicted_CD3P_Regions/Serial_Slide/15Oct/Test/gt/000100.png',\n",
       " '/home/saab/Desktop/SGH_IMCB_NTU_Main/Processed_Data/Predicted_CD3P_Regions/Serial_Slide/15Oct/Test/gt/000101.png',\n",
       " '/home/saab/Desktop/SGH_IMCB_NTU_Main/Processed_Data/Predicted_CD3P_Regions/Serial_Slide/15Oct/Test/gt/000102.png',\n",
       " '/home/saab/Desktop/SGH_IMCB_NTU_Main/Processed_Data/Predicted_CD3P_Regions/Serial_Slide/15Oct/Test/gt/000103.png',\n",
       " '/home/saab/Desktop/SGH_IMCB_NTU_Main/Processed_Data/Predicted_CD3P_Regions/Serial_Slide/15Oct/Test/gt/000104.png',\n",
       " '/home/saab/Desktop/SGH_IMCB_NTU_Main/Processed_Data/Predicted_CD3P_Regions/Serial_Slide/15Oct/Test/gt/000105.png',\n",
       " '/home/saab/Desktop/SGH_IMCB_NTU_Main/Processed_Data/Predicted_CD3P_Regions/Serial_Slide/15Oct/Test/gt/000106.png',\n",
       " '/home/saab/Desktop/SGH_IMCB_NTU_Main/Processed_Data/Predicted_CD3P_Regions/Serial_Slide/15Oct/Test/gt/000107.png',\n",
       " '/home/saab/Desktop/SGH_IMCB_NTU_Main/Processed_Data/Predicted_CD3P_Regions/Serial_Slide/15Oct/Test/gt/000108.png',\n",
       " '/home/saab/Desktop/SGH_IMCB_NTU_Main/Processed_Data/Predicted_CD3P_Regions/Serial_Slide/15Oct/Test/gt/000109.png',\n",
       " '/home/saab/Desktop/SGH_IMCB_NTU_Main/Processed_Data/Predicted_CD3P_Regions/Serial_Slide/15Oct/Test/gt/000110.png',\n",
       " '/home/saab/Desktop/SGH_IMCB_NTU_Main/Processed_Data/Predicted_CD3P_Regions/Serial_Slide/15Oct/Test/gt/000111.png',\n",
       " '/home/saab/Desktop/SGH_IMCB_NTU_Main/Processed_Data/Predicted_CD3P_Regions/Serial_Slide/15Oct/Test/gt/000112.png',\n",
       " '/home/saab/Desktop/SGH_IMCB_NTU_Main/Processed_Data/Predicted_CD3P_Regions/Serial_Slide/15Oct/Test/gt/000113.png',\n",
       " '/home/saab/Desktop/SGH_IMCB_NTU_Main/Processed_Data/Predicted_CD3P_Regions/Serial_Slide/15Oct/Test/gt/000114.png',\n",
       " '/home/saab/Desktop/SGH_IMCB_NTU_Main/Processed_Data/Predicted_CD3P_Regions/Serial_Slide/15Oct/Test/gt/000115.png',\n",
       " '/home/saab/Desktop/SGH_IMCB_NTU_Main/Processed_Data/Predicted_CD3P_Regions/Serial_Slide/15Oct/Test/gt/000116.png',\n",
       " '/home/saab/Desktop/SGH_IMCB_NTU_Main/Processed_Data/Predicted_CD3P_Regions/Serial_Slide/15Oct/Test/gt/000117.png',\n",
       " '/home/saab/Desktop/SGH_IMCB_NTU_Main/Processed_Data/Predicted_CD3P_Regions/Serial_Slide/15Oct/Test/gt/000118.png',\n",
       " '/home/saab/Desktop/SGH_IMCB_NTU_Main/Processed_Data/Predicted_CD3P_Regions/Serial_Slide/15Oct/Test/gt/000119.png',\n",
       " '/home/saab/Desktop/SGH_IMCB_NTU_Main/Processed_Data/Predicted_CD3P_Regions/Serial_Slide/15Oct/Test/gt/000120.png',\n",
       " '/home/saab/Desktop/SGH_IMCB_NTU_Main/Processed_Data/Predicted_CD3P_Regions/Serial_Slide/15Oct/Test/gt/000121.png',\n",
       " '/home/saab/Desktop/SGH_IMCB_NTU_Main/Processed_Data/Predicted_CD3P_Regions/Serial_Slide/15Oct/Test/gt/000122.png',\n",
       " '/home/saab/Desktop/SGH_IMCB_NTU_Main/Processed_Data/Predicted_CD3P_Regions/Serial_Slide/15Oct/Test/gt/000123.png',\n",
       " '/home/saab/Desktop/SGH_IMCB_NTU_Main/Processed_Data/Predicted_CD3P_Regions/Serial_Slide/15Oct/Test/gt/000124.png',\n",
       " '/home/saab/Desktop/SGH_IMCB_NTU_Main/Processed_Data/Predicted_CD3P_Regions/Serial_Slide/15Oct/Test/gt/000125.png',\n",
       " '/home/saab/Desktop/SGH_IMCB_NTU_Main/Processed_Data/Predicted_CD3P_Regions/Serial_Slide/15Oct/Test/gt/000126.png',\n",
       " '/home/saab/Desktop/SGH_IMCB_NTU_Main/Processed_Data/Predicted_CD3P_Regions/Serial_Slide/15Oct/Test/gt/000127.png',\n",
       " '/home/saab/Desktop/SGH_IMCB_NTU_Main/Processed_Data/Predicted_CD3P_Regions/Serial_Slide/15Oct/Test/gt/000128.png',\n",
       " '/home/saab/Desktop/SGH_IMCB_NTU_Main/Processed_Data/Predicted_CD3P_Regions/Serial_Slide/15Oct/Test/gt/000129.png',\n",
       " '/home/saab/Desktop/SGH_IMCB_NTU_Main/Processed_Data/Predicted_CD3P_Regions/Serial_Slide/15Oct/Test/gt/000130.png',\n",
       " '/home/saab/Desktop/SGH_IMCB_NTU_Main/Processed_Data/Predicted_CD3P_Regions/Serial_Slide/15Oct/Test/gt/000131.png',\n",
       " '/home/saab/Desktop/SGH_IMCB_NTU_Main/Processed_Data/Predicted_CD3P_Regions/Serial_Slide/15Oct/Test/gt/000132.png',\n",
       " '/home/saab/Desktop/SGH_IMCB_NTU_Main/Processed_Data/Predicted_CD3P_Regions/Serial_Slide/15Oct/Test/gt/000133.png',\n",
       " '/home/saab/Desktop/SGH_IMCB_NTU_Main/Processed_Data/Predicted_CD3P_Regions/Serial_Slide/15Oct/Test/gt/000134.png',\n",
       " '/home/saab/Desktop/SGH_IMCB_NTU_Main/Processed_Data/Predicted_CD3P_Regions/Serial_Slide/15Oct/Test/gt/000135.png',\n",
       " '/home/saab/Desktop/SGH_IMCB_NTU_Main/Processed_Data/Predicted_CD3P_Regions/Serial_Slide/15Oct/Test/gt/000136.png',\n",
       " '/home/saab/Desktop/SGH_IMCB_NTU_Main/Processed_Data/Predicted_CD3P_Regions/Serial_Slide/15Oct/Test/gt/000137.png',\n",
       " '/home/saab/Desktop/SGH_IMCB_NTU_Main/Processed_Data/Predicted_CD3P_Regions/Serial_Slide/15Oct/Test/gt/000138.png',\n",
       " '/home/saab/Desktop/SGH_IMCB_NTU_Main/Processed_Data/Predicted_CD3P_Regions/Serial_Slide/15Oct/Test/gt/000139.png',\n",
       " '/home/saab/Desktop/SGH_IMCB_NTU_Main/Processed_Data/Predicted_CD3P_Regions/Serial_Slide/15Oct/Test/gt/000140.png',\n",
       " '/home/saab/Desktop/SGH_IMCB_NTU_Main/Processed_Data/Predicted_CD3P_Regions/Serial_Slide/15Oct/Test/gt/000141.png',\n",
       " '/home/saab/Desktop/SGH_IMCB_NTU_Main/Processed_Data/Predicted_CD3P_Regions/Serial_Slide/15Oct/Test/gt/000142.png',\n",
       " '/home/saab/Desktop/SGH_IMCB_NTU_Main/Processed_Data/Predicted_CD3P_Regions/Serial_Slide/15Oct/Test/gt/000143.png',\n",
       " '/home/saab/Desktop/SGH_IMCB_NTU_Main/Processed_Data/Predicted_CD3P_Regions/Serial_Slide/15Oct/Test/gt/000144.png',\n",
       " '/home/saab/Desktop/SGH_IMCB_NTU_Main/Processed_Data/Predicted_CD3P_Regions/Serial_Slide/15Oct/Test/gt/000145.png',\n",
       " '/home/saab/Desktop/SGH_IMCB_NTU_Main/Processed_Data/Predicted_CD3P_Regions/Serial_Slide/15Oct/Test/gt/000146.png',\n",
       " '/home/saab/Desktop/SGH_IMCB_NTU_Main/Processed_Data/Predicted_CD3P_Regions/Serial_Slide/15Oct/Test/gt/000147.png',\n",
       " '/home/saab/Desktop/SGH_IMCB_NTU_Main/Processed_Data/Predicted_CD3P_Regions/Serial_Slide/15Oct/Test/gt/000148.png',\n",
       " '/home/saab/Desktop/SGH_IMCB_NTU_Main/Processed_Data/Predicted_CD3P_Regions/Serial_Slide/15Oct/Test/gt/000149.png',\n",
       " '/home/saab/Desktop/SGH_IMCB_NTU_Main/Processed_Data/Predicted_CD3P_Regions/Serial_Slide/15Oct/Test/gt/000150.png',\n",
       " '/home/saab/Desktop/SGH_IMCB_NTU_Main/Processed_Data/Predicted_CD3P_Regions/Serial_Slide/15Oct/Test/gt/000151.png',\n",
       " '/home/saab/Desktop/SGH_IMCB_NTU_Main/Processed_Data/Predicted_CD3P_Regions/Serial_Slide/15Oct/Test/gt/000152.png',\n",
       " '/home/saab/Desktop/SGH_IMCB_NTU_Main/Processed_Data/Predicted_CD3P_Regions/Serial_Slide/15Oct/Test/gt/000153.png',\n",
       " '/home/saab/Desktop/SGH_IMCB_NTU_Main/Processed_Data/Predicted_CD3P_Regions/Serial_Slide/15Oct/Test/gt/000154.png',\n",
       " '/home/saab/Desktop/SGH_IMCB_NTU_Main/Processed_Data/Predicted_CD3P_Regions/Serial_Slide/15Oct/Test/gt/000155.png',\n",
       " '/home/saab/Desktop/SGH_IMCB_NTU_Main/Processed_Data/Predicted_CD3P_Regions/Serial_Slide/15Oct/Test/gt/000156.png',\n",
       " '/home/saab/Desktop/SGH_IMCB_NTU_Main/Processed_Data/Predicted_CD3P_Regions/Serial_Slide/15Oct/Test/gt/000157.png',\n",
       " '/home/saab/Desktop/SGH_IMCB_NTU_Main/Processed_Data/Predicted_CD3P_Regions/Serial_Slide/15Oct/Test/gt/000158.png',\n",
       " '/home/saab/Desktop/SGH_IMCB_NTU_Main/Processed_Data/Predicted_CD3P_Regions/Serial_Slide/15Oct/Test/gt/000159.png',\n",
       " '/home/saab/Desktop/SGH_IMCB_NTU_Main/Processed_Data/Predicted_CD3P_Regions/Serial_Slide/15Oct/Test/gt/000160.png',\n",
       " '/home/saab/Desktop/SGH_IMCB_NTU_Main/Processed_Data/Predicted_CD3P_Regions/Serial_Slide/15Oct/Test/gt/000161.png',\n",
       " '/home/saab/Desktop/SGH_IMCB_NTU_Main/Processed_Data/Predicted_CD3P_Regions/Serial_Slide/15Oct/Test/gt/000162.png',\n",
       " '/home/saab/Desktop/SGH_IMCB_NTU_Main/Processed_Data/Predicted_CD3P_Regions/Serial_Slide/15Oct/Test/gt/000163.png',\n",
       " '/home/saab/Desktop/SGH_IMCB_NTU_Main/Processed_Data/Predicted_CD3P_Regions/Serial_Slide/15Oct/Test/gt/000164.png',\n",
       " '/home/saab/Desktop/SGH_IMCB_NTU_Main/Processed_Data/Predicted_CD3P_Regions/Serial_Slide/15Oct/Test/gt/000165.png',\n",
       " '/home/saab/Desktop/SGH_IMCB_NTU_Main/Processed_Data/Predicted_CD3P_Regions/Serial_Slide/15Oct/Test/gt/000166.png',\n",
       " '/home/saab/Desktop/SGH_IMCB_NTU_Main/Processed_Data/Predicted_CD3P_Regions/Serial_Slide/15Oct/Test/gt/000167.png',\n",
       " '/home/saab/Desktop/SGH_IMCB_NTU_Main/Processed_Data/Predicted_CD3P_Regions/Serial_Slide/15Oct/Test/gt/000168.png',\n",
       " '/home/saab/Desktop/SGH_IMCB_NTU_Main/Processed_Data/Predicted_CD3P_Regions/Serial_Slide/15Oct/Test/gt/000169.png',\n",
       " '/home/saab/Desktop/SGH_IMCB_NTU_Main/Processed_Data/Predicted_CD3P_Regions/Serial_Slide/15Oct/Test/gt/000170.png',\n",
       " '/home/saab/Desktop/SGH_IMCB_NTU_Main/Processed_Data/Predicted_CD3P_Regions/Serial_Slide/15Oct/Test/gt/000171.png',\n",
       " '/home/saab/Desktop/SGH_IMCB_NTU_Main/Processed_Data/Predicted_CD3P_Regions/Serial_Slide/15Oct/Test/gt/000172.png',\n",
       " '/home/saab/Desktop/SGH_IMCB_NTU_Main/Processed_Data/Predicted_CD3P_Regions/Serial_Slide/15Oct/Test/gt/000173.png',\n",
       " '/home/saab/Desktop/SGH_IMCB_NTU_Main/Processed_Data/Predicted_CD3P_Regions/Serial_Slide/15Oct/Test/gt/000174.png',\n",
       " '/home/saab/Desktop/SGH_IMCB_NTU_Main/Processed_Data/Predicted_CD3P_Regions/Serial_Slide/15Oct/Test/gt/000175.png',\n",
       " '/home/saab/Desktop/SGH_IMCB_NTU_Main/Processed_Data/Predicted_CD3P_Regions/Serial_Slide/15Oct/Test/gt/000176.png',\n",
       " '/home/saab/Desktop/SGH_IMCB_NTU_Main/Processed_Data/Predicted_CD3P_Regions/Serial_Slide/15Oct/Test/gt/000177.png',\n",
       " '/home/saab/Desktop/SGH_IMCB_NTU_Main/Processed_Data/Predicted_CD3P_Regions/Serial_Slide/15Oct/Test/gt/000178.png',\n",
       " '/home/saab/Desktop/SGH_IMCB_NTU_Main/Processed_Data/Predicted_CD3P_Regions/Serial_Slide/15Oct/Test/gt/000179.png',\n",
       " '/home/saab/Desktop/SGH_IMCB_NTU_Main/Processed_Data/Predicted_CD3P_Regions/Serial_Slide/15Oct/Test/gt/000180.png',\n",
       " '/home/saab/Desktop/SGH_IMCB_NTU_Main/Processed_Data/Predicted_CD3P_Regions/Serial_Slide/15Oct/Test/gt/000181.png',\n",
       " '/home/saab/Desktop/SGH_IMCB_NTU_Main/Processed_Data/Predicted_CD3P_Regions/Serial_Slide/15Oct/Test/gt/000182.png',\n",
       " '/home/saab/Desktop/SGH_IMCB_NTU_Main/Processed_Data/Predicted_CD3P_Regions/Serial_Slide/15Oct/Test/gt/000183.png',\n",
       " '/home/saab/Desktop/SGH_IMCB_NTU_Main/Processed_Data/Predicted_CD3P_Regions/Serial_Slide/15Oct/Test/gt/000184.png',\n",
       " '/home/saab/Desktop/SGH_IMCB_NTU_Main/Processed_Data/Predicted_CD3P_Regions/Serial_Slide/15Oct/Test/gt/000185.png',\n",
       " '/home/saab/Desktop/SGH_IMCB_NTU_Main/Processed_Data/Predicted_CD3P_Regions/Serial_Slide/15Oct/Test/gt/000186.png',\n",
       " '/home/saab/Desktop/SGH_IMCB_NTU_Main/Processed_Data/Predicted_CD3P_Regions/Serial_Slide/15Oct/Test/gt/000187.png',\n",
       " '/home/saab/Desktop/SGH_IMCB_NTU_Main/Processed_Data/Predicted_CD3P_Regions/Serial_Slide/15Oct/Test/gt/000188.png',\n",
       " '/home/saab/Desktop/SGH_IMCB_NTU_Main/Processed_Data/Predicted_CD3P_Regions/Serial_Slide/15Oct/Test/gt/000189.png',\n",
       " '/home/saab/Desktop/SGH_IMCB_NTU_Main/Processed_Data/Predicted_CD3P_Regions/Serial_Slide/15Oct/Test/gt/000190.png',\n",
       " '/home/saab/Desktop/SGH_IMCB_NTU_Main/Processed_Data/Predicted_CD3P_Regions/Serial_Slide/15Oct/Test/gt/000191.png',\n",
       " '/home/saab/Desktop/SGH_IMCB_NTU_Main/Processed_Data/Predicted_CD3P_Regions/Serial_Slide/15Oct/Test/gt/000192.png',\n",
       " '/home/saab/Desktop/SGH_IMCB_NTU_Main/Processed_Data/Predicted_CD3P_Regions/Serial_Slide/15Oct/Test/gt/000193.png',\n",
       " '/home/saab/Desktop/SGH_IMCB_NTU_Main/Processed_Data/Predicted_CD3P_Regions/Serial_Slide/15Oct/Test/gt/000194.png',\n",
       " '/home/saab/Desktop/SGH_IMCB_NTU_Main/Processed_Data/Predicted_CD3P_Regions/Serial_Slide/15Oct/Test/gt/000195.png',\n",
       " '/home/saab/Desktop/SGH_IMCB_NTU_Main/Processed_Data/Predicted_CD3P_Regions/Serial_Slide/15Oct/Test/gt/000196.png',\n",
       " '/home/saab/Desktop/SGH_IMCB_NTU_Main/Processed_Data/Predicted_CD3P_Regions/Serial_Slide/15Oct/Test/gt/000197.png',\n",
       " '/home/saab/Desktop/SGH_IMCB_NTU_Main/Processed_Data/Predicted_CD3P_Regions/Serial_Slide/15Oct/Test/gt/000198.png',\n",
       " '/home/saab/Desktop/SGH_IMCB_NTU_Main/Processed_Data/Predicted_CD3P_Regions/Serial_Slide/15Oct/Test/gt/000199.png',\n",
       " '/home/saab/Desktop/SGH_IMCB_NTU_Main/Processed_Data/Predicted_CD3P_Regions/Serial_Slide/15Oct/Test/gt/000200.png',\n",
       " '/home/saab/Desktop/SGH_IMCB_NTU_Main/Processed_Data/Predicted_CD3P_Regions/Serial_Slide/15Oct/Test/gt/000201.png',\n",
       " '/home/saab/Desktop/SGH_IMCB_NTU_Main/Processed_Data/Predicted_CD3P_Regions/Serial_Slide/15Oct/Test/gt/000202.png',\n",
       " '/home/saab/Desktop/SGH_IMCB_NTU_Main/Processed_Data/Predicted_CD3P_Regions/Serial_Slide/15Oct/Test/gt/000203.png',\n",
       " '/home/saab/Desktop/SGH_IMCB_NTU_Main/Processed_Data/Predicted_CD3P_Regions/Serial_Slide/15Oct/Test/gt/000204.png',\n",
       " '/home/saab/Desktop/SGH_IMCB_NTU_Main/Processed_Data/Predicted_CD3P_Regions/Serial_Slide/15Oct/Test/gt/000205.png',\n",
       " '/home/saab/Desktop/SGH_IMCB_NTU_Main/Processed_Data/Predicted_CD3P_Regions/Serial_Slide/15Oct/Test/gt/000206.png',\n",
       " '/home/saab/Desktop/SGH_IMCB_NTU_Main/Processed_Data/Predicted_CD3P_Regions/Serial_Slide/15Oct/Test/gt/000207.png',\n",
       " '/home/saab/Desktop/SGH_IMCB_NTU_Main/Processed_Data/Predicted_CD3P_Regions/Serial_Slide/15Oct/Test/gt/000208.png',\n",
       " '/home/saab/Desktop/SGH_IMCB_NTU_Main/Processed_Data/Predicted_CD3P_Regions/Serial_Slide/15Oct/Test/gt/000209.png',\n",
       " '/home/saab/Desktop/SGH_IMCB_NTU_Main/Processed_Data/Predicted_CD3P_Regions/Serial_Slide/15Oct/Test/gt/000210.png',\n",
       " '/home/saab/Desktop/SGH_IMCB_NTU_Main/Processed_Data/Predicted_CD3P_Regions/Serial_Slide/15Oct/Test/gt/000211.png',\n",
       " '/home/saab/Desktop/SGH_IMCB_NTU_Main/Processed_Data/Predicted_CD3P_Regions/Serial_Slide/15Oct/Test/gt/000212.png',\n",
       " '/home/saab/Desktop/SGH_IMCB_NTU_Main/Processed_Data/Predicted_CD3P_Regions/Serial_Slide/15Oct/Test/gt/000213.png',\n",
       " '/home/saab/Desktop/SGH_IMCB_NTU_Main/Processed_Data/Predicted_CD3P_Regions/Serial_Slide/15Oct/Test/gt/000214.png',\n",
       " '/home/saab/Desktop/SGH_IMCB_NTU_Main/Processed_Data/Predicted_CD3P_Regions/Serial_Slide/15Oct/Test/gt/000215.png',\n",
       " '/home/saab/Desktop/SGH_IMCB_NTU_Main/Processed_Data/Predicted_CD3P_Regions/Serial_Slide/15Oct/Test/gt/000216.png',\n",
       " '/home/saab/Desktop/SGH_IMCB_NTU_Main/Processed_Data/Predicted_CD3P_Regions/Serial_Slide/15Oct/Test/gt/000217.png',\n",
       " '/home/saab/Desktop/SGH_IMCB_NTU_Main/Processed_Data/Predicted_CD3P_Regions/Serial_Slide/15Oct/Test/gt/000218.png',\n",
       " '/home/saab/Desktop/SGH_IMCB_NTU_Main/Processed_Data/Predicted_CD3P_Regions/Serial_Slide/15Oct/Test/gt/000219.png',\n",
       " '/home/saab/Desktop/SGH_IMCB_NTU_Main/Processed_Data/Predicted_CD3P_Regions/Serial_Slide/15Oct/Test/gt/000220.png',\n",
       " '/home/saab/Desktop/SGH_IMCB_NTU_Main/Processed_Data/Predicted_CD3P_Regions/Serial_Slide/15Oct/Test/gt/000221.png',\n",
       " '/home/saab/Desktop/SGH_IMCB_NTU_Main/Processed_Data/Predicted_CD3P_Regions/Serial_Slide/15Oct/Test/gt/000222.png',\n",
       " '/home/saab/Desktop/SGH_IMCB_NTU_Main/Processed_Data/Predicted_CD3P_Regions/Serial_Slide/15Oct/Test/gt/000223.png',\n",
       " '/home/saab/Desktop/SGH_IMCB_NTU_Main/Processed_Data/Predicted_CD3P_Regions/Serial_Slide/15Oct/Test/gt/000224.png',\n",
       " '/home/saab/Desktop/SGH_IMCB_NTU_Main/Processed_Data/Predicted_CD3P_Regions/Serial_Slide/15Oct/Test/gt/000225.png',\n",
       " '/home/saab/Desktop/SGH_IMCB_NTU_Main/Processed_Data/Predicted_CD3P_Regions/Serial_Slide/15Oct/Test/gt/000226.png',\n",
       " '/home/saab/Desktop/SGH_IMCB_NTU_Main/Processed_Data/Predicted_CD3P_Regions/Serial_Slide/15Oct/Test/gt/000227.png',\n",
       " '/home/saab/Desktop/SGH_IMCB_NTU_Main/Processed_Data/Predicted_CD3P_Regions/Serial_Slide/15Oct/Test/gt/000228.png',\n",
       " '/home/saab/Desktop/SGH_IMCB_NTU_Main/Processed_Data/Predicted_CD3P_Regions/Serial_Slide/15Oct/Test/gt/000229.png',\n",
       " '/home/saab/Desktop/SGH_IMCB_NTU_Main/Processed_Data/Predicted_CD3P_Regions/Serial_Slide/15Oct/Test/gt/000230.png',\n",
       " '/home/saab/Desktop/SGH_IMCB_NTU_Main/Processed_Data/Predicted_CD3P_Regions/Serial_Slide/15Oct/Test/gt/000231.png',\n",
       " '/home/saab/Desktop/SGH_IMCB_NTU_Main/Processed_Data/Predicted_CD3P_Regions/Serial_Slide/15Oct/Test/gt/000232.png',\n",
       " '/home/saab/Desktop/SGH_IMCB_NTU_Main/Processed_Data/Predicted_CD3P_Regions/Serial_Slide/15Oct/Test/gt/000233.png',\n",
       " '/home/saab/Desktop/SGH_IMCB_NTU_Main/Processed_Data/Predicted_CD3P_Regions/Serial_Slide/15Oct/Test/gt/000234.png',\n",
       " '/home/saab/Desktop/SGH_IMCB_NTU_Main/Processed_Data/Predicted_CD3P_Regions/Serial_Slide/15Oct/Test/gt/000235.png',\n",
       " '/home/saab/Desktop/SGH_IMCB_NTU_Main/Processed_Data/Predicted_CD3P_Regions/Serial_Slide/15Oct/Test/gt/000236.png',\n",
       " '/home/saab/Desktop/SGH_IMCB_NTU_Main/Processed_Data/Predicted_CD3P_Regions/Serial_Slide/15Oct/Test/gt/000237.png',\n",
       " '/home/saab/Desktop/SGH_IMCB_NTU_Main/Processed_Data/Predicted_CD3P_Regions/Serial_Slide/15Oct/Test/gt/000238.png',\n",
       " '/home/saab/Desktop/SGH_IMCB_NTU_Main/Processed_Data/Predicted_CD3P_Regions/Serial_Slide/15Oct/Test/gt/000239.png',\n",
       " '/home/saab/Desktop/SGH_IMCB_NTU_Main/Processed_Data/Predicted_CD3P_Regions/Serial_Slide/15Oct/Test/gt/000240.png',\n",
       " '/home/saab/Desktop/SGH_IMCB_NTU_Main/Processed_Data/Predicted_CD3P_Regions/Serial_Slide/15Oct/Test/gt/000241.png',\n",
       " '/home/saab/Desktop/SGH_IMCB_NTU_Main/Processed_Data/Predicted_CD3P_Regions/Serial_Slide/15Oct/Test/gt/000242.png',\n",
       " '/home/saab/Desktop/SGH_IMCB_NTU_Main/Processed_Data/Predicted_CD3P_Regions/Serial_Slide/15Oct/Test/gt/000243.png',\n",
       " '/home/saab/Desktop/SGH_IMCB_NTU_Main/Processed_Data/Predicted_CD3P_Regions/Serial_Slide/15Oct/Test/gt/000244.png',\n",
       " '/home/saab/Desktop/SGH_IMCB_NTU_Main/Processed_Data/Predicted_CD3P_Regions/Serial_Slide/15Oct/Test/gt/000245.png',\n",
       " '/home/saab/Desktop/SGH_IMCB_NTU_Main/Processed_Data/Predicted_CD3P_Regions/Serial_Slide/15Oct/Test/gt/000246.png',\n",
       " '/home/saab/Desktop/SGH_IMCB_NTU_Main/Processed_Data/Predicted_CD3P_Regions/Serial_Slide/15Oct/Test/gt/000247.png',\n",
       " '/home/saab/Desktop/SGH_IMCB_NTU_Main/Processed_Data/Predicted_CD3P_Regions/Serial_Slide/15Oct/Test/gt/000248.png',\n",
       " '/home/saab/Desktop/SGH_IMCB_NTU_Main/Processed_Data/Predicted_CD3P_Regions/Serial_Slide/15Oct/Test/gt/000249.png',\n",
       " '/home/saab/Desktop/SGH_IMCB_NTU_Main/Processed_Data/Predicted_CD3P_Regions/Serial_Slide/15Oct/Test/gt/000250.png',\n",
       " '/home/saab/Desktop/SGH_IMCB_NTU_Main/Processed_Data/Predicted_CD3P_Regions/Serial_Slide/15Oct/Test/gt/000251.png',\n",
       " '/home/saab/Desktop/SGH_IMCB_NTU_Main/Processed_Data/Predicted_CD3P_Regions/Serial_Slide/15Oct/Test/gt/000252.png',\n",
       " '/home/saab/Desktop/SGH_IMCB_NTU_Main/Processed_Data/Predicted_CD3P_Regions/Serial_Slide/15Oct/Test/gt/000253.png',\n",
       " '/home/saab/Desktop/SGH_IMCB_NTU_Main/Processed_Data/Predicted_CD3P_Regions/Serial_Slide/15Oct/Test/gt/000254.png',\n",
       " '/home/saab/Desktop/SGH_IMCB_NTU_Main/Processed_Data/Predicted_CD3P_Regions/Serial_Slide/15Oct/Test/gt/000255.png',\n",
       " '/home/saab/Desktop/SGH_IMCB_NTU_Main/Processed_Data/Predicted_CD3P_Regions/Serial_Slide/15Oct/Test/gt/000256.png',\n",
       " '/home/saab/Desktop/SGH_IMCB_NTU_Main/Processed_Data/Predicted_CD3P_Regions/Serial_Slide/15Oct/Test/gt/000257.png',\n",
       " '/home/saab/Desktop/SGH_IMCB_NTU_Main/Processed_Data/Predicted_CD3P_Regions/Serial_Slide/15Oct/Test/gt/000258.png',\n",
       " '/home/saab/Desktop/SGH_IMCB_NTU_Main/Processed_Data/Predicted_CD3P_Regions/Serial_Slide/15Oct/Test/gt/000259.png',\n",
       " '/home/saab/Desktop/SGH_IMCB_NTU_Main/Processed_Data/Predicted_CD3P_Regions/Serial_Slide/15Oct/Test/gt/000260.png',\n",
       " '/home/saab/Desktop/SGH_IMCB_NTU_Main/Processed_Data/Predicted_CD3P_Regions/Serial_Slide/15Oct/Test/gt/000261.png',\n",
       " '/home/saab/Desktop/SGH_IMCB_NTU_Main/Processed_Data/Predicted_CD3P_Regions/Serial_Slide/15Oct/Test/gt/000262.png',\n",
       " '/home/saab/Desktop/SGH_IMCB_NTU_Main/Processed_Data/Predicted_CD3P_Regions/Serial_Slide/15Oct/Test/gt/000263.png',\n",
       " '/home/saab/Desktop/SGH_IMCB_NTU_Main/Processed_Data/Predicted_CD3P_Regions/Serial_Slide/15Oct/Test/gt/000264.png',\n",
       " '/home/saab/Desktop/SGH_IMCB_NTU_Main/Processed_Data/Predicted_CD3P_Regions/Serial_Slide/15Oct/Test/gt/000265.png',\n",
       " '/home/saab/Desktop/SGH_IMCB_NTU_Main/Processed_Data/Predicted_CD3P_Regions/Serial_Slide/15Oct/Test/gt/000266.png',\n",
       " '/home/saab/Desktop/SGH_IMCB_NTU_Main/Processed_Data/Predicted_CD3P_Regions/Serial_Slide/15Oct/Test/gt/000267.png',\n",
       " '/home/saab/Desktop/SGH_IMCB_NTU_Main/Processed_Data/Predicted_CD3P_Regions/Serial_Slide/15Oct/Test/gt/000268.png',\n",
       " '/home/saab/Desktop/SGH_IMCB_NTU_Main/Processed_Data/Predicted_CD3P_Regions/Serial_Slide/15Oct/Test/gt/000269.png',\n",
       " '/home/saab/Desktop/SGH_IMCB_NTU_Main/Processed_Data/Predicted_CD3P_Regions/Serial_Slide/15Oct/Test/gt/000270.png',\n",
       " '/home/saab/Desktop/SGH_IMCB_NTU_Main/Processed_Data/Predicted_CD3P_Regions/Serial_Slide/15Oct/Test/gt/000271.png',\n",
       " '/home/saab/Desktop/SGH_IMCB_NTU_Main/Processed_Data/Predicted_CD3P_Regions/Serial_Slide/15Oct/Test/gt/000272.png',\n",
       " '/home/saab/Desktop/SGH_IMCB_NTU_Main/Processed_Data/Predicted_CD3P_Regions/Serial_Slide/15Oct/Test/gt/000273.png',\n",
       " '/home/saab/Desktop/SGH_IMCB_NTU_Main/Processed_Data/Predicted_CD3P_Regions/Serial_Slide/15Oct/Test/gt/000274.png',\n",
       " '/home/saab/Desktop/SGH_IMCB_NTU_Main/Processed_Data/Predicted_CD3P_Regions/Serial_Slide/15Oct/Test/gt/000275.png',\n",
       " '/home/saab/Desktop/SGH_IMCB_NTU_Main/Processed_Data/Predicted_CD3P_Regions/Serial_Slide/15Oct/Test/gt/000276.png',\n",
       " '/home/saab/Desktop/SGH_IMCB_NTU_Main/Processed_Data/Predicted_CD3P_Regions/Serial_Slide/15Oct/Test/gt/000277.png',\n",
       " '/home/saab/Desktop/SGH_IMCB_NTU_Main/Processed_Data/Predicted_CD3P_Regions/Serial_Slide/15Oct/Test/gt/000278.png',\n",
       " '/home/saab/Desktop/SGH_IMCB_NTU_Main/Processed_Data/Predicted_CD3P_Regions/Serial_Slide/15Oct/Test/gt/000279.png',\n",
       " '/home/saab/Desktop/SGH_IMCB_NTU_Main/Processed_Data/Predicted_CD3P_Regions/Serial_Slide/15Oct/Test/gt/000280.png',\n",
       " '/home/saab/Desktop/SGH_IMCB_NTU_Main/Processed_Data/Predicted_CD3P_Regions/Serial_Slide/15Oct/Test/gt/000281.png',\n",
       " '/home/saab/Desktop/SGH_IMCB_NTU_Main/Processed_Data/Predicted_CD3P_Regions/Serial_Slide/15Oct/Test/gt/000282.png',\n",
       " '/home/saab/Desktop/SGH_IMCB_NTU_Main/Processed_Data/Predicted_CD3P_Regions/Serial_Slide/15Oct/Test/gt/000283.png',\n",
       " '/home/saab/Desktop/SGH_IMCB_NTU_Main/Processed_Data/Predicted_CD3P_Regions/Serial_Slide/15Oct/Test/gt/000284.png',\n",
       " '/home/saab/Desktop/SGH_IMCB_NTU_Main/Processed_Data/Predicted_CD3P_Regions/Serial_Slide/15Oct/Test/gt/000285.png',\n",
       " '/home/saab/Desktop/SGH_IMCB_NTU_Main/Processed_Data/Predicted_CD3P_Regions/Serial_Slide/15Oct/Test/gt/000286.png',\n",
       " '/home/saab/Desktop/SGH_IMCB_NTU_Main/Processed_Data/Predicted_CD3P_Regions/Serial_Slide/15Oct/Test/gt/000287.png',\n",
       " '/home/saab/Desktop/SGH_IMCB_NTU_Main/Processed_Data/Predicted_CD3P_Regions/Serial_Slide/15Oct/Test/gt/000288.png',\n",
       " '/home/saab/Desktop/SGH_IMCB_NTU_Main/Processed_Data/Predicted_CD3P_Regions/Serial_Slide/15Oct/Test/gt/000289.png',\n",
       " '/home/saab/Desktop/SGH_IMCB_NTU_Main/Processed_Data/Predicted_CD3P_Regions/Serial_Slide/15Oct/Test/gt/000290.png',\n",
       " '/home/saab/Desktop/SGH_IMCB_NTU_Main/Processed_Data/Predicted_CD3P_Regions/Serial_Slide/15Oct/Test/gt/000291.png',\n",
       " '/home/saab/Desktop/SGH_IMCB_NTU_Main/Processed_Data/Predicted_CD3P_Regions/Serial_Slide/15Oct/Test/gt/000292.png',\n",
       " '/home/saab/Desktop/SGH_IMCB_NTU_Main/Processed_Data/Predicted_CD3P_Regions/Serial_Slide/15Oct/Test/gt/000293.png',\n",
       " '/home/saab/Desktop/SGH_IMCB_NTU_Main/Processed_Data/Predicted_CD3P_Regions/Serial_Slide/15Oct/Test/gt/000294.png',\n",
       " '/home/saab/Desktop/SGH_IMCB_NTU_Main/Processed_Data/Predicted_CD3P_Regions/Serial_Slide/15Oct/Test/gt/000295.png',\n",
       " '/home/saab/Desktop/SGH_IMCB_NTU_Main/Processed_Data/Predicted_CD3P_Regions/Serial_Slide/15Oct/Test/gt/000296.png',\n",
       " '/home/saab/Desktop/SGH_IMCB_NTU_Main/Processed_Data/Predicted_CD3P_Regions/Serial_Slide/15Oct/Test/gt/000297.png',\n",
       " '/home/saab/Desktop/SGH_IMCB_NTU_Main/Processed_Data/Predicted_CD3P_Regions/Serial_Slide/15Oct/Test/gt/000298.png',\n",
       " '/home/saab/Desktop/SGH_IMCB_NTU_Main/Processed_Data/Predicted_CD3P_Regions/Serial_Slide/15Oct/Test/gt/000299.png',\n",
       " '/home/saab/Desktop/SGH_IMCB_NTU_Main/Processed_Data/Predicted_CD3P_Regions/Serial_Slide/15Oct/Test/gt/000300.png',\n",
       " '/home/saab/Desktop/SGH_IMCB_NTU_Main/Processed_Data/Predicted_CD3P_Regions/Serial_Slide/15Oct/Test/gt/000301.png',\n",
       " '/home/saab/Desktop/SGH_IMCB_NTU_Main/Processed_Data/Predicted_CD3P_Regions/Serial_Slide/15Oct/Test/gt/000302.png',\n",
       " '/home/saab/Desktop/SGH_IMCB_NTU_Main/Processed_Data/Predicted_CD3P_Regions/Serial_Slide/15Oct/Test/gt/000303.png',\n",
       " '/home/saab/Desktop/SGH_IMCB_NTU_Main/Processed_Data/Predicted_CD3P_Regions/Serial_Slide/15Oct/Test/gt/000304.png',\n",
       " '/home/saab/Desktop/SGH_IMCB_NTU_Main/Processed_Data/Predicted_CD3P_Regions/Serial_Slide/15Oct/Test/gt/000305.png',\n",
       " '/home/saab/Desktop/SGH_IMCB_NTU_Main/Processed_Data/Predicted_CD3P_Regions/Serial_Slide/15Oct/Test/gt/000306.png',\n",
       " '/home/saab/Desktop/SGH_IMCB_NTU_Main/Processed_Data/Predicted_CD3P_Regions/Serial_Slide/15Oct/Test/gt/000307.png',\n",
       " '/home/saab/Desktop/SGH_IMCB_NTU_Main/Processed_Data/Predicted_CD3P_Regions/Serial_Slide/15Oct/Test/gt/000308.png',\n",
       " '/home/saab/Desktop/SGH_IMCB_NTU_Main/Processed_Data/Predicted_CD3P_Regions/Serial_Slide/15Oct/Test/gt/000309.png',\n",
       " '/home/saab/Desktop/SGH_IMCB_NTU_Main/Processed_Data/Predicted_CD3P_Regions/Serial_Slide/15Oct/Test/gt/000310.png',\n",
       " '/home/saab/Desktop/SGH_IMCB_NTU_Main/Processed_Data/Predicted_CD3P_Regions/Serial_Slide/15Oct/Test/gt/000311.png',\n",
       " '/home/saab/Desktop/SGH_IMCB_NTU_Main/Processed_Data/Predicted_CD3P_Regions/Serial_Slide/15Oct/Test/gt/000312.png',\n",
       " '/home/saab/Desktop/SGH_IMCB_NTU_Main/Processed_Data/Predicted_CD3P_Regions/Serial_Slide/15Oct/Test/gt/000313.png',\n",
       " '/home/saab/Desktop/SGH_IMCB_NTU_Main/Processed_Data/Predicted_CD3P_Regions/Serial_Slide/15Oct/Test/gt/000314.png',\n",
       " '/home/saab/Desktop/SGH_IMCB_NTU_Main/Processed_Data/Predicted_CD3P_Regions/Serial_Slide/15Oct/Test/gt/000315.png',\n",
       " '/home/saab/Desktop/SGH_IMCB_NTU_Main/Processed_Data/Predicted_CD3P_Regions/Serial_Slide/15Oct/Test/gt/000316.png',\n",
       " '/home/saab/Desktop/SGH_IMCB_NTU_Main/Processed_Data/Predicted_CD3P_Regions/Serial_Slide/15Oct/Test/gt/000317.png',\n",
       " '/home/saab/Desktop/SGH_IMCB_NTU_Main/Processed_Data/Predicted_CD3P_Regions/Serial_Slide/15Oct/Test/gt/000318.png',\n",
       " '/home/saab/Desktop/SGH_IMCB_NTU_Main/Processed_Data/Predicted_CD3P_Regions/Serial_Slide/15Oct/Test/gt/000319.png',\n",
       " '/home/saab/Desktop/SGH_IMCB_NTU_Main/Processed_Data/Predicted_CD3P_Regions/Serial_Slide/15Oct/Test/gt/000320.png',\n",
       " '/home/saab/Desktop/SGH_IMCB_NTU_Main/Processed_Data/Predicted_CD3P_Regions/Serial_Slide/15Oct/Test/gt/000321.png',\n",
       " '/home/saab/Desktop/SGH_IMCB_NTU_Main/Processed_Data/Predicted_CD3P_Regions/Serial_Slide/15Oct/Test/gt/000322.png',\n",
       " '/home/saab/Desktop/SGH_IMCB_NTU_Main/Processed_Data/Predicted_CD3P_Regions/Serial_Slide/15Oct/Test/gt/000323.png',\n",
       " '/home/saab/Desktop/SGH_IMCB_NTU_Main/Processed_Data/Predicted_CD3P_Regions/Serial_Slide/15Oct/Test/gt/000324.png',\n",
       " '/home/saab/Desktop/SGH_IMCB_NTU_Main/Processed_Data/Predicted_CD3P_Regions/Serial_Slide/15Oct/Test/gt/000325.png',\n",
       " '/home/saab/Desktop/SGH_IMCB_NTU_Main/Processed_Data/Predicted_CD3P_Regions/Serial_Slide/15Oct/Test/gt/000326.png',\n",
       " '/home/saab/Desktop/SGH_IMCB_NTU_Main/Processed_Data/Predicted_CD3P_Regions/Serial_Slide/15Oct/Test/gt/000327.png',\n",
       " '/home/saab/Desktop/SGH_IMCB_NTU_Main/Processed_Data/Predicted_CD3P_Regions/Serial_Slide/15Oct/Test/gt/000328.png',\n",
       " '/home/saab/Desktop/SGH_IMCB_NTU_Main/Processed_Data/Predicted_CD3P_Regions/Serial_Slide/15Oct/Test/gt/000329.png',\n",
       " '/home/saab/Desktop/SGH_IMCB_NTU_Main/Processed_Data/Predicted_CD3P_Regions/Serial_Slide/15Oct/Test/gt/000330.png',\n",
       " '/home/saab/Desktop/SGH_IMCB_NTU_Main/Processed_Data/Predicted_CD3P_Regions/Serial_Slide/15Oct/Test/gt/000331.png',\n",
       " '/home/saab/Desktop/SGH_IMCB_NTU_Main/Processed_Data/Predicted_CD3P_Regions/Serial_Slide/15Oct/Test/gt/000332.png',\n",
       " '/home/saab/Desktop/SGH_IMCB_NTU_Main/Processed_Data/Predicted_CD3P_Regions/Serial_Slide/15Oct/Test/gt/000333.png',\n",
       " '/home/saab/Desktop/SGH_IMCB_NTU_Main/Processed_Data/Predicted_CD3P_Regions/Serial_Slide/15Oct/Test/gt/000334.png',\n",
       " '/home/saab/Desktop/SGH_IMCB_NTU_Main/Processed_Data/Predicted_CD3P_Regions/Serial_Slide/15Oct/Test/gt/000335.png',\n",
       " '/home/saab/Desktop/SGH_IMCB_NTU_Main/Processed_Data/Predicted_CD3P_Regions/Serial_Slide/15Oct/Test/gt/000336.png',\n",
       " '/home/saab/Desktop/SGH_IMCB_NTU_Main/Processed_Data/Predicted_CD3P_Regions/Serial_Slide/15Oct/Test/gt/000337.png',\n",
       " '/home/saab/Desktop/SGH_IMCB_NTU_Main/Processed_Data/Predicted_CD3P_Regions/Serial_Slide/15Oct/Test/gt/000338.png',\n",
       " '/home/saab/Desktop/SGH_IMCB_NTU_Main/Processed_Data/Predicted_CD3P_Regions/Serial_Slide/15Oct/Test/gt/000339.png',\n",
       " '/home/saab/Desktop/SGH_IMCB_NTU_Main/Processed_Data/Predicted_CD3P_Regions/Serial_Slide/15Oct/Test/gt/000340.png',\n",
       " '/home/saab/Desktop/SGH_IMCB_NTU_Main/Processed_Data/Predicted_CD3P_Regions/Serial_Slide/15Oct/Test/gt/000341.png',\n",
       " '/home/saab/Desktop/SGH_IMCB_NTU_Main/Processed_Data/Predicted_CD3P_Regions/Serial_Slide/15Oct/Test/gt/000342.png',\n",
       " '/home/saab/Desktop/SGH_IMCB_NTU_Main/Processed_Data/Predicted_CD3P_Regions/Serial_Slide/15Oct/Test/gt/000343.png',\n",
       " '/home/saab/Desktop/SGH_IMCB_NTU_Main/Processed_Data/Predicted_CD3P_Regions/Serial_Slide/15Oct/Test/gt/000344.png',\n",
       " '/home/saab/Desktop/SGH_IMCB_NTU_Main/Processed_Data/Predicted_CD3P_Regions/Serial_Slide/15Oct/Test/gt/000345.png',\n",
       " '/home/saab/Desktop/SGH_IMCB_NTU_Main/Processed_Data/Predicted_CD3P_Regions/Serial_Slide/15Oct/Test/gt/000346.png',\n",
       " '/home/saab/Desktop/SGH_IMCB_NTU_Main/Processed_Data/Predicted_CD3P_Regions/Serial_Slide/15Oct/Test/gt/000347.png',\n",
       " '/home/saab/Desktop/SGH_IMCB_NTU_Main/Processed_Data/Predicted_CD3P_Regions/Serial_Slide/15Oct/Test/gt/000348.png',\n",
       " '/home/saab/Desktop/SGH_IMCB_NTU_Main/Processed_Data/Predicted_CD3P_Regions/Serial_Slide/15Oct/Test/gt/000349.png',\n",
       " '/home/saab/Desktop/SGH_IMCB_NTU_Main/Processed_Data/Predicted_CD3P_Regions/Serial_Slide/15Oct/Test/gt/000350.png',\n",
       " '/home/saab/Desktop/SGH_IMCB_NTU_Main/Processed_Data/Predicted_CD3P_Regions/Serial_Slide/15Oct/Test/gt/000351.png',\n",
       " '/home/saab/Desktop/SGH_IMCB_NTU_Main/Processed_Data/Predicted_CD3P_Regions/Serial_Slide/15Oct/Test/gt/000352.png',\n",
       " '/home/saab/Desktop/SGH_IMCB_NTU_Main/Processed_Data/Predicted_CD3P_Regions/Serial_Slide/15Oct/Test/gt/000353.png',\n",
       " '/home/saab/Desktop/SGH_IMCB_NTU_Main/Processed_Data/Predicted_CD3P_Regions/Serial_Slide/15Oct/Test/gt/000354.png',\n",
       " '/home/saab/Desktop/SGH_IMCB_NTU_Main/Processed_Data/Predicted_CD3P_Regions/Serial_Slide/15Oct/Test/gt/000355.png',\n",
       " '/home/saab/Desktop/SGH_IMCB_NTU_Main/Processed_Data/Predicted_CD3P_Regions/Serial_Slide/15Oct/Test/gt/000356.png',\n",
       " '/home/saab/Desktop/SGH_IMCB_NTU_Main/Processed_Data/Predicted_CD3P_Regions/Serial_Slide/15Oct/Test/gt/000357.png',\n",
       " '/home/saab/Desktop/SGH_IMCB_NTU_Main/Processed_Data/Predicted_CD3P_Regions/Serial_Slide/15Oct/Test/gt/000358.png',\n",
       " '/home/saab/Desktop/SGH_IMCB_NTU_Main/Processed_Data/Predicted_CD3P_Regions/Serial_Slide/15Oct/Test/gt/000359.png',\n",
       " '/home/saab/Desktop/SGH_IMCB_NTU_Main/Processed_Data/Predicted_CD3P_Regions/Serial_Slide/15Oct/Test/gt/000360.png',\n",
       " '/home/saab/Desktop/SGH_IMCB_NTU_Main/Processed_Data/Predicted_CD3P_Regions/Serial_Slide/15Oct/Test/gt/000361.png',\n",
       " '/home/saab/Desktop/SGH_IMCB_NTU_Main/Processed_Data/Predicted_CD3P_Regions/Serial_Slide/15Oct/Test/gt/000362.png',\n",
       " '/home/saab/Desktop/SGH_IMCB_NTU_Main/Processed_Data/Predicted_CD3P_Regions/Serial_Slide/15Oct/Test/gt/000363.png',\n",
       " '/home/saab/Desktop/SGH_IMCB_NTU_Main/Processed_Data/Predicted_CD3P_Regions/Serial_Slide/15Oct/Test/gt/000364.png',\n",
       " '/home/saab/Desktop/SGH_IMCB_NTU_Main/Processed_Data/Predicted_CD3P_Regions/Serial_Slide/15Oct/Test/gt/000365.png',\n",
       " '/home/saab/Desktop/SGH_IMCB_NTU_Main/Processed_Data/Predicted_CD3P_Regions/Serial_Slide/15Oct/Test/gt/000366.png',\n",
       " '/home/saab/Desktop/SGH_IMCB_NTU_Main/Processed_Data/Predicted_CD3P_Regions/Serial_Slide/15Oct/Test/gt/000367.png',\n",
       " '/home/saab/Desktop/SGH_IMCB_NTU_Main/Processed_Data/Predicted_CD3P_Regions/Serial_Slide/15Oct/Test/gt/000368.png',\n",
       " '/home/saab/Desktop/SGH_IMCB_NTU_Main/Processed_Data/Predicted_CD3P_Regions/Serial_Slide/15Oct/Test/gt/000369.png',\n",
       " '/home/saab/Desktop/SGH_IMCB_NTU_Main/Processed_Data/Predicted_CD3P_Regions/Serial_Slide/15Oct/Test/gt/000370.png',\n",
       " '/home/saab/Desktop/SGH_IMCB_NTU_Main/Processed_Data/Predicted_CD3P_Regions/Serial_Slide/15Oct/Test/gt/000371.png',\n",
       " '/home/saab/Desktop/SGH_IMCB_NTU_Main/Processed_Data/Predicted_CD3P_Regions/Serial_Slide/15Oct/Test/gt/000372.png',\n",
       " '/home/saab/Desktop/SGH_IMCB_NTU_Main/Processed_Data/Predicted_CD3P_Regions/Serial_Slide/15Oct/Test/gt/000373.png',\n",
       " '/home/saab/Desktop/SGH_IMCB_NTU_Main/Processed_Data/Predicted_CD3P_Regions/Serial_Slide/15Oct/Test/gt/000374.png',\n",
       " '/home/saab/Desktop/SGH_IMCB_NTU_Main/Processed_Data/Predicted_CD3P_Regions/Serial_Slide/15Oct/Test/gt/000375.png',\n",
       " '/home/saab/Desktop/SGH_IMCB_NTU_Main/Processed_Data/Predicted_CD3P_Regions/Serial_Slide/15Oct/Test/gt/000376.png',\n",
       " '/home/saab/Desktop/SGH_IMCB_NTU_Main/Processed_Data/Predicted_CD3P_Regions/Serial_Slide/15Oct/Test/gt/000377.png',\n",
       " '/home/saab/Desktop/SGH_IMCB_NTU_Main/Processed_Data/Predicted_CD3P_Regions/Serial_Slide/15Oct/Test/gt/000378.png',\n",
       " '/home/saab/Desktop/SGH_IMCB_NTU_Main/Processed_Data/Predicted_CD3P_Regions/Serial_Slide/15Oct/Test/gt/000379.png',\n",
       " '/home/saab/Desktop/SGH_IMCB_NTU_Main/Processed_Data/Predicted_CD3P_Regions/Serial_Slide/15Oct/Test/gt/000380.png',\n",
       " '/home/saab/Desktop/SGH_IMCB_NTU_Main/Processed_Data/Predicted_CD3P_Regions/Serial_Slide/15Oct/Test/gt/000381.png',\n",
       " '/home/saab/Desktop/SGH_IMCB_NTU_Main/Processed_Data/Predicted_CD3P_Regions/Serial_Slide/15Oct/Test/gt/000382.png',\n",
       " '/home/saab/Desktop/SGH_IMCB_NTU_Main/Processed_Data/Predicted_CD3P_Regions/Serial_Slide/15Oct/Test/gt/000383.png']"
      ]
     },
     "execution_count": 84,
     "metadata": {},
     "output_type": "execute_result"
    }
   ],
   "source": [
    "img_list"
   ]
  },
  {
   "cell_type": "code",
   "execution_count": 85,
   "id": "1415a61f",
   "metadata": {},
   "outputs": [],
   "source": [
    "path2=filedialog.askdirectory()\n",
    "#########FOR INTENSITY VARIATIONS####################\n",
    "os.makedirs(path2+\"/intensity_img/\",exist_ok=True)\n",
    "#########BINARY ONLY####################\n",
    "os.makedirs(path2+\"/images/\",exist_ok=True)\n"
   ]
  },
  {
   "cell_type": "code",
   "execution_count": 39,
   "id": "4de873e3",
   "metadata": {},
   "outputs": [],
   "source": [
    "zero=np.zeros([256,256],np.uint8)\n",
    "x=0\n",
    "lst=[]\n",
    "l2=[]\n",
    "l3=[]\n",
    "for y in img_list:\n",
    "\n",
    "    l3.append(y.split(\"/\")[-1])\n",
    "    \n",
    "    img=cv2.imread(y)\n",
    "    b,g,r=cv2.split(img)\n",
    "    ret,thresh1 = cv2.threshold(r,2,255,cv2.THRESH_BINARY)\n",
    "    \n",
    "    #thresh1=cv2.adaptiveThreshold(r,255,cv2.ADAPTIVE_THRESH_GAUSSIAN_C,\\\n",
    "     #       cv2.THRESH_BINARY_INV,11,2)\n",
    "    #########FOR INTENSITY VARIATIONS####################\n",
    "    plt.imsave(path2+\"/intensity_img/\"+f\"{x:06d}\"+\".png\",r*thresh1,cmap=\"gray\")\n",
    "    #lst.append(sum((thresh1*g/(255*255)).reshape(-1)))\n",
    "    #########BINARY ONLY####################\n",
    "    plt.imsave(path2+\"/images/\"+f\"{x:06d}\"+\".png\",thresh1,cmap=\"gray\")\n",
    "    #lst.append(sum((thresh1).reshape(-1)/255))\n",
    "    ###################################################\n",
    "    x=x+1\n",
    "\n",
    "            "
   ]
  },
  {
   "cell_type": "code",
   "execution_count": 149,
   "id": "83067d23",
   "metadata": {},
   "outputs": [
    {
     "data": {
      "text/plain": [
       "384"
      ]
     },
     "execution_count": 149,
     "metadata": {},
     "output_type": "execute_result"
    }
   ],
   "source": [
    "x"
   ]
  },
  {
   "cell_type": "code",
   "execution_count": 11,
   "id": "68895084",
   "metadata": {},
   "outputs": [],
   "source": [
    "df=pd.DataFrame(zip(l3,lst),columns=[\"Image_no\",\"Area\"])"
   ]
  },
  {
   "cell_type": "code",
   "execution_count": 12,
   "id": "90b2ebbc",
   "metadata": {},
   "outputs": [],
   "source": [
    "df.to_csv(path2+\"/areas.csv\",index=False)"
   ]
  },
  {
   "cell_type": "code",
   "execution_count": 86,
   "id": "bf02cc6e",
   "metadata": {},
   "outputs": [],
   "source": [
    "#########BLUE_NUCLEI####################\n",
    "os.makedirs(path2+\"/bn_nuclei_gt/\",exist_ok=True)\n",
    "os.makedirs(path2+\"/bn_nuclei_gt_n/\",exist_ok=True)"
   ]
  },
  {
   "cell_type": "code",
   "execution_count": 87,
   "id": "de808dc6",
   "metadata": {},
   "outputs": [],
   "source": [
    "path3 = filedialog.askdirectory() #For blue nuclei images\n",
    "path4 = filedialog.askdirectory() # For paths file\n",
    "\n",
    "\n",
    "#bn_images=sorted(glob(path3+\"/*\"))\n",
    "file_paths=pd.read_csv(path4+\"/file_paths_test.csv\")"
   ]
  },
  {
   "cell_type": "code",
   "execution_count": 88,
   "id": "31538ef7",
   "metadata": {},
   "outputs": [
    {
     "name": "stdout",
     "output_type": "stream",
     "text": [
      "0\n",
      "1\n",
      "2\n",
      "3\n",
      "4\n",
      "5\n",
      "6\n",
      "7\n",
      "8\n",
      "9\n",
      "10\n",
      "11\n",
      "12\n",
      "13\n",
      "14\n",
      "15\n",
      "16\n",
      "17\n",
      "18\n",
      "19\n",
      "20\n",
      "21\n",
      "22\n",
      "23\n",
      "24\n",
      "25\n",
      "26\n",
      "27\n",
      "28\n",
      "29\n",
      "30\n",
      "31\n",
      "32\n",
      "33\n",
      "34\n",
      "35\n",
      "36\n",
      "37\n",
      "38\n",
      "39\n",
      "40\n",
      "41\n",
      "42\n",
      "43\n",
      "44\n",
      "45\n",
      "46\n",
      "47\n",
      "48\n",
      "49\n",
      "50\n",
      "51\n",
      "52\n",
      "53\n",
      "54\n",
      "55\n",
      "56\n",
      "57\n",
      "58\n",
      "59\n",
      "60\n",
      "61\n",
      "62\n",
      "63\n",
      "64\n",
      "65\n",
      "66\n",
      "67\n",
      "68\n",
      "69\n",
      "70\n",
      "71\n",
      "72\n",
      "73\n",
      "74\n",
      "75\n",
      "76\n",
      "77\n",
      "78\n",
      "79\n",
      "80\n",
      "81\n",
      "82\n",
      "83\n",
      "84\n",
      "85\n",
      "86\n",
      "87\n",
      "88\n",
      "89\n",
      "90\n",
      "91\n",
      "92\n",
      "93\n",
      "94\n",
      "95\n",
      "96\n",
      "97\n",
      "98\n",
      "99\n",
      "100\n",
      "101\n",
      "102\n",
      "103\n",
      "104\n",
      "105\n",
      "106\n",
      "107\n",
      "108\n",
      "109\n",
      "110\n",
      "111\n",
      "112\n",
      "113\n",
      "114\n",
      "115\n",
      "116\n",
      "117\n",
      "118\n",
      "119\n",
      "120\n",
      "121\n",
      "122\n",
      "123\n",
      "124\n",
      "125\n",
      "126\n",
      "127\n",
      "128\n",
      "129\n",
      "130\n",
      "131\n",
      "132\n",
      "133\n",
      "134\n",
      "135\n",
      "136\n",
      "137\n",
      "138\n",
      "139\n",
      "140\n",
      "141\n",
      "142\n",
      "143\n",
      "144\n",
      "145\n",
      "146\n",
      "147\n",
      "148\n",
      "149\n",
      "150\n",
      "151\n",
      "152\n",
      "153\n",
      "154\n",
      "155\n",
      "156\n",
      "157\n",
      "158\n",
      "159\n",
      "160\n",
      "161\n",
      "162\n",
      "163\n",
      "164\n",
      "165\n",
      "166\n",
      "167\n",
      "168\n",
      "169\n",
      "170\n",
      "171\n",
      "172\n",
      "173\n",
      "174\n",
      "175\n",
      "176\n",
      "177\n",
      "178\n",
      "179\n",
      "180\n",
      "181\n",
      "182\n",
      "183\n",
      "184\n",
      "185\n",
      "186\n",
      "187\n",
      "188\n",
      "189\n",
      "190\n",
      "191\n",
      "192\n",
      "193\n",
      "194\n",
      "195\n",
      "196\n",
      "197\n",
      "198\n",
      "199\n",
      "200\n",
      "201\n",
      "202\n",
      "203\n",
      "204\n",
      "205\n",
      "206\n",
      "207\n",
      "208\n",
      "209\n",
      "210\n",
      "211\n",
      "212\n",
      "213\n",
      "214\n",
      "215\n",
      "216\n",
      "217\n",
      "218\n",
      "219\n",
      "220\n",
      "221\n",
      "222\n",
      "223\n",
      "224\n",
      "225\n",
      "226\n",
      "227\n",
      "228\n",
      "229\n",
      "230\n",
      "231\n",
      "232\n",
      "233\n",
      "234\n",
      "235\n",
      "236\n",
      "237\n",
      "238\n",
      "239\n",
      "240\n",
      "241\n",
      "242\n",
      "243\n",
      "244\n",
      "245\n",
      "246\n",
      "247\n",
      "248\n",
      "249\n",
      "250\n",
      "251\n",
      "252\n",
      "253\n",
      "254\n",
      "255\n",
      "256\n",
      "257\n",
      "258\n",
      "259\n",
      "260\n",
      "261\n",
      "262\n",
      "263\n",
      "264\n",
      "265\n",
      "266\n",
      "267\n",
      "268\n",
      "269\n",
      "270\n",
      "271\n",
      "272\n",
      "273\n",
      "274\n",
      "275\n",
      "276\n",
      "277\n",
      "278\n",
      "279\n",
      "280\n",
      "281\n",
      "282\n",
      "283\n",
      "284\n",
      "285\n",
      "286\n",
      "287\n",
      "288\n",
      "289\n",
      "290\n",
      "291\n",
      "292\n",
      "293\n",
      "294\n",
      "295\n",
      "296\n",
      "297\n",
      "298\n",
      "299\n",
      "300\n",
      "301\n",
      "302\n",
      "303\n",
      "304\n",
      "305\n",
      "306\n",
      "307\n",
      "308\n",
      "309\n",
      "310\n",
      "311\n",
      "312\n",
      "313\n",
      "314\n",
      "315\n",
      "316\n",
      "317\n",
      "318\n",
      "319\n",
      "320\n",
      "321\n",
      "322\n",
      "323\n",
      "324\n",
      "325\n",
      "326\n",
      "327\n",
      "328\n",
      "329\n",
      "330\n",
      "331\n",
      "332\n",
      "333\n",
      "334\n",
      "335\n",
      "336\n",
      "337\n",
      "338\n",
      "339\n",
      "340\n",
      "341\n",
      "342\n",
      "343\n",
      "344\n",
      "345\n",
      "346\n",
      "347\n",
      "348\n",
      "349\n",
      "350\n",
      "351\n",
      "352\n",
      "353\n",
      "354\n",
      "355\n",
      "356\n",
      "357\n",
      "358\n",
      "359\n",
      "360\n",
      "361\n",
      "362\n",
      "363\n",
      "364\n",
      "365\n",
      "366\n",
      "367\n",
      "368\n",
      "369\n",
      "370\n",
      "371\n",
      "372\n",
      "373\n",
      "374\n",
      "375\n",
      "376\n",
      "377\n",
      "378\n",
      "379\n",
      "380\n",
      "381\n",
      "382\n",
      "383\n"
     ]
    }
   ],
   "source": [
    "\n",
    "for y in range(len(img_list)):\n",
    "\n",
    "    #l3.append(y.split(\"/\")[-1]) \n",
    "    img=cv2.imread(img_list[y]) #Read H&E overlapped image\n",
    "    print(y)\n",
    "    b,g,r=cv2.split(img) #Get red channel\n",
    "    ret,thresh1 = cv2.threshold(r,2,255,cv2.THRESH_BINARY) #Threshold\n",
    "    bn=np.load(path3+\"/\"+file_paths.loc[y][1].split(\".\")[0]+\".npy\") #Read blue nuclei\n",
    "    #ret,thresh2 = cv2.threshold(bn,0,255,cv2.THRESH_BINARY) #Binary mask\n",
    "    result=bn*np.logical_and(bn,thresh1) #Bitwise operation\n",
    "    result2=bn-result\n",
    "    #plt.imsave(path2+\"/bn_nuclei_pred/\"+f\"{y:06d}\"+\".png\",result,cmap=\"gray\")#store\n",
    "    np.save(path2+\"/bn_nuclei_gt/\"+f\"{y:06d}\"+\".npy\",result)\n",
    "    np.save(path2+\"/bn_nuclei_gt_n/\"+f\"{y:06d}\"+\".npy\",result2)"
   ]
  },
  {
   "cell_type": "code",
   "execution_count": 12,
   "id": "06c8aef6",
   "metadata": {},
   "outputs": [
    {
     "data": {
      "text/plain": [
       "'007792.npy'"
      ]
     },
     "execution_count": 12,
     "metadata": {},
     "output_type": "execute_result"
    }
   ],
   "source": [
    "(file_paths.loc[y][1].split(\".\")[0]+\".npy\")"
   ]
  },
  {
   "cell_type": "code",
   "execution_count": 121,
   "id": "2c02f5de",
   "metadata": {},
   "outputs": [
    {
     "data": {
      "text/plain": [
       "'/home/saab/Desktop/SGH_IMCB_NTU_Main/Processed_Data/Preprocessed_Data/Serial_Slide/15thOct/bn_tiles/005507.png'"
      ]
     },
     "execution_count": 121,
     "metadata": {},
     "output_type": "execute_result"
    }
   ],
   "source": [
    "path3+\"/\"+file_paths.loc[0][1]"
   ]
  },
  {
   "cell_type": "code",
   "execution_count": 103,
   "id": "2009d6c1",
   "metadata": {},
   "outputs": [
    {
     "data": {
      "text/plain": [
       "'/home/saab/Desktop/SGH_IMCB_NTU_Main/Processed_Data/IoU/Serial Slide/Train/bn_nuclei/'"
      ]
     },
     "execution_count": 103,
     "metadata": {},
     "output_type": "execute_result"
    }
   ],
   "source": [
    "path2+\"/bn_nuclei/\""
   ]
  },
  {
   "cell_type": "code",
   "execution_count": 11,
   "id": "16a25049",
   "metadata": {},
   "outputs": [
    {
     "data": {
      "text/plain": [
       "<matplotlib.image.AxesImage at 0x7f3eeb70ed60>"
      ]
     },
     "execution_count": 11,
     "metadata": {},
     "output_type": "execute_result"
    },
    {
     "data": {
      "image/png": "[encoded data removed]",
      "text/plain": [
       "<Figure size 432x288 with 1 Axes>"
      ]
     },
     "metadata": {
      "needs_background": "light"
     },
     "output_type": "display_data"
    }
   ],
   "source": [
    "plt.imshow(result)"
   ]
  },
  {
   "cell_type": "code",
   "execution_count": 12,
   "id": "f6c34557",
   "metadata": {},
   "outputs": [
    {
     "data": {
      "text/plain": [
       "<matplotlib.image.AxesImage at 0x7f3ee96d0100>"
      ]
     },
     "execution_count": 12,
     "metadata": {},
     "output_type": "execute_result"
    },
    {
     "data": {
      "image/png": "[encoded data removed]",
      "text/plain": [
       "<Figure size 432x288 with 1 Axes>"
      ]
     },
     "metadata": {
      "needs_background": "light"
     },
     "output_type": "display_data"
    }
   ],
   "source": [
    "plt.imshow(result2)"
   ]
  },
  {
   "cell_type": "code",
   "execution_count": 13,
   "id": "1123d808",
   "metadata": {},
   "outputs": [
    {
     "data": {
      "text/plain": [
       "<matplotlib.image.AxesImage at 0x7f3ee9576a30>"
      ]
     },
     "execution_count": 13,
     "metadata": {},
     "output_type": "execute_result"
    },
    {
     "data": {
      "image/png": "[encoded data removed]",
      "text/plain": [
       "<Figure size 432x288 with 1 Axes>"
      ]
     },
     "metadata": {
      "needs_background": "light"
     },
     "output_type": "display_data"
    }
   ],
   "source": [
    "plt.imshow(bn)"
   ]
  },
  {
   "cell_type": "code",
   "execution_count": 152,
   "id": "e368bc3f",
   "metadata": {},
   "outputs": [
    {
     "data": {
      "text/plain": [
       "<matplotlib.image.AxesImage at 0x7f716f659430>"
      ]
     },
     "execution_count": 152,
     "metadata": {},
     "output_type": "execute_result"
    },
    {
     "data": {
      "image/png": "[encoded data removed]",
      "text/plain": [
       "<Figure size 432x288 with 1 Axes>"
      ]
     },
     "metadata": {
      "needs_background": "light"
     },
     "output_type": "display_data"
    }
   ],
   "source": [
    "plt.imshow(bn)"
   ]
  },
  {
   "cell_type": "code",
   "execution_count": 153,
   "id": "ed222c37",
   "metadata": {},
   "outputs": [],
   "source": [
    "values,counts=np.unique(bn,return_counts=True)"
   ]
  },
  {
   "cell_type": "code",
   "execution_count": 154,
   "id": "263432df",
   "metadata": {},
   "outputs": [
    {
     "data": {
      "text/plain": [
       "array([  0,  17,  20,  32,  42,  44,  48,  52,  67,  80,  85,  92, 105,\n",
       "       109, 118, 154, 163, 175, 184, 192, 195, 199, 200, 229, 250, 251],\n",
       "      dtype=uint8)"
      ]
     },
     "execution_count": 154,
     "metadata": {},
     "output_type": "execute_result"
    }
   ],
   "source": [
    "values"
   ]
  },
  {
   "cell_type": "code",
   "execution_count": 156,
   "id": "672acfe8",
   "metadata": {},
   "outputs": [
    {
     "data": {
      "text/plain": [
       "26"
      ]
     },
     "execution_count": 156,
     "metadata": {},
     "output_type": "execute_result"
    }
   ],
   "source": [
    "len(values)"
   ]
  },
  {
   "cell_type": "code",
   "execution_count": 174,
   "id": "102ae0d0",
   "metadata": {},
   "outputs": [
    {
     "data": {
      "text/plain": [
       "'/home/saab/Desktop/SGH_IMCB_NTU_Main/Processed_Data/IoU/Same_Slide/15thOct/Train'"
      ]
     },
     "execution_count": 174,
     "metadata": {},
     "output_type": "execute_result"
    }
   ],
   "source": [
    "path2"
   ]
  },
  {
   "cell_type": "code",
   "execution_count": null,
   "id": "0780c8a0",
   "metadata": {},
   "outputs": [],
   "source": []
  }
 ],
 "metadata": {
  "kernelspec": {
   "display_name": "Python 3 (ipykernel)",
   "language": "python",
   "name": "python3"
  },
  "language_info": {
   "codemirror_mode": {
    "name": "ipython",
    "version": 3
   },
   "file_extension": ".py",
   "mimetype": "text/x-python",
   "name": "python",
   "nbconvert_exporter": "python",
   "pygments_lexer": "ipython3",
   "version": "3.9.7"
  }
 },
 "nbformat": 4,
 "nbformat_minor": 5
}
